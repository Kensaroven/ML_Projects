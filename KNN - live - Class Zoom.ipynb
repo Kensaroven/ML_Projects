{
 "cells": [
  {
   "cell_type": "code",
   "execution_count": 1,
   "id": "c833e34a",
   "metadata": {},
   "outputs": [],
   "source": [
    "import pandas as pd\n",
    "import numpy as np\n",
    "import matplotlib.pyplot as plt\n",
    "from sklearn.preprocessing import StandardScaler "
   ]
  },
  {
   "cell_type": "code",
   "execution_count": 3,
   "id": "e183dd7c",
   "metadata": {},
   "outputs": [],
   "source": [
    "from sklearn.model_selection import train_test_split\n",
    "from sklearn.model_selection import KFold\n",
    "from sklearn.model_selection import cross_val_score\n",
    "from sklearn.model_selection import GridSearchCV\n",
    "from sklearn.neighbors import KNeighborsRegressor\n",
    "from sklearn.metrics import mean_squared_error "
   ]
  },
  {
   "cell_type": "code",
   "execution_count": 36,
   "id": "326f838c",
   "metadata": {},
   "outputs": [],
   "source": [
    "filename = 'housing.data'"
   ]
  },
  {
   "cell_type": "code",
   "execution_count": 19,
   "id": "14fc020d",
   "metadata": {},
   "outputs": [],
   "source": [
    "names = ['CRIM','ZN','INDUS','CHAS','NOX','RM','AGE','DIS','RAD','TAX','PTRATIO','B','LSTAT','MEDV']"
   ]
  },
  {
   "cell_type": "code",
   "execution_count": 39,
   "id": "7580a297",
   "metadata": {
    "scrolled": true
   },
   "outputs": [],
   "source": [
    "dataset = pd.read_csv(filename, names = names)"
   ]
  },
  {
   "cell_type": "code",
   "execution_count": 40,
   "id": "959b5ccf",
   "metadata": {
    "scrolled": true
   },
   "outputs": [
    {
     "data": {
      "text/html": [
       "<div>\n",
       "<style scoped>\n",
       "    .dataframe tbody tr th:only-of-type {\n",
       "        vertical-align: middle;\n",
       "    }\n",
       "\n",
       "    .dataframe tbody tr th {\n",
       "        vertical-align: top;\n",
       "    }\n",
       "\n",
       "    .dataframe thead th {\n",
       "        text-align: right;\n",
       "    }\n",
       "</style>\n",
       "<table border=\"1\" class=\"dataframe\">\n",
       "  <thead>\n",
       "    <tr style=\"text-align: right;\">\n",
       "      <th></th>\n",
       "      <th>CRIM</th>\n",
       "      <th>ZN</th>\n",
       "      <th>INDUS</th>\n",
       "      <th>CHAS</th>\n",
       "      <th>NOX</th>\n",
       "      <th>RM</th>\n",
       "      <th>AGE</th>\n",
       "      <th>DIS</th>\n",
       "      <th>RAD</th>\n",
       "      <th>TAX</th>\n",
       "      <th>PTRATIO</th>\n",
       "      <th>B</th>\n",
       "      <th>LSTAT</th>\n",
       "      <th>MEDV</th>\n",
       "    </tr>\n",
       "  </thead>\n",
       "  <tbody>\n",
       "    <tr>\n",
       "      <th>0</th>\n",
       "      <td>0.00632  18.00   2.310  0  0.5380  6.5750  65...</td>\n",
       "      <td>NaN</td>\n",
       "      <td>NaN</td>\n",
       "      <td>NaN</td>\n",
       "      <td>NaN</td>\n",
       "      <td>NaN</td>\n",
       "      <td>NaN</td>\n",
       "      <td>NaN</td>\n",
       "      <td>NaN</td>\n",
       "      <td>NaN</td>\n",
       "      <td>NaN</td>\n",
       "      <td>NaN</td>\n",
       "      <td>NaN</td>\n",
       "      <td>NaN</td>\n",
       "    </tr>\n",
       "    <tr>\n",
       "      <th>1</th>\n",
       "      <td>0.02731   0.00   7.070  0  0.4690  6.4210  78...</td>\n",
       "      <td>NaN</td>\n",
       "      <td>NaN</td>\n",
       "      <td>NaN</td>\n",
       "      <td>NaN</td>\n",
       "      <td>NaN</td>\n",
       "      <td>NaN</td>\n",
       "      <td>NaN</td>\n",
       "      <td>NaN</td>\n",
       "      <td>NaN</td>\n",
       "      <td>NaN</td>\n",
       "      <td>NaN</td>\n",
       "      <td>NaN</td>\n",
       "      <td>NaN</td>\n",
       "    </tr>\n",
       "    <tr>\n",
       "      <th>2</th>\n",
       "      <td>0.02729   0.00   7.070  0  0.4690  7.1850  61...</td>\n",
       "      <td>NaN</td>\n",
       "      <td>NaN</td>\n",
       "      <td>NaN</td>\n",
       "      <td>NaN</td>\n",
       "      <td>NaN</td>\n",
       "      <td>NaN</td>\n",
       "      <td>NaN</td>\n",
       "      <td>NaN</td>\n",
       "      <td>NaN</td>\n",
       "      <td>NaN</td>\n",
       "      <td>NaN</td>\n",
       "      <td>NaN</td>\n",
       "      <td>NaN</td>\n",
       "    </tr>\n",
       "    <tr>\n",
       "      <th>3</th>\n",
       "      <td>0.03237   0.00   2.180  0  0.4580  6.9980  45...</td>\n",
       "      <td>NaN</td>\n",
       "      <td>NaN</td>\n",
       "      <td>NaN</td>\n",
       "      <td>NaN</td>\n",
       "      <td>NaN</td>\n",
       "      <td>NaN</td>\n",
       "      <td>NaN</td>\n",
       "      <td>NaN</td>\n",
       "      <td>NaN</td>\n",
       "      <td>NaN</td>\n",
       "      <td>NaN</td>\n",
       "      <td>NaN</td>\n",
       "      <td>NaN</td>\n",
       "    </tr>\n",
       "    <tr>\n",
       "      <th>4</th>\n",
       "      <td>0.06905   0.00   2.180  0  0.4580  7.1470  54...</td>\n",
       "      <td>NaN</td>\n",
       "      <td>NaN</td>\n",
       "      <td>NaN</td>\n",
       "      <td>NaN</td>\n",
       "      <td>NaN</td>\n",
       "      <td>NaN</td>\n",
       "      <td>NaN</td>\n",
       "      <td>NaN</td>\n",
       "      <td>NaN</td>\n",
       "      <td>NaN</td>\n",
       "      <td>NaN</td>\n",
       "      <td>NaN</td>\n",
       "      <td>NaN</td>\n",
       "    </tr>\n",
       "    <tr>\n",
       "      <th>...</th>\n",
       "      <td>...</td>\n",
       "      <td>...</td>\n",
       "      <td>...</td>\n",
       "      <td>...</td>\n",
       "      <td>...</td>\n",
       "      <td>...</td>\n",
       "      <td>...</td>\n",
       "      <td>...</td>\n",
       "      <td>...</td>\n",
       "      <td>...</td>\n",
       "      <td>...</td>\n",
       "      <td>...</td>\n",
       "      <td>...</td>\n",
       "      <td>...</td>\n",
       "    </tr>\n",
       "    <tr>\n",
       "      <th>501</th>\n",
       "      <td>0.06263   0.00  11.930  0  0.5730  6.5930  69...</td>\n",
       "      <td>NaN</td>\n",
       "      <td>NaN</td>\n",
       "      <td>NaN</td>\n",
       "      <td>NaN</td>\n",
       "      <td>NaN</td>\n",
       "      <td>NaN</td>\n",
       "      <td>NaN</td>\n",
       "      <td>NaN</td>\n",
       "      <td>NaN</td>\n",
       "      <td>NaN</td>\n",
       "      <td>NaN</td>\n",
       "      <td>NaN</td>\n",
       "      <td>NaN</td>\n",
       "    </tr>\n",
       "    <tr>\n",
       "      <th>502</th>\n",
       "      <td>0.04527   0.00  11.930  0  0.5730  6.1200  76...</td>\n",
       "      <td>NaN</td>\n",
       "      <td>NaN</td>\n",
       "      <td>NaN</td>\n",
       "      <td>NaN</td>\n",
       "      <td>NaN</td>\n",
       "      <td>NaN</td>\n",
       "      <td>NaN</td>\n",
       "      <td>NaN</td>\n",
       "      <td>NaN</td>\n",
       "      <td>NaN</td>\n",
       "      <td>NaN</td>\n",
       "      <td>NaN</td>\n",
       "      <td>NaN</td>\n",
       "    </tr>\n",
       "    <tr>\n",
       "      <th>503</th>\n",
       "      <td>0.06076   0.00  11.930  0  0.5730  6.9760  91...</td>\n",
       "      <td>NaN</td>\n",
       "      <td>NaN</td>\n",
       "      <td>NaN</td>\n",
       "      <td>NaN</td>\n",
       "      <td>NaN</td>\n",
       "      <td>NaN</td>\n",
       "      <td>NaN</td>\n",
       "      <td>NaN</td>\n",
       "      <td>NaN</td>\n",
       "      <td>NaN</td>\n",
       "      <td>NaN</td>\n",
       "      <td>NaN</td>\n",
       "      <td>NaN</td>\n",
       "    </tr>\n",
       "    <tr>\n",
       "      <th>504</th>\n",
       "      <td>0.10959   0.00  11.930  0  0.5730  6.7940  89...</td>\n",
       "      <td>NaN</td>\n",
       "      <td>NaN</td>\n",
       "      <td>NaN</td>\n",
       "      <td>NaN</td>\n",
       "      <td>NaN</td>\n",
       "      <td>NaN</td>\n",
       "      <td>NaN</td>\n",
       "      <td>NaN</td>\n",
       "      <td>NaN</td>\n",
       "      <td>NaN</td>\n",
       "      <td>NaN</td>\n",
       "      <td>NaN</td>\n",
       "      <td>NaN</td>\n",
       "    </tr>\n",
       "    <tr>\n",
       "      <th>505</th>\n",
       "      <td>0.04741   0.00  11.930  0  0.5730  6.0300  80...</td>\n",
       "      <td>NaN</td>\n",
       "      <td>NaN</td>\n",
       "      <td>NaN</td>\n",
       "      <td>NaN</td>\n",
       "      <td>NaN</td>\n",
       "      <td>NaN</td>\n",
       "      <td>NaN</td>\n",
       "      <td>NaN</td>\n",
       "      <td>NaN</td>\n",
       "      <td>NaN</td>\n",
       "      <td>NaN</td>\n",
       "      <td>NaN</td>\n",
       "      <td>NaN</td>\n",
       "    </tr>\n",
       "  </tbody>\n",
       "</table>\n",
       "<p>506 rows × 14 columns</p>\n",
       "</div>"
      ],
      "text/plain": [
       "                                                  CRIM  ZN  INDUS  CHAS  NOX  \\\n",
       "0     0.00632  18.00   2.310  0  0.5380  6.5750  65... NaN    NaN   NaN  NaN   \n",
       "1     0.02731   0.00   7.070  0  0.4690  6.4210  78... NaN    NaN   NaN  NaN   \n",
       "2     0.02729   0.00   7.070  0  0.4690  7.1850  61... NaN    NaN   NaN  NaN   \n",
       "3     0.03237   0.00   2.180  0  0.4580  6.9980  45... NaN    NaN   NaN  NaN   \n",
       "4     0.06905   0.00   2.180  0  0.4580  7.1470  54... NaN    NaN   NaN  NaN   \n",
       "..                                                 ...  ..    ...   ...  ...   \n",
       "501   0.06263   0.00  11.930  0  0.5730  6.5930  69... NaN    NaN   NaN  NaN   \n",
       "502   0.04527   0.00  11.930  0  0.5730  6.1200  76... NaN    NaN   NaN  NaN   \n",
       "503   0.06076   0.00  11.930  0  0.5730  6.9760  91... NaN    NaN   NaN  NaN   \n",
       "504   0.10959   0.00  11.930  0  0.5730  6.7940  89... NaN    NaN   NaN  NaN   \n",
       "505   0.04741   0.00  11.930  0  0.5730  6.0300  80... NaN    NaN   NaN  NaN   \n",
       "\n",
       "     RM  AGE  DIS  RAD  TAX  PTRATIO   B  LSTAT  MEDV  \n",
       "0   NaN  NaN  NaN  NaN  NaN      NaN NaN    NaN   NaN  \n",
       "1   NaN  NaN  NaN  NaN  NaN      NaN NaN    NaN   NaN  \n",
       "2   NaN  NaN  NaN  NaN  NaN      NaN NaN    NaN   NaN  \n",
       "3   NaN  NaN  NaN  NaN  NaN      NaN NaN    NaN   NaN  \n",
       "4   NaN  NaN  NaN  NaN  NaN      NaN NaN    NaN   NaN  \n",
       "..   ..  ...  ...  ...  ...      ...  ..    ...   ...  \n",
       "501 NaN  NaN  NaN  NaN  NaN      NaN NaN    NaN   NaN  \n",
       "502 NaN  NaN  NaN  NaN  NaN      NaN NaN    NaN   NaN  \n",
       "503 NaN  NaN  NaN  NaN  NaN      NaN NaN    NaN   NaN  \n",
       "504 NaN  NaN  NaN  NaN  NaN      NaN NaN    NaN   NaN  \n",
       "505 NaN  NaN  NaN  NaN  NaN      NaN NaN    NaN   NaN  \n",
       "\n",
       "[506 rows x 14 columns]"
      ]
     },
     "execution_count": 40,
     "metadata": {},
     "output_type": "execute_result"
    }
   ],
   "source": [
    "dataset"
   ]
  },
  {
   "cell_type": "code",
   "execution_count": 21,
   "id": "27bffdb4",
   "metadata": {},
   "outputs": [],
   "source": [
    "array = dataset.values"
   ]
  },
  {
   "cell_type": "code",
   "execution_count": 22,
   "id": "1743d27a",
   "metadata": {},
   "outputs": [],
   "source": [
    "X = array[:,0:13]"
   ]
  },
  {
   "cell_type": "code",
   "execution_count": 23,
   "id": "0041427a",
   "metadata": {},
   "outputs": [],
   "source": [
    "y = array[:,-1]"
   ]
  },
  {
   "cell_type": "code",
   "execution_count": 24,
   "id": "2c485a05",
   "metadata": {},
   "outputs": [],
   "source": [
    "X = dataset.iloc[:,0:13]"
   ]
  },
  {
   "cell_type": "code",
   "execution_count": 25,
   "id": "c4171768",
   "metadata": {},
   "outputs": [],
   "source": [
    "y = dataset.iloc[:,-1]"
   ]
  },
  {
   "cell_type": "code",
   "execution_count": 26,
   "id": "8398084c",
   "metadata": {
    "scrolled": true
   },
   "outputs": [
    {
     "data": {
      "text/html": [
       "<div>\n",
       "<style scoped>\n",
       "    .dataframe tbody tr th:only-of-type {\n",
       "        vertical-align: middle;\n",
       "    }\n",
       "\n",
       "    .dataframe tbody tr th {\n",
       "        vertical-align: top;\n",
       "    }\n",
       "\n",
       "    .dataframe thead th {\n",
       "        text-align: right;\n",
       "    }\n",
       "</style>\n",
       "<table border=\"1\" class=\"dataframe\">\n",
       "  <thead>\n",
       "    <tr style=\"text-align: right;\">\n",
       "      <th></th>\n",
       "      <th>CRIM</th>\n",
       "      <th>ZN</th>\n",
       "      <th>INDUS</th>\n",
       "      <th>CHAS</th>\n",
       "      <th>NOX</th>\n",
       "      <th>RM</th>\n",
       "      <th>AGE</th>\n",
       "      <th>DIS</th>\n",
       "      <th>RAD</th>\n",
       "      <th>TAX</th>\n",
       "      <th>PTRATIO</th>\n",
       "      <th>B</th>\n",
       "      <th>LSTAT</th>\n",
       "    </tr>\n",
       "  </thead>\n",
       "  <tbody>\n",
       "    <tr>\n",
       "      <th>0</th>\n",
       "      <td>0.00632  18.00   2.310  0  0.5380  6.5750  65...</td>\n",
       "      <td>NaN</td>\n",
       "      <td>NaN</td>\n",
       "      <td>NaN</td>\n",
       "      <td>NaN</td>\n",
       "      <td>NaN</td>\n",
       "      <td>NaN</td>\n",
       "      <td>NaN</td>\n",
       "      <td>NaN</td>\n",
       "      <td>NaN</td>\n",
       "      <td>NaN</td>\n",
       "      <td>NaN</td>\n",
       "      <td>NaN</td>\n",
       "    </tr>\n",
       "    <tr>\n",
       "      <th>1</th>\n",
       "      <td>0.02731   0.00   7.070  0  0.4690  6.4210  78...</td>\n",
       "      <td>NaN</td>\n",
       "      <td>NaN</td>\n",
       "      <td>NaN</td>\n",
       "      <td>NaN</td>\n",
       "      <td>NaN</td>\n",
       "      <td>NaN</td>\n",
       "      <td>NaN</td>\n",
       "      <td>NaN</td>\n",
       "      <td>NaN</td>\n",
       "      <td>NaN</td>\n",
       "      <td>NaN</td>\n",
       "      <td>NaN</td>\n",
       "    </tr>\n",
       "    <tr>\n",
       "      <th>2</th>\n",
       "      <td>0.02729   0.00   7.070  0  0.4690  7.1850  61...</td>\n",
       "      <td>NaN</td>\n",
       "      <td>NaN</td>\n",
       "      <td>NaN</td>\n",
       "      <td>NaN</td>\n",
       "      <td>NaN</td>\n",
       "      <td>NaN</td>\n",
       "      <td>NaN</td>\n",
       "      <td>NaN</td>\n",
       "      <td>NaN</td>\n",
       "      <td>NaN</td>\n",
       "      <td>NaN</td>\n",
       "      <td>NaN</td>\n",
       "    </tr>\n",
       "    <tr>\n",
       "      <th>3</th>\n",
       "      <td>0.03237   0.00   2.180  0  0.4580  6.9980  45...</td>\n",
       "      <td>NaN</td>\n",
       "      <td>NaN</td>\n",
       "      <td>NaN</td>\n",
       "      <td>NaN</td>\n",
       "      <td>NaN</td>\n",
       "      <td>NaN</td>\n",
       "      <td>NaN</td>\n",
       "      <td>NaN</td>\n",
       "      <td>NaN</td>\n",
       "      <td>NaN</td>\n",
       "      <td>NaN</td>\n",
       "      <td>NaN</td>\n",
       "    </tr>\n",
       "    <tr>\n",
       "      <th>4</th>\n",
       "      <td>0.06905   0.00   2.180  0  0.4580  7.1470  54...</td>\n",
       "      <td>NaN</td>\n",
       "      <td>NaN</td>\n",
       "      <td>NaN</td>\n",
       "      <td>NaN</td>\n",
       "      <td>NaN</td>\n",
       "      <td>NaN</td>\n",
       "      <td>NaN</td>\n",
       "      <td>NaN</td>\n",
       "      <td>NaN</td>\n",
       "      <td>NaN</td>\n",
       "      <td>NaN</td>\n",
       "      <td>NaN</td>\n",
       "    </tr>\n",
       "    <tr>\n",
       "      <th>...</th>\n",
       "      <td>...</td>\n",
       "      <td>...</td>\n",
       "      <td>...</td>\n",
       "      <td>...</td>\n",
       "      <td>...</td>\n",
       "      <td>...</td>\n",
       "      <td>...</td>\n",
       "      <td>...</td>\n",
       "      <td>...</td>\n",
       "      <td>...</td>\n",
       "      <td>...</td>\n",
       "      <td>...</td>\n",
       "      <td>...</td>\n",
       "    </tr>\n",
       "    <tr>\n",
       "      <th>501</th>\n",
       "      <td>0.06263   0.00  11.930  0  0.5730  6.5930  69...</td>\n",
       "      <td>NaN</td>\n",
       "      <td>NaN</td>\n",
       "      <td>NaN</td>\n",
       "      <td>NaN</td>\n",
       "      <td>NaN</td>\n",
       "      <td>NaN</td>\n",
       "      <td>NaN</td>\n",
       "      <td>NaN</td>\n",
       "      <td>NaN</td>\n",
       "      <td>NaN</td>\n",
       "      <td>NaN</td>\n",
       "      <td>NaN</td>\n",
       "    </tr>\n",
       "    <tr>\n",
       "      <th>502</th>\n",
       "      <td>0.04527   0.00  11.930  0  0.5730  6.1200  76...</td>\n",
       "      <td>NaN</td>\n",
       "      <td>NaN</td>\n",
       "      <td>NaN</td>\n",
       "      <td>NaN</td>\n",
       "      <td>NaN</td>\n",
       "      <td>NaN</td>\n",
       "      <td>NaN</td>\n",
       "      <td>NaN</td>\n",
       "      <td>NaN</td>\n",
       "      <td>NaN</td>\n",
       "      <td>NaN</td>\n",
       "      <td>NaN</td>\n",
       "    </tr>\n",
       "    <tr>\n",
       "      <th>503</th>\n",
       "      <td>0.06076   0.00  11.930  0  0.5730  6.9760  91...</td>\n",
       "      <td>NaN</td>\n",
       "      <td>NaN</td>\n",
       "      <td>NaN</td>\n",
       "      <td>NaN</td>\n",
       "      <td>NaN</td>\n",
       "      <td>NaN</td>\n",
       "      <td>NaN</td>\n",
       "      <td>NaN</td>\n",
       "      <td>NaN</td>\n",
       "      <td>NaN</td>\n",
       "      <td>NaN</td>\n",
       "      <td>NaN</td>\n",
       "    </tr>\n",
       "    <tr>\n",
       "      <th>504</th>\n",
       "      <td>0.10959   0.00  11.930  0  0.5730  6.7940  89...</td>\n",
       "      <td>NaN</td>\n",
       "      <td>NaN</td>\n",
       "      <td>NaN</td>\n",
       "      <td>NaN</td>\n",
       "      <td>NaN</td>\n",
       "      <td>NaN</td>\n",
       "      <td>NaN</td>\n",
       "      <td>NaN</td>\n",
       "      <td>NaN</td>\n",
       "      <td>NaN</td>\n",
       "      <td>NaN</td>\n",
       "      <td>NaN</td>\n",
       "    </tr>\n",
       "    <tr>\n",
       "      <th>505</th>\n",
       "      <td>0.04741   0.00  11.930  0  0.5730  6.0300  80...</td>\n",
       "      <td>NaN</td>\n",
       "      <td>NaN</td>\n",
       "      <td>NaN</td>\n",
       "      <td>NaN</td>\n",
       "      <td>NaN</td>\n",
       "      <td>NaN</td>\n",
       "      <td>NaN</td>\n",
       "      <td>NaN</td>\n",
       "      <td>NaN</td>\n",
       "      <td>NaN</td>\n",
       "      <td>NaN</td>\n",
       "      <td>NaN</td>\n",
       "    </tr>\n",
       "  </tbody>\n",
       "</table>\n",
       "<p>506 rows × 13 columns</p>\n",
       "</div>"
      ],
      "text/plain": [
       "                                                  CRIM  ZN  INDUS  CHAS  NOX  \\\n",
       "0     0.00632  18.00   2.310  0  0.5380  6.5750  65... NaN    NaN   NaN  NaN   \n",
       "1     0.02731   0.00   7.070  0  0.4690  6.4210  78... NaN    NaN   NaN  NaN   \n",
       "2     0.02729   0.00   7.070  0  0.4690  7.1850  61... NaN    NaN   NaN  NaN   \n",
       "3     0.03237   0.00   2.180  0  0.4580  6.9980  45... NaN    NaN   NaN  NaN   \n",
       "4     0.06905   0.00   2.180  0  0.4580  7.1470  54... NaN    NaN   NaN  NaN   \n",
       "..                                                 ...  ..    ...   ...  ...   \n",
       "501   0.06263   0.00  11.930  0  0.5730  6.5930  69... NaN    NaN   NaN  NaN   \n",
       "502   0.04527   0.00  11.930  0  0.5730  6.1200  76... NaN    NaN   NaN  NaN   \n",
       "503   0.06076   0.00  11.930  0  0.5730  6.9760  91... NaN    NaN   NaN  NaN   \n",
       "504   0.10959   0.00  11.930  0  0.5730  6.7940  89... NaN    NaN   NaN  NaN   \n",
       "505   0.04741   0.00  11.930  0  0.5730  6.0300  80... NaN    NaN   NaN  NaN   \n",
       "\n",
       "     RM  AGE  DIS  RAD  TAX  PTRATIO   B  LSTAT  \n",
       "0   NaN  NaN  NaN  NaN  NaN      NaN NaN    NaN  \n",
       "1   NaN  NaN  NaN  NaN  NaN      NaN NaN    NaN  \n",
       "2   NaN  NaN  NaN  NaN  NaN      NaN NaN    NaN  \n",
       "3   NaN  NaN  NaN  NaN  NaN      NaN NaN    NaN  \n",
       "4   NaN  NaN  NaN  NaN  NaN      NaN NaN    NaN  \n",
       "..   ..  ...  ...  ...  ...      ...  ..    ...  \n",
       "501 NaN  NaN  NaN  NaN  NaN      NaN NaN    NaN  \n",
       "502 NaN  NaN  NaN  NaN  NaN      NaN NaN    NaN  \n",
       "503 NaN  NaN  NaN  NaN  NaN      NaN NaN    NaN  \n",
       "504 NaN  NaN  NaN  NaN  NaN      NaN NaN    NaN  \n",
       "505 NaN  NaN  NaN  NaN  NaN      NaN NaN    NaN  \n",
       "\n",
       "[506 rows x 13 columns]"
      ]
     },
     "execution_count": 26,
     "metadata": {},
     "output_type": "execute_result"
    }
   ],
   "source": [
    "X"
   ]
  },
  {
   "cell_type": "code",
   "execution_count": null,
   "id": "e1f8b5ae",
   "metadata": {},
   "outputs": [],
   "source": [
    "test_size = 0.20"
   ]
  },
  {
   "cell_type": "code",
   "execution_count": null,
   "id": "802a617b",
   "metadata": {},
   "outputs": [],
   "source": [
    "seed = 42"
   ]
  },
  {
   "cell_type": "code",
   "execution_count": null,
   "id": "8c71217f",
   "metadata": {},
   "outputs": [],
   "source": [
    "X_train, X_test, y_train, y_test = train_test_split(X, y, test_size = test_sixze, random_state = seed)"
   ]
  },
  {
   "cell_type": "code",
   "execution_count": null,
   "id": "e767ac13",
   "metadata": {},
   "outputs": [],
   "source": [
    "num_folds = 10\n",
    "seed = 42"
   ]
  },
  {
   "cell_type": "code",
   "execution_count": null,
   "id": "6e41a48c",
   "metadata": {},
   "outputs": [],
   "source": [
    "scoring = 'neg_mean_squared_error'"
   ]
  },
  {
   "cell_type": "code",
   "execution_count": null,
   "id": "1ae55986",
   "metadata": {},
   "outputs": [],
   "source": [
    "model = KNeighborsRegressor()"
   ]
  },
  {
   "cell_type": "code",
   "execution_count": null,
   "id": "0d1efffd",
   "metadata": {},
   "outputs": [],
   "source": [
    "kfold = KFold(n_splits = num_folds, shuffle = False)\n",
    "\n",
    "#shuffle = True, random_state = seed"
   ]
  },
  {
   "cell_type": "code",
   "execution_count": null,
   "id": "c9777a67",
   "metadata": {},
   "outputs": [],
   "source": [
    "kfold.get_n_splits(X_train)"
   ]
  },
  {
   "cell_type": "code",
   "execution_count": null,
   "id": "131d768a",
   "metadata": {},
   "outputs": [],
   "source": [
    "print(kfold)"
   ]
  },
  {
   "cell_type": "code",
   "execution_count": null,
   "id": "200b9077",
   "metadata": {},
   "outputs": [],
   "source": [
    "for train_index, validate_index in kfold.split(X_train):\n",
    "    print(\"TRAIN:\", train_index, \"VALIDATE:\", validate_index)"
   ]
  },
  {
   "cell_type": "code",
   "execution_count": null,
   "id": "4c05202b",
   "metadata": {},
   "outputs": [],
   "source": [
    "cv_results = cross_val_score(model, X_train, y_train, cv = kfold, scoring = scoring)"
   ]
  },
  {
   "cell_type": "code",
   "execution_count": null,
   "id": "22dbcc4a",
   "metadata": {},
   "outputs": [],
   "source": [
    "msg = \"KNN: %f (%f)\" % (cv_results.mean(), cv_results.std())\n",
    "print(msg)"
   ]
  },
  {
   "cell_type": "code",
   "execution_count": null,
   "id": "f7783b40",
   "metadata": {},
   "outputs": [],
   "source": [
    "cv_results"
   ]
  },
  {
   "cell_type": "code",
   "execution_count": null,
   "id": "a7b06626",
   "metadata": {},
   "outputs": [],
   "source": [
    "scaler = StandardScaler().fit(X_train)"
   ]
  },
  {
   "cell_type": "code",
   "execution_count": null,
   "id": "c58ac922",
   "metadata": {},
   "outputs": [],
   "source": [
    "rescaled_X_train = scaler.transform(X_train)"
   ]
  },
  {
   "cell_type": "code",
   "execution_count": null,
   "id": "0f0637ca",
   "metadata": {},
   "outputs": [],
   "source": [
    "k_values = np.arange(1,22)"
   ]
  },
  {
   "cell_type": "code",
   "execution_count": null,
   "id": "9cf4e49f",
   "metadata": {},
   "outputs": [],
   "source": [
    "param_grid = dict(n_neighbors=k_values)"
   ]
  },
  {
   "cell_type": "code",
   "execution_count": null,
   "id": "129e5fd2",
   "metadata": {},
   "outputs": [],
   "source": [
    "model = KNeighborsRegressor()"
   ]
  },
  {
   "cell_type": "code",
   "execution_count": null,
   "id": "b5d903a5",
   "metadata": {},
   "outputs": [],
   "source": [
    "kfold = KFold(n_splits = num_folds, shuffle=True, random_state = seed)"
   ]
  },
  {
   "cell_type": "code",
   "execution_count": null,
   "id": "9e40cf9c",
   "metadata": {},
   "outputs": [],
   "source": [
    "grid = GridSearchCV(estimator=model, param_grid = param_grid, scoring = scoring, cv = kfold)"
   ]
  },
  {
   "cell_type": "code",
   "execution_count": null,
   "id": "bb366fdb",
   "metadata": {},
   "outputs": [],
   "source": [
    "grid_result = grid.fit(rescaled_X_train, y_train)"
   ]
  },
  {
   "cell_type": "code",
   "execution_count": null,
   "id": "8c0b739e",
   "metadata": {},
   "outputs": [],
   "source": [
    "print(\"Best: %f using %s\" %(grid_result.best_score_, grid_result.best_params_)"
   ]
  },
  {
   "cell_type": "code",
   "execution_count": null,
   "id": "2f184f8f",
   "metadata": {},
   "outputs": [],
   "source": [
    "means = grid_result.cv_results_['mean_test_score']"
   ]
  },
  {
   "cell_type": "code",
   "execution_count": null,
   "id": "12bd8243",
   "metadata": {},
   "outputs": [],
   "source": [
    "stds = grid_result.cv_results_['std_test_score']"
   ]
  },
  {
   "cell_type": "code",
   "execution_count": null,
   "id": "3adad78f",
   "metadata": {},
   "outputs": [],
   "source": [
    "params = grid_result.cv_results_['params']"
   ]
  },
  {
   "cell_type": "code",
   "execution_count": null,
   "id": "f17bbb34",
   "metadata": {},
   "outputs": [],
   "source": [
    "for mean, stds, params in zip(means, stds, params):\n",
    "    print(\"%f (%f) with: %r\" % (mean, stds, params))"
   ]
  },
  {
   "cell_type": "code",
   "execution_count": null,
   "id": "946f7d28",
   "metadata": {},
   "outputs": [],
   "source": [
    "plt.plot(k_values, means)\n",
    "plt.xlabel(\"Number of neighbors K\")\n",
    "plt.ylabel(\"Negative MSE\")"
   ]
  },
  {
   "cell_type": "code",
   "execution_count": null,
   "id": "15194620",
   "metadata": {},
   "outputs": [],
   "source": [
    "scaler = StandardScaler().fit(X_train)"
   ]
  },
  {
   "cell_type": "code",
   "execution_count": null,
   "id": "674f2aa2",
   "metadata": {},
   "outputs": [],
   "source": [
    "rescaled_X_train = scaler.transform(X_train)"
   ]
  },
  {
   "cell_type": "code",
   "execution_count": null,
   "id": "cf13cd27",
   "metadata": {},
   "outputs": [],
   "source": [
    "model = KNeighborsRegressor(n_neighbors = 2)"
   ]
  },
  {
   "cell_type": "code",
   "execution_count": null,
   "id": "ab0decba",
   "metadata": {},
   "outputs": [],
   "source": [
    "model.fit(rescaled_X_train, y_train)"
   ]
  },
  {
   "cell_type": "code",
   "execution_count": null,
   "id": "3efdc517",
   "metadata": {},
   "outputs": [],
   "source": [
    "rescaled_X_test = scaler.transform(X_test)"
   ]
  },
  {
   "cell_type": "code",
   "execution_count": null,
   "id": "84aa9d6e",
   "metadata": {},
   "outputs": [],
   "source": [
    "estimates = model.predict(rescaled_X_test)"
   ]
  },
  {
   "cell_type": "code",
   "execution_count": null,
   "id": "198e1766",
   "metadata": {},
   "outputs": [],
   "source": [
    "estimates"
   ]
  },
  {
   "cell_type": "code",
   "execution_count": null,
   "id": "6cdcbda5",
   "metadata": {},
   "outputs": [],
   "source": [
    "y_test"
   ]
  },
  {
   "cell_type": "code",
   "execution_count": null,
   "id": "4d1398fa",
   "metadata": {},
   "outputs": [],
   "source": [
    "mean_squared_error(y_test, estimates)"
   ]
  },
  {
   "cell_type": "code",
   "execution_count": null,
   "id": "bcc739fa",
   "metadata": {},
   "outputs": [],
   "source": []
  },
  {
   "cell_type": "code",
   "execution_count": null,
   "id": "342ddb74",
   "metadata": {},
   "outputs": [],
   "source": []
  }
 ],
 "metadata": {
  "kernelspec": {
   "display_name": "Python 3 (ipykernel)",
   "language": "python",
   "name": "python3"
  },
  "language_info": {
   "codemirror_mode": {
    "name": "ipython",
    "version": 3
   },
   "file_extension": ".py",
   "mimetype": "text/x-python",
   "name": "python",
   "nbconvert_exporter": "python",
   "pygments_lexer": "ipython3",
   "version": "3.9.12"
  }
 },
 "nbformat": 4,
 "nbformat_minor": 5
}
