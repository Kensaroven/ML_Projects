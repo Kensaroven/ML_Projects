{
 "cells": [
  {
   "cell_type": "code",
   "execution_count": 1,
   "id": "8a0aa30c-1b08-476d-9a7c-5a8f2a6fd4c4",
   "metadata": {},
   "outputs": [],
   "source": [
    "import pandas as pd\n",
    "import matplotlib.pyplot as plt\n",
    "import seaborn as sns\n",
    "import numpy as np \n",
    "from scipy import stats"
   ]
  },
  {
   "cell_type": "code",
   "execution_count": 2,
   "id": "362b2053-7736-4d53-94c8-365cea97b673",
   "metadata": {},
   "outputs": [],
   "source": [
    "from sklearn.preprocessing import StandardScaler, MinMaxScaler\n",
    "from sklearn.model_selection import train_test_split\n",
    "from sklearn.model_selection import KFold\n",
    "from sklearn.model_selection import cross_val_score\n",
    "from sklearn.model_selection import GridSearchCV\n",
    "from sklearn.metrics import classification_report, roc_auc_score,plot_confusion_matrix, mean_squared_error\n",
    "from sklearn.metrics import confusion_matrix\n",
    "from sklearn.tree import DecisionTreeClassifier, export_graphviz, export_text\n",
    "import graphviz\n",
    "from dmba import classificationSummary\n",
    "import itertools\n",
    "pd.set_option('display.max_columns', None)"
   ]
  },
  {
   "cell_type": "code",
   "execution_count": 3,
   "id": "0f9b5feb-63eb-4650-8ed2-f42360dcbe26",
   "metadata": {},
   "outputs": [],
   "source": [
    "def plot_confusion_matrix_2(cm, \n",
    "                          normalize=False,\n",
    "                          title='Confusion matrix',\n",
    "                          #cmap=sns.diverging_palette(220,10,as_cmap=True)):\n",
    "                          cmap = 'Greys'):\n",
    "    \n",
    "    \"\"\"\n",
    "    This function prints and plots the confusion matrix.\n",
    "    Normalization can be applied by setting `normalize=True`.\n",
    "    \"\"\"\n",
    "    if normalize:\n",
    "        cm = cm.astype('float') / cm.sum(axis=1)[:, np.newaxis]\n",
    "        print(\"Normalized confusion matrix\")\n",
    "    else:\n",
    "        print('Confusion matrix, without normalization')\n",
    "\n",
    "    print(cm)\n",
    "\n",
    "    plt.imshow(cm, interpolation='nearest', cmap=cmap)\n",
    "    plt.title(title)\n",
    "    plt.colorbar()\n",
    "    tick_marks = np.arange(2)\n",
    "    plt.xticks(tick_marks, [\"Non competitive\",\"Competitive\"], rotation=45)\n",
    "    plt.yticks(tick_marks , [\"Non competitive\",\"Competitive\"])\n",
    "\n",
    "    fmt = '.2f' if normalize else 'd'\n",
    "    thresh = cm.max() / 2.\n",
    "    for i, j in itertools.product(range(cm.shape[0]), range(cm.shape[1])):\n",
    "        plt.text(j, i, format(cm[i, j], fmt),\n",
    "                 horizontalalignment=\"center\",\n",
    "                 color=\"white\" if cm[i, j] > thresh else \"black\")\n",
    "\n",
    "    plt.tight_layout()\n",
    "    plt.ylabel('True label')\n",
    "    plt.xlabel('Predicted label')\n",
    "    plt.show()\n",
    "    "
   ]
  },
  {
   "cell_type": "code",
   "execution_count": 4,
   "id": "63350c83-59f6-4676-bb9c-171ca275e419",
   "metadata": {},
   "outputs": [],
   "source": [
    "import warnings\n",
    "warnings.filterwarnings(\"ignore\")"
   ]
  },
  {
   "cell_type": "code",
   "execution_count": 5,
   "id": "b45425b9",
   "metadata": {},
   "outputs": [],
   "source": [
    "%matplotlib inline"
   ]
  },
  {
   "cell_type": "code",
   "execution_count": 6,
   "id": "8c85f2fc-f1cf-4aaa-be54-a22b9cb5a30b",
   "metadata": {},
   "outputs": [],
   "source": [
    "pd.set_option('display.max_rows', None)"
   ]
  },
  {
   "cell_type": "code",
   "execution_count": 7,
   "id": "f2ab96e0-90e3-46d8-b1b0-fd4904b76cb0",
   "metadata": {},
   "outputs": [],
   "source": [
    "df = pd.read_excel(\"ebayAuctions.xlsx\", sheet_name='eBay auctions')"
   ]
  },
  {
   "cell_type": "markdown",
   "id": "7814544d-7ca4-4bf6-be32-53d35745d3d3",
   "metadata": {
    "tags": []
   },
   "source": [
    "# 1) Data Preprocessing:  \n",
    "- Create dummy variables for the categorical predictors. \n",
    "- These include Category (18 categories), Currency (USD, GBP, Euro), EndDay (Monday–Sunday), and Duration (1, 3, 5, 7, or 10 days). \n",
    "- Perform any other preprocessing steps that you might consider to be necessary and explain briefly. "
   ]
  },
  {
   "cell_type": "code",
   "execution_count": 8,
   "id": "25b113f9-2ad3-429f-b7f3-13aae89ec2b0",
   "metadata": {},
   "outputs": [
    {
     "name": "stdout",
     "output_type": "stream",
     "text": [
      "<class 'pandas.core.frame.DataFrame'>\n",
      "RangeIndex: 1972 entries, 0 to 1971\n",
      "Data columns (total 8 columns):\n",
      " #   Column        Non-Null Count  Dtype  \n",
      "---  ------        --------------  -----  \n",
      " 0   Category      1972 non-null   object \n",
      " 1   Currency      1972 non-null   object \n",
      " 2   sellerRating  1972 non-null   int64  \n",
      " 3   Duration      1972 non-null   int64  \n",
      " 4   endDay        1972 non-null   object \n",
      " 5   ClosePrice    1972 non-null   float64\n",
      " 6   OpenPrice     1972 non-null   float64\n",
      " 7   Competitive?  1972 non-null   int64  \n",
      "dtypes: float64(2), int64(3), object(3)\n",
      "memory usage: 123.4+ KB\n"
     ]
    }
   ],
   "source": [
    "df.info()"
   ]
  },
  {
   "cell_type": "markdown",
   "id": "6192f9e6-0470-4a5c-b4a7-afe45a65853d",
   "metadata": {},
   "source": [
    "## a) Looking for outliers"
   ]
  },
  {
   "cell_type": "code",
   "execution_count": 9,
   "id": "1293824b-cdbd-415b-bef7-ab457a364f4e",
   "metadata": {},
   "outputs": [],
   "source": [
    "df_dtypes = df.dtypes.reset_index()"
   ]
  },
  {
   "cell_type": "code",
   "execution_count": 10,
   "id": "c03b875a-3c87-45d0-8a39-4501e81eb7ba",
   "metadata": {},
   "outputs": [
    {
     "name": "stdout",
     "output_type": "stream",
     "text": [
      "Feature: sellerRating\n"
     ]
    },
    {
     "data": {
      "text/plain": [
       "<AxesSubplot:xlabel='sellerRating'>"
      ]
     },
     "metadata": {},
     "output_type": "display_data"
    },
    {
     "name": "stdout",
     "output_type": "stream",
     "text": [
      "Feature: Duration\n"
     ]
    },
    {
     "data": {
      "text/plain": [
       "<AxesSubplot:xlabel='Duration'>"
      ]
     },
     "metadata": {},
     "output_type": "display_data"
    },
    {
     "name": "stdout",
     "output_type": "stream",
     "text": [
      "Feature: ClosePrice\n"
     ]
    },
    {
     "data": {
      "text/plain": [
       "<AxesSubplot:xlabel='ClosePrice'>"
      ]
     },
     "metadata": {},
     "output_type": "display_data"
    },
    {
     "name": "stdout",
     "output_type": "stream",
     "text": [
      "Feature: OpenPrice\n"
     ]
    },
    {
     "data": {
      "text/plain": [
       "<AxesSubplot:xlabel='OpenPrice'>"
      ]
     },
     "metadata": {},
     "output_type": "display_data"
    },
    {
     "name": "stdout",
     "output_type": "stream",
     "text": [
      "Feature: Competitive?\n"
     ]
    },
    {
     "data": {
      "text/plain": [
       "<AxesSubplot:xlabel='Competitive?'>"
      ]
     },
     "metadata": {},
     "output_type": "display_data"
    },
    {
     "data": {
      "image/png": "[encoded data removed]",
      "text/plain": [
       "<Figure size 720x360 with 1 Axes>"
      ]
     },
     "metadata": {
      "needs_background": "light"
     },
     "output_type": "display_data"
    },
    {
     "data": {
      "image/png": "[encoded data removed]",
      "text/plain": [
       "<Figure size 720x360 with 1 Axes>"
      ]
     },
     "metadata": {
      "needs_background": "light"
     },
     "output_type": "display_data"
    },
    {
     "data": {
      "image/png": "[encoded data removed]",
      "text/plain": [
       "<Figure size 720x360 with 1 Axes>"
      ]
     },
     "metadata": {
      "needs_background": "light"
     },
     "output_type": "display_data"
    },
    {
     "data": {
      "image/png": "[encoded data removed]",
      "text/plain": [
       "<Figure size 720x360 with 1 Axes>"
      ]
     },
     "metadata": {
      "needs_background": "light"
     },
     "output_type": "display_data"
    },
    {
     "data": {
      "image/png": "[encoded data removed]",
      "text/plain": [
       "<Figure size 720x360 with 1 Axes>"
      ]
     },
     "metadata": {
      "needs_background": "light"
     },
     "output_type": "display_data"
    }
   ],
   "source": [
    "for feat in df[df_dtypes[df_dtypes[0]!=\"object\"][\"index\"]]:\n",
    "    print(f\"Feature: {feat}\")\n",
    "    plt.figure(figsize = (10,5))\n",
    "    plt.xlabel(feat)\n",
    "    plt.xticks()\n",
    "    display(sns.violinplot(x = feat, data = df))"
   ]
  },
  {
   "cell_type": "code",
   "execution_count": 11,
   "id": "48c9952a-1633-4e57-8cf5-cc7bf2fdf5ae",
   "metadata": {},
   "outputs": [
    {
     "data": {
      "text/plain": [
       "(1972, 8)"
      ]
     },
     "execution_count": 11,
     "metadata": {},
     "output_type": "execute_result"
    }
   ],
   "source": [
    "df.shape"
   ]
  },
  {
   "cell_type": "code",
   "execution_count": 12,
   "id": "64233e42-7134-4407-a62b-c1591c03d7e2",
   "metadata": {},
   "outputs": [],
   "source": [
    "#Elimianitng outliers\n",
    "outlier_col = df[[\"OpenPrice\"]]\n",
    "df= df[(np.abs(stats.zscore(outlier_col)) <= 3).all(axis=1)]"
   ]
  },
  {
   "cell_type": "code",
   "execution_count": 13,
   "id": "684f11aa-5859-45c8-80f8-9657ed99cac1",
   "metadata": {},
   "outputs": [
    {
     "data": {
      "text/plain": [
       "(1951, 8)"
      ]
     },
     "execution_count": 13,
     "metadata": {},
     "output_type": "execute_result"
    }
   ],
   "source": [
    "df.shape"
   ]
  },
  {
   "cell_type": "markdown",
   "id": "f9a605ab-3ecb-4350-990d-787203004fba",
   "metadata": {},
   "source": [
    "## b) Data transformation (ordinal variables, dummy variables)"
   ]
  },
  {
   "cell_type": "code",
   "execution_count": 14,
   "id": "751eaf5b-1e5b-4ec8-81a5-8b269762793f",
   "metadata": {
    "tags": []
   },
   "outputs": [
    {
     "name": "stdout",
     "output_type": "stream",
     "text": [
      "Feature: Category\n",
      "['Music/Movie/Game' 'Automotive' 'SportingGoods' 'Home/Garden' 'Books'\n",
      " 'Collectibles' 'Business/Industrial' 'Toys/Hobbies' 'Electronics'\n",
      " 'Computer' 'EverythingElse' 'Clothing/Accessories' 'Coins/Stamps'\n",
      " 'Antique/Art/Craft' 'Jewelry' 'Pottery/Glass' 'Health/Beauty'\n",
      " 'Photography']\n",
      " \n",
      "Feature: Currency\n",
      "['US' 'GBP' 'EUR']\n",
      " \n",
      "Feature: endDay\n",
      "['Mon' 'Tue' 'Fri' 'Thu' 'Sat' 'Sun' 'Wed']\n",
      " \n"
     ]
    }
   ],
   "source": [
    "values_sets = set()\n",
    "for feat in df[df_dtypes[df_dtypes[0]==\"object\"][\"index\"]]:\n",
    "    print(f\"Feature: {feat}\")\n",
    "    print(df[feat].unique())\n",
    "    print(\" \")"
   ]
  },
  {
   "cell_type": "code",
   "execution_count": 15,
   "id": "3adca3bd-f25f-4996-b9d8-0902ef16877f",
   "metadata": {
    "scrolled": true
   },
   "outputs": [],
   "source": [
    "category_pp = df[\"Category\"].value_counts(normalize = True).reset_index()"
   ]
  },
  {
   "cell_type": "code",
   "execution_count": 16,
   "id": "2c52c7a0-cb08-45b9-9d40-dadfe53fd313",
   "metadata": {},
   "outputs": [],
   "source": [
    "category_pp[\"Category %\"] = category_pp[\"Category\"].cumsum()"
   ]
  },
  {
   "cell_type": "code",
   "execution_count": 17,
   "id": "7e9963ec-d97c-4620-88df-40e559f4b7a8",
   "metadata": {},
   "outputs": [
    {
     "data": {
      "text/html": [
       "<div>\n",
       "<style scoped>\n",
       "    .dataframe tbody tr th:only-of-type {\n",
       "        vertical-align: middle;\n",
       "    }\n",
       "\n",
       "    .dataframe tbody tr th {\n",
       "        vertical-align: top;\n",
       "    }\n",
       "\n",
       "    .dataframe thead th {\n",
       "        text-align: right;\n",
       "    }\n",
       "</style>\n",
       "<table border=\"1\" class=\"dataframe\">\n",
       "  <thead>\n",
       "    <tr style=\"text-align: right;\">\n",
       "      <th></th>\n",
       "      <th>index</th>\n",
       "      <th>Category</th>\n",
       "      <th>Category %</th>\n",
       "    </tr>\n",
       "  </thead>\n",
       "  <tbody>\n",
       "    <tr>\n",
       "      <th>0</th>\n",
       "      <td>Music/Movie/Game</td>\n",
       "      <td>0.206561</td>\n",
       "      <td>0.206561</td>\n",
       "    </tr>\n",
       "    <tr>\n",
       "      <th>1</th>\n",
       "      <td>Collectibles</td>\n",
       "      <td>0.121476</td>\n",
       "      <td>0.328037</td>\n",
       "    </tr>\n",
       "    <tr>\n",
       "      <th>2</th>\n",
       "      <td>Toys/Hobbies</td>\n",
       "      <td>0.119938</td>\n",
       "      <td>0.447975</td>\n",
       "    </tr>\n",
       "    <tr>\n",
       "      <th>3</th>\n",
       "      <td>Antique/Art/Craft</td>\n",
       "      <td>0.090210</td>\n",
       "      <td>0.538186</td>\n",
       "    </tr>\n",
       "    <tr>\n",
       "      <th>4</th>\n",
       "      <td>Automotive</td>\n",
       "      <td>0.085597</td>\n",
       "      <td>0.623783</td>\n",
       "    </tr>\n",
       "    <tr>\n",
       "      <th>5</th>\n",
       "      <td>SportingGoods</td>\n",
       "      <td>0.063045</td>\n",
       "      <td>0.686827</td>\n",
       "    </tr>\n",
       "    <tr>\n",
       "      <th>6</th>\n",
       "      <td>Clothing/Accessories</td>\n",
       "      <td>0.060994</td>\n",
       "      <td>0.747822</td>\n",
       "    </tr>\n",
       "    <tr>\n",
       "      <th>7</th>\n",
       "      <td>Home/Garden</td>\n",
       "      <td>0.052281</td>\n",
       "      <td>0.800103</td>\n",
       "    </tr>\n",
       "    <tr>\n",
       "      <th>8</th>\n",
       "      <td>Jewelry</td>\n",
       "      <td>0.042030</td>\n",
       "      <td>0.842132</td>\n",
       "    </tr>\n",
       "    <tr>\n",
       "      <th>9</th>\n",
       "      <td>Health/Beauty</td>\n",
       "      <td>0.032804</td>\n",
       "      <td>0.874936</td>\n",
       "    </tr>\n",
       "    <tr>\n",
       "      <th>10</th>\n",
       "      <td>Books</td>\n",
       "      <td>0.027678</td>\n",
       "      <td>0.902614</td>\n",
       "    </tr>\n",
       "    <tr>\n",
       "      <th>11</th>\n",
       "      <td>Electronics</td>\n",
       "      <td>0.027678</td>\n",
       "      <td>0.930292</td>\n",
       "    </tr>\n",
       "    <tr>\n",
       "      <th>12</th>\n",
       "      <td>Computer</td>\n",
       "      <td>0.017940</td>\n",
       "      <td>0.948232</td>\n",
       "    </tr>\n",
       "    <tr>\n",
       "      <th>13</th>\n",
       "      <td>Coins/Stamps</td>\n",
       "      <td>0.017427</td>\n",
       "      <td>0.965659</td>\n",
       "    </tr>\n",
       "    <tr>\n",
       "      <th>14</th>\n",
       "      <td>Pottery/Glass</td>\n",
       "      <td>0.009739</td>\n",
       "      <td>0.975397</td>\n",
       "    </tr>\n",
       "    <tr>\n",
       "      <th>15</th>\n",
       "      <td>Business/Industrial</td>\n",
       "      <td>0.009226</td>\n",
       "      <td>0.984623</td>\n",
       "    </tr>\n",
       "    <tr>\n",
       "      <th>16</th>\n",
       "      <td>EverythingElse</td>\n",
       "      <td>0.008713</td>\n",
       "      <td>0.993337</td>\n",
       "    </tr>\n",
       "    <tr>\n",
       "      <th>17</th>\n",
       "      <td>Photography</td>\n",
       "      <td>0.006663</td>\n",
       "      <td>1.000000</td>\n",
       "    </tr>\n",
       "  </tbody>\n",
       "</table>\n",
       "</div>"
      ],
      "text/plain": [
       "                   index  Category  Category %\n",
       "0       Music/Movie/Game  0.206561    0.206561\n",
       "1           Collectibles  0.121476    0.328037\n",
       "2           Toys/Hobbies  0.119938    0.447975\n",
       "3      Antique/Art/Craft  0.090210    0.538186\n",
       "4             Automotive  0.085597    0.623783\n",
       "5          SportingGoods  0.063045    0.686827\n",
       "6   Clothing/Accessories  0.060994    0.747822\n",
       "7            Home/Garden  0.052281    0.800103\n",
       "8                Jewelry  0.042030    0.842132\n",
       "9          Health/Beauty  0.032804    0.874936\n",
       "10                 Books  0.027678    0.902614\n",
       "11           Electronics  0.027678    0.930292\n",
       "12              Computer  0.017940    0.948232\n",
       "13          Coins/Stamps  0.017427    0.965659\n",
       "14         Pottery/Glass  0.009739    0.975397\n",
       "15   Business/Industrial  0.009226    0.984623\n",
       "16        EverythingElse  0.008713    0.993337\n",
       "17           Photography  0.006663    1.000000"
      ]
     },
     "execution_count": 17,
     "metadata": {},
     "output_type": "execute_result"
    }
   ],
   "source": [
    "category_pp"
   ]
  },
  {
   "cell_type": "code",
   "execution_count": 18,
   "id": "904bea07-c34f-4aac-943d-e1b53f313a9c",
   "metadata": {},
   "outputs": [],
   "source": [
    "categories_to_keep = category_pp[category_pp[\"Category %\"]<0.81][\"index\"].tolist()"
   ]
  },
  {
   "cell_type": "code",
   "execution_count": 19,
   "id": "396b5a9d-df83-4d40-a2f4-cca8538733c1",
   "metadata": {},
   "outputs": [],
   "source": [
    "#df.loc[~(df[\"Category\"].isin(categories_to_keep)), \"Category\"] = \"Other\""
   ]
  },
  {
   "cell_type": "code",
   "execution_count": 20,
   "id": "50e7b1f0-634b-49f9-988f-aba4fef50e88",
   "metadata": {},
   "outputs": [
    {
     "data": {
      "text/plain": [
       "Music/Movie/Game        0.206561\n",
       "Collectibles            0.121476\n",
       "Toys/Hobbies            0.119938\n",
       "Antique/Art/Craft       0.090210\n",
       "Automotive              0.085597\n",
       "SportingGoods           0.063045\n",
       "Clothing/Accessories    0.060994\n",
       "Home/Garden             0.052281\n",
       "Jewelry                 0.042030\n",
       "Health/Beauty           0.032804\n",
       "Books                   0.027678\n",
       "Electronics             0.027678\n",
       "Computer                0.017940\n",
       "Coins/Stamps            0.017427\n",
       "Pottery/Glass           0.009739\n",
       "Business/Industrial     0.009226\n",
       "EverythingElse          0.008713\n",
       "Photography             0.006663\n",
       "Name: Category, dtype: float64"
      ]
     },
     "execution_count": 20,
     "metadata": {},
     "output_type": "execute_result"
    }
   ],
   "source": [
    "df[\"Category\"].value_counts(normalize = True)"
   ]
  },
  {
   "cell_type": "code",
   "execution_count": 21,
   "id": "1151b018-4dab-416a-97b8-6326eac62f06",
   "metadata": {},
   "outputs": [],
   "source": [
    "df[\"Weekday\"] = np.where(df[\"endDay\"].isin(['Mon','Tue','Wed','Thu']), 1, 0)"
   ]
  },
  {
   "cell_type": "code",
   "execution_count": 22,
   "id": "d6c921fd-9d63-4fde-b74d-cc9063b5d6f5",
   "metadata": {},
   "outputs": [],
   "source": [
    "df = pd.concat([df, pd.get_dummies(df[\"Category\"],prefix=\"Category\")], axis = 1)"
   ]
  },
  {
   "cell_type": "code",
   "execution_count": 23,
   "id": "0070317f-7ec9-49df-9a08-e534eeae38eb",
   "metadata": {},
   "outputs": [],
   "source": [
    "del df[\"Category\"]"
   ]
  },
  {
   "cell_type": "code",
   "execution_count": 24,
   "id": "76827b09-2641-4e5a-94e1-71aabaa995d4",
   "metadata": {},
   "outputs": [],
   "source": [
    "df = pd.concat([df, pd.get_dummies(df[\"Currency\"],prefix=\"Currency\")], axis = 1)"
   ]
  },
  {
   "cell_type": "code",
   "execution_count": 25,
   "id": "2679c49a-5efa-487b-8ce6-ba1c931a9c00",
   "metadata": {},
   "outputs": [],
   "source": [
    "del df[\"Currency\"]"
   ]
  },
  {
   "cell_type": "code",
   "execution_count": 26,
   "id": "e76bc4f9-97cb-4b5f-bf78-02e73c2a2a52",
   "metadata": {},
   "outputs": [],
   "source": [
    "df = pd.concat([df, pd.get_dummies(df[\"endDay\"],prefix=\"endDay\")], axis = 1)"
   ]
  },
  {
   "cell_type": "code",
   "execution_count": 27,
   "id": "6e6b1437-af88-42ff-ab43-4a5435a24612",
   "metadata": {},
   "outputs": [],
   "source": [
    "del df[\"endDay\"]"
   ]
  },
  {
   "cell_type": "code",
   "execution_count": 28,
   "id": "745a1e54-3ca4-4a9a-938c-82171b2ed5e8",
   "metadata": {},
   "outputs": [],
   "source": [
    "df = pd.concat([df, pd.get_dummies(df[\"Duration\"].astype(str),prefix=\"Duration\")], axis = 1)"
   ]
  },
  {
   "cell_type": "code",
   "execution_count": 29,
   "id": "a558c402-612d-4b2e-b315-ed7c04d71b35",
   "metadata": {},
   "outputs": [],
   "source": [
    "del df[\"Duration\"]"
   ]
  },
  {
   "cell_type": "markdown",
   "id": "a5fff420-ae67-4270-923a-0e1f80d30545",
   "metadata": {},
   "source": [
    "# 2) Split the data into training and test datasets using a 60%:40% ratio. "
   ]
  },
  {
   "cell_type": "code",
   "execution_count": 30,
   "id": "6359b96f-240d-41ee-af24-c1c17e8a61ef",
   "metadata": {},
   "outputs": [],
   "source": [
    "seed = 42"
   ]
  },
  {
   "cell_type": "code",
   "execution_count": 31,
   "id": "270c532e-b212-49c3-a3f7-40cd1bae2332",
   "metadata": {},
   "outputs": [],
   "source": [
    "X = df.drop(\"Competitive?\", axis = 1).values\n",
    "y = df[\"Competitive?\"].values"
   ]
  },
  {
   "cell_type": "code",
   "execution_count": 32,
   "id": "32db52c3-504c-400e-92c7-2cf742e395c4",
   "metadata": {},
   "outputs": [],
   "source": [
    "X_train, X_test, y_train, y_test = train_test_split(X,y, test_size=0.4, random_state = seed)"
   ]
  },
  {
   "cell_type": "markdown",
   "id": "3c76ff6e-b58b-4444-9d55-d5a0afe4c2a5",
   "metadata": {},
   "source": [
    " # 3) Fit a classification tree using all predictors (if feasible). To avoid overfitting, set the minimum number of records in a terminal node to 50. Write down the results in terms of rules.  "
   ]
  },
  {
   "cell_type": "code",
   "execution_count": 33,
   "id": "78ea2651-912f-401b-8095-9519472e2cab",
   "metadata": {},
   "outputs": [],
   "source": [
    "fullClassTree = DecisionTreeClassifier(random_state=seed, min_samples_leaf=50)"
   ]
  },
  {
   "cell_type": "code",
   "execution_count": 34,
   "id": "5ea01af7-250b-45c2-b2a0-7d4404e206eb",
   "metadata": {},
   "outputs": [
    {
     "data": {
      "text/html": [
       "<style>#sk-container-id-1 {color: black;background-color: white;}#sk-container-id-1 pre{padding: 0;}#sk-container-id-1 div.sk-toggleable {background-color: white;}#sk-container-id-1 label.sk-toggleable__label {cursor: pointer;display: block;width: 100%;margin-bottom: 0;padding: 0.3em;box-sizing: border-box;text-align: center;}#sk-container-id-1 label.sk-toggleable__label-arrow:before {content: \"▸\";float: left;margin-right: 0.25em;color: #696969;}#sk-container-id-1 label.sk-toggleable__label-arrow:hover:before {color: black;}#sk-container-id-1 div.sk-estimator:hover label.sk-toggleable__label-arrow:before {color: black;}#sk-container-id-1 div.sk-toggleable__content {max-height: 0;max-width: 0;overflow: hidden;text-align: left;background-color: #f0f8ff;}#sk-container-id-1 div.sk-toggleable__content pre {margin: 0.2em;color: black;border-radius: 0.25em;background-color: #f0f8ff;}#sk-container-id-1 input.sk-toggleable__control:checked~div.sk-toggleable__content {max-height: 200px;max-width: 100%;overflow: auto;}#sk-container-id-1 input.sk-toggleable__control:checked~label.sk-toggleable__label-arrow:before {content: \"▾\";}#sk-container-id-1 div.sk-estimator input.sk-toggleable__control:checked~label.sk-toggleable__label {background-color: #d4ebff;}#sk-container-id-1 div.sk-label input.sk-toggleable__control:checked~label.sk-toggleable__label {background-color: #d4ebff;}#sk-container-id-1 input.sk-hidden--visually {border: 0;clip: rect(1px 1px 1px 1px);clip: rect(1px, 1px, 1px, 1px);height: 1px;margin: -1px;overflow: hidden;padding: 0;position: absolute;width: 1px;}#sk-container-id-1 div.sk-estimator {font-family: monospace;background-color: #f0f8ff;border: 1px dotted black;border-radius: 0.25em;box-sizing: border-box;margin-bottom: 0.5em;}#sk-container-id-1 div.sk-estimator:hover {background-color: #d4ebff;}#sk-container-id-1 div.sk-parallel-item::after {content: \"\";width: 100%;border-bottom: 1px solid gray;flex-grow: 1;}#sk-container-id-1 div.sk-label:hover label.sk-toggleable__label {background-color: #d4ebff;}#sk-container-id-1 div.sk-serial::before {content: \"\";position: absolute;border-left: 1px solid gray;box-sizing: border-box;top: 0;bottom: 0;left: 50%;z-index: 0;}#sk-container-id-1 div.sk-serial {display: flex;flex-direction: column;align-items: center;background-color: white;padding-right: 0.2em;padding-left: 0.2em;position: relative;}#sk-container-id-1 div.sk-item {position: relative;z-index: 1;}#sk-container-id-1 div.sk-parallel {display: flex;align-items: stretch;justify-content: center;background-color: white;position: relative;}#sk-container-id-1 div.sk-item::before, #sk-container-id-1 div.sk-parallel-item::before {content: \"\";position: absolute;border-left: 1px solid gray;box-sizing: border-box;top: 0;bottom: 0;left: 50%;z-index: -1;}#sk-container-id-1 div.sk-parallel-item {display: flex;flex-direction: column;z-index: 1;position: relative;background-color: white;}#sk-container-id-1 div.sk-parallel-item:first-child::after {align-self: flex-end;width: 50%;}#sk-container-id-1 div.sk-parallel-item:last-child::after {align-self: flex-start;width: 50%;}#sk-container-id-1 div.sk-parallel-item:only-child::after {width: 0;}#sk-container-id-1 div.sk-dashed-wrapped {border: 1px dashed gray;margin: 0 0.4em 0.5em 0.4em;box-sizing: border-box;padding-bottom: 0.4em;background-color: white;}#sk-container-id-1 div.sk-label label {font-family: monospace;font-weight: bold;display: inline-block;line-height: 1.2em;}#sk-container-id-1 div.sk-label-container {text-align: center;}#sk-container-id-1 div.sk-container {/* jupyter's `normalize.less` sets `[hidden] { display: none; }` but bootstrap.min.css set `[hidden] { display: none !important; }` so we also need the `!important` here to be able to override the default hidden behavior on the sphinx rendered scikit-learn.org. See: https://github.com/scikit-learn/scikit-learn/issues/21755 */display: inline-block !important;position: relative;}#sk-container-id-1 div.sk-text-repr-fallback {display: none;}</style><div id=\"sk-container-id-1\" class=\"sk-top-container\"><div class=\"sk-text-repr-fallback\"><pre>DecisionTreeClassifier(min_samples_leaf=50, random_state=42)</pre><b>In a Jupyter environment, please rerun this cell to show the HTML representation or trust the notebook. <br />On GitHub, the HTML representation is unable to render, please try loading this page with nbviewer.org.</b></div><div class=\"sk-container\" hidden><div class=\"sk-item\"><div class=\"sk-estimator sk-toggleable\"><input class=\"sk-toggleable__control sk-hidden--visually\" id=\"sk-estimator-id-1\" type=\"checkbox\" checked><label for=\"sk-estimator-id-1\" class=\"sk-toggleable__label sk-toggleable__label-arrow\">DecisionTreeClassifier</label><div class=\"sk-toggleable__content\"><pre>DecisionTreeClassifier(min_samples_leaf=50, random_state=42)</pre></div></div></div></div></div>"
      ],
      "text/plain": [
       "DecisionTreeClassifier(min_samples_leaf=50, random_state=42)"
      ]
     },
     "execution_count": 34,
     "metadata": {},
     "output_type": "execute_result"
    }
   ],
   "source": [
    "fullClassTree.fit(X_train, y_train)"
   ]
  },
  {
   "cell_type": "code",
   "execution_count": 35,
   "id": "13a2186a-7d12-4757-9ba8-08f8063b0c2e",
   "metadata": {},
   "outputs": [
    {
     "data": {
      "image/svg+xml": [
       "<?xml version=\"1.0\" encoding=\"UTF-8\" standalone=\"no\"?>\n",
       "<!DOCTYPE svg PUBLIC \"-//W3C//DTD SVG 1.1//EN\"\n",
       " \"http://www.w3.org/Graphics/SVG/1.1/DTD/svg11.dtd\">\n",
       "<!-- Generated by graphviz version 2.42.3 (20191010.1750)\n",
       " -->\n",
       "<!-- Title: Tree Pages: 1 -->\n",
       "<svg width=\"1426pt\" height=\"756pt\"\n",
       " viewBox=\"0.00 0.00 1426.00 756.00\" xmlns=\"http://www.w3.org/2000/svg\" xmlns:xlink=\"http://www.w3.org/1999/xlink\">\n",
       "<g id=\"graph0\" class=\"graph\" transform=\"scale(1 1) rotate(0) translate(4 752)\">\n",
       "<title>Tree</title>\n",
       "<polygon fill=\"white\" stroke=\"transparent\" points=\"-4,4 -4,-752 1422,-752 1422,4 -4,4\"/>\n",
       "<!-- 0 -->\n",
       "<g id=\"node1\" class=\"node\">\n",
       "<title>0</title>\n",
       "<path fill=\"#dbedfa\" stroke=\"black\" d=\"M813.88,-748C813.88,-748 700.35,-748 700.35,-748 694.35,-748 688.35,-742 688.35,-736 688.35,-736 688.35,-682 688.35,-682 688.35,-676 694.35,-670 700.35,-670 700.35,-670 813.88,-670 813.88,-670 819.88,-670 825.88,-676 825.88,-682 825.88,-682 825.88,-736 825.88,-736 825.88,-742 819.88,-748 813.88,-748\"/>\n",
       "<text text-anchor=\"start\" x=\"702.69\" y=\"-732.8\" font-family=\"Helvetica,sans-Serif\" font-size=\"14.00\">OpenPrice ≤ 3.82</text>\n",
       "<text text-anchor=\"start\" x=\"720.72\" y=\"-718.8\" font-family=\"Helvetica,sans-Serif\" font-size=\"14.00\">gini = 0.495</text>\n",
       "<text text-anchor=\"start\" x=\"708.02\" y=\"-704.8\" font-family=\"Helvetica,sans-Serif\" font-size=\"14.00\">samples = 1170</text>\n",
       "<text text-anchor=\"start\" x=\"701.27\" y=\"-690.8\" font-family=\"Helvetica,sans-Serif\" font-size=\"14.00\">value = [527, 643]</text>\n",
       "<text text-anchor=\"start\" x=\"696.23\" y=\"-676.8\" font-family=\"Helvetica,sans-Serif\" font-size=\"14.00\">class = Competitive</text>\n",
       "</g>\n",
       "<!-- 1 -->\n",
       "<g id=\"node2\" class=\"node\">\n",
       "<title>1</title>\n",
       "<path fill=\"#80c0ee\" stroke=\"black\" d=\"M651.88,-634C651.88,-634 538.35,-634 538.35,-634 532.35,-634 526.35,-628 526.35,-622 526.35,-622 526.35,-568 526.35,-568 526.35,-562 532.35,-556 538.35,-556 538.35,-556 651.88,-556 651.88,-556 657.88,-556 663.88,-562 663.88,-568 663.88,-568 663.88,-622 663.88,-622 663.88,-628 657.88,-634 651.88,-634\"/>\n",
       "<text text-anchor=\"start\" x=\"536.02\" y=\"-618.8\" font-family=\"Helvetica,sans-Serif\" font-size=\"14.00\">ClosePrice ≤ 3.685</text>\n",
       "<text text-anchor=\"start\" x=\"558.72\" y=\"-604.8\" font-family=\"Helvetica,sans-Serif\" font-size=\"14.00\">gini = 0.387</text>\n",
       "<text text-anchor=\"start\" x=\"549.39\" y=\"-590.8\" font-family=\"Helvetica,sans-Serif\" font-size=\"14.00\">samples = 552</text>\n",
       "<text text-anchor=\"start\" x=\"539.27\" y=\"-576.8\" font-family=\"Helvetica,sans-Serif\" font-size=\"14.00\">value = [145, 407]</text>\n",
       "<text text-anchor=\"start\" x=\"534.23\" y=\"-562.8\" font-family=\"Helvetica,sans-Serif\" font-size=\"14.00\">class = Competitive</text>\n",
       "</g>\n",
       "<!-- 0&#45;&gt;1 -->\n",
       "<g id=\"edge1\" class=\"edge\">\n",
       "<title>0&#45;&gt;1</title>\n",
       "<path fill=\"none\" stroke=\"black\" d=\"M701.82,-669.77C687.87,-660.13 672.79,-649.7 658.48,-639.81\"/>\n",
       "<polygon fill=\"black\" stroke=\"black\" points=\"660.38,-636.87 650.16,-634.06 656.4,-642.62 660.38,-636.87\"/>\n",
       "<text text-anchor=\"middle\" x=\"654.65\" y=\"-654.45\" font-family=\"Helvetica,sans-Serif\" font-size=\"14.00\">True</text>\n",
       "</g>\n",
       "<!-- 10 -->\n",
       "<g id=\"node11\" class=\"node\">\n",
       "<title>10</title>\n",
       "<path fill=\"#f5cfb3\" stroke=\"black\" d=\"M1002.35,-634C1002.35,-634 861.88,-634 861.88,-634 855.88,-634 849.88,-628 849.88,-622 849.88,-622 849.88,-568 849.88,-568 849.88,-562 855.88,-556 861.88,-556 861.88,-556 1002.35,-556 1002.35,-556 1008.35,-556 1014.35,-562 1014.35,-568 1014.35,-568 1014.35,-622 1014.35,-622 1014.35,-628 1008.35,-634 1002.35,-634\"/>\n",
       "<text text-anchor=\"start\" x=\"873.02\" y=\"-618.8\" font-family=\"Helvetica,sans-Serif\" font-size=\"14.00\">ClosePrice ≤ 47.51</text>\n",
       "<text text-anchor=\"start\" x=\"895.72\" y=\"-604.8\" font-family=\"Helvetica,sans-Serif\" font-size=\"14.00\">gini = 0.472</text>\n",
       "<text text-anchor=\"start\" x=\"886.39\" y=\"-590.8\" font-family=\"Helvetica,sans-Serif\" font-size=\"14.00\">samples = 618</text>\n",
       "<text text-anchor=\"start\" x=\"876.27\" y=\"-576.8\" font-family=\"Helvetica,sans-Serif\" font-size=\"14.00\">value = [382, 236]</text>\n",
       "<text text-anchor=\"start\" x=\"858\" y=\"-562.8\" font-family=\"Helvetica,sans-Serif\" font-size=\"14.00\">class = Non competitive</text>\n",
       "</g>\n",
       "<!-- 0&#45;&gt;10 -->\n",
       "<g id=\"edge10\" class=\"edge\">\n",
       "<title>0&#45;&gt;10</title>\n",
       "<path fill=\"none\" stroke=\"black\" d=\"M816.85,-669.77C832.06,-660.04 848.51,-649.51 864.09,-639.53\"/>\n",
       "<polygon fill=\"black\" stroke=\"black\" points=\"866.11,-642.4 872.65,-634.06 862.34,-636.5 866.11,-642.4\"/>\n",
       "<text text-anchor=\"middle\" x=\"867.29\" y=\"-654.28\" font-family=\"Helvetica,sans-Serif\" font-size=\"14.00\">False</text>\n",
       "</g>\n",
       "<!-- 2 -->\n",
       "<g id=\"node3\" class=\"node\">\n",
       "<title>2</title>\n",
       "<path fill=\"#f2c19e\" stroke=\"black\" d=\"M418.35,-520C418.35,-520 277.88,-520 277.88,-520 271.88,-520 265.88,-514 265.88,-508 265.88,-508 265.88,-454 265.88,-454 265.88,-448 271.88,-442 277.88,-442 277.88,-442 418.35,-442 418.35,-442 424.35,-442 430.35,-448 430.35,-454 430.35,-454 430.35,-508 430.35,-508 430.35,-514 424.35,-520 418.35,-520\"/>\n",
       "<text text-anchor=\"start\" x=\"290.31\" y=\"-504.8\" font-family=\"Helvetica,sans-Serif\" font-size=\"14.00\">OpenPrice ≤ 2.115</text>\n",
       "<text text-anchor=\"start\" x=\"311.72\" y=\"-490.8\" font-family=\"Helvetica,sans-Serif\" font-size=\"14.00\">gini = 0.448</text>\n",
       "<text text-anchor=\"start\" x=\"302.39\" y=\"-476.8\" font-family=\"Helvetica,sans-Serif\" font-size=\"14.00\">samples = 213</text>\n",
       "<text text-anchor=\"start\" x=\"296.16\" y=\"-462.8\" font-family=\"Helvetica,sans-Serif\" font-size=\"14.00\">value = [141, 72]</text>\n",
       "<text text-anchor=\"start\" x=\"274\" y=\"-448.8\" font-family=\"Helvetica,sans-Serif\" font-size=\"14.00\">class = Non competitive</text>\n",
       "</g>\n",
       "<!-- 1&#45;&gt;2 -->\n",
       "<g id=\"edge2\" class=\"edge\">\n",
       "<title>1&#45;&gt;2</title>\n",
       "<path fill=\"none\" stroke=\"black\" d=\"M526.31,-562.8C499.52,-550.65 468.43,-536.55 439.78,-523.57\"/>\n",
       "<polygon fill=\"black\" stroke=\"black\" points=\"441.13,-520.33 430.58,-519.39 438.24,-526.71 441.13,-520.33\"/>\n",
       "</g>\n",
       "<!-- 7 -->\n",
       "<g id=\"node8\" class=\"node\">\n",
       "<title>7</title>\n",
       "<path fill=\"#3b9ee5\" stroke=\"black\" d=\"M651.88,-520C651.88,-520 538.35,-520 538.35,-520 532.35,-520 526.35,-514 526.35,-508 526.35,-508 526.35,-454 526.35,-454 526.35,-448 532.35,-442 538.35,-442 538.35,-442 651.88,-442 651.88,-442 657.88,-442 663.88,-448 663.88,-454 663.88,-454 663.88,-508 663.88,-508 663.88,-514 657.88,-520 651.88,-520\"/>\n",
       "<text text-anchor=\"start\" x=\"540.69\" y=\"-504.8\" font-family=\"Helvetica,sans-Serif\" font-size=\"14.00\">OpenPrice ≤ 3.56</text>\n",
       "<text text-anchor=\"start\" x=\"558.72\" y=\"-490.8\" font-family=\"Helvetica,sans-Serif\" font-size=\"14.00\">gini = 0.023</text>\n",
       "<text text-anchor=\"start\" x=\"549.39\" y=\"-476.8\" font-family=\"Helvetica,sans-Serif\" font-size=\"14.00\">samples = 339</text>\n",
       "<text text-anchor=\"start\" x=\"547.05\" y=\"-462.8\" font-family=\"Helvetica,sans-Serif\" font-size=\"14.00\">value = [4, 335]</text>\n",
       "<text text-anchor=\"start\" x=\"534.23\" y=\"-448.8\" font-family=\"Helvetica,sans-Serif\" font-size=\"14.00\">class = Competitive</text>\n",
       "</g>\n",
       "<!-- 1&#45;&gt;7 -->\n",
       "<g id=\"edge7\" class=\"edge\">\n",
       "<title>1&#45;&gt;7</title>\n",
       "<path fill=\"none\" stroke=\"black\" d=\"M595.12,-555.77C595.12,-547.57 595.12,-538.8 595.12,-530.28\"/>\n",
       "<polygon fill=\"black\" stroke=\"black\" points=\"598.62,-530.06 595.12,-520.06 591.62,-530.06 598.62,-530.06\"/>\n",
       "</g>\n",
       "<!-- 3 -->\n",
       "<g id=\"node4\" class=\"node\">\n",
       "<title>3</title>\n",
       "<path fill=\"#fbebdf\" stroke=\"black\" d=\"M236.35,-406C236.35,-406 95.88,-406 95.88,-406 89.88,-406 83.88,-400 83.88,-394 83.88,-394 83.88,-340 83.88,-340 83.88,-334 89.88,-328 95.88,-328 95.88,-328 236.35,-328 236.35,-328 242.35,-328 248.35,-334 248.35,-340 248.35,-340 248.35,-394 248.35,-394 248.35,-400 242.35,-406 236.35,-406\"/>\n",
       "<text text-anchor=\"start\" x=\"110.92\" y=\"-390.8\" font-family=\"Helvetica,sans-Serif\" font-size=\"14.00\">ClosePrice ≤ 1.24</text>\n",
       "<text text-anchor=\"start\" x=\"129.72\" y=\"-376.8\" font-family=\"Helvetica,sans-Serif\" font-size=\"14.00\">gini = 0.496</text>\n",
       "<text text-anchor=\"start\" x=\"120.39\" y=\"-362.8\" font-family=\"Helvetica,sans-Serif\" font-size=\"14.00\">samples = 147</text>\n",
       "<text text-anchor=\"start\" x=\"118.05\" y=\"-348.8\" font-family=\"Helvetica,sans-Serif\" font-size=\"14.00\">value = [80, 67]</text>\n",
       "<text text-anchor=\"start\" x=\"92\" y=\"-334.8\" font-family=\"Helvetica,sans-Serif\" font-size=\"14.00\">class = Non competitive</text>\n",
       "</g>\n",
       "<!-- 2&#45;&gt;3 -->\n",
       "<g id=\"edge3\" class=\"edge\">\n",
       "<title>2&#45;&gt;3</title>\n",
       "<path fill=\"none\" stroke=\"black\" d=\"M286.24,-441.93C270.42,-432.19 253.28,-421.64 237.04,-411.65\"/>\n",
       "<polygon fill=\"black\" stroke=\"black\" points=\"238.48,-408.42 228.12,-406.16 234.81,-414.38 238.48,-408.42\"/>\n",
       "</g>\n",
       "<!-- 6 -->\n",
       "<g id=\"node7\" class=\"node\">\n",
       "<title>6</title>\n",
       "<path fill=\"#e78b49\" stroke=\"black\" d=\"M418.35,-399C418.35,-399 277.88,-399 277.88,-399 271.88,-399 265.88,-393 265.88,-387 265.88,-387 265.88,-347 265.88,-347 265.88,-341 271.88,-335 277.88,-335 277.88,-335 418.35,-335 418.35,-335 424.35,-335 430.35,-341 430.35,-347 430.35,-347 430.35,-387 430.35,-387 430.35,-393 424.35,-399 418.35,-399\"/>\n",
       "<text text-anchor=\"start\" x=\"315.62\" y=\"-383.8\" font-family=\"Helvetica,sans-Serif\" font-size=\"14.00\">gini = 0.14</text>\n",
       "<text text-anchor=\"start\" x=\"306.29\" y=\"-369.8\" font-family=\"Helvetica,sans-Serif\" font-size=\"14.00\">samples = 66</text>\n",
       "<text text-anchor=\"start\" x=\"303.94\" y=\"-355.8\" font-family=\"Helvetica,sans-Serif\" font-size=\"14.00\">value = [61, 5]</text>\n",
       "<text text-anchor=\"start\" x=\"274\" y=\"-341.8\" font-family=\"Helvetica,sans-Serif\" font-size=\"14.00\">class = Non competitive</text>\n",
       "</g>\n",
       "<!-- 2&#45;&gt;6 -->\n",
       "<g id=\"edge6\" class=\"edge\">\n",
       "<title>2&#45;&gt;6</title>\n",
       "<path fill=\"none\" stroke=\"black\" d=\"M348.12,-441.77C348.12,-431.31 348.12,-419.94 348.12,-409.32\"/>\n",
       "<polygon fill=\"black\" stroke=\"black\" points=\"351.62,-409.01 348.12,-399.01 344.62,-409.01 351.62,-409.01\"/>\n",
       "</g>\n",
       "<!-- 4 -->\n",
       "<g id=\"node5\" class=\"node\">\n",
       "<title>4</title>\n",
       "<path fill=\"#ea9a60\" stroke=\"black\" d=\"M152.35,-285C152.35,-285 11.88,-285 11.88,-285 5.88,-285 -0.12,-279 -0.12,-273 -0.12,-273 -0.12,-233 -0.12,-233 -0.12,-227 5.88,-221 11.88,-221 11.88,-221 152.35,-221 152.35,-221 158.35,-221 164.35,-227 164.35,-233 164.35,-233 164.35,-273 164.35,-273 164.35,-279 158.35,-285 152.35,-285\"/>\n",
       "<text text-anchor=\"start\" x=\"45.72\" y=\"-269.8\" font-family=\"Helvetica,sans-Serif\" font-size=\"14.00\">gini = 0.275</text>\n",
       "<text text-anchor=\"start\" x=\"40.29\" y=\"-255.8\" font-family=\"Helvetica,sans-Serif\" font-size=\"14.00\">samples = 73</text>\n",
       "<text text-anchor=\"start\" x=\"34.05\" y=\"-241.8\" font-family=\"Helvetica,sans-Serif\" font-size=\"14.00\">value = [61, 12]</text>\n",
       "<text text-anchor=\"start\" x=\"8\" y=\"-227.8\" font-family=\"Helvetica,sans-Serif\" font-size=\"14.00\">class = Non competitive</text>\n",
       "</g>\n",
       "<!-- 3&#45;&gt;4 -->\n",
       "<g id=\"edge4\" class=\"edge\">\n",
       "<title>3&#45;&gt;4</title>\n",
       "<path fill=\"none\" stroke=\"black\" d=\"M137.44,-327.77C129.11,-316.66 120,-304.51 111.62,-293.33\"/>\n",
       "<polygon fill=\"black\" stroke=\"black\" points=\"114.17,-290.91 105.37,-285.01 108.57,-295.11 114.17,-290.91\"/>\n",
       "</g>\n",
       "<!-- 5 -->\n",
       "<g id=\"node6\" class=\"node\">\n",
       "<title>5</title>\n",
       "<path fill=\"#7dbfee\" stroke=\"black\" d=\"M307.88,-285C307.88,-285 194.35,-285 194.35,-285 188.35,-285 182.35,-279 182.35,-273 182.35,-273 182.35,-233 182.35,-233 182.35,-227 188.35,-221 194.35,-221 194.35,-221 307.88,-221 307.88,-221 313.88,-221 319.88,-227 319.88,-233 319.88,-233 319.88,-273 319.88,-273 319.88,-279 313.88,-285 307.88,-285\"/>\n",
       "<text text-anchor=\"start\" x=\"214.72\" y=\"-269.8\" font-family=\"Helvetica,sans-Serif\" font-size=\"14.00\">gini = 0.382</text>\n",
       "<text text-anchor=\"start\" x=\"209.29\" y=\"-255.8\" font-family=\"Helvetica,sans-Serif\" font-size=\"14.00\">samples = 74</text>\n",
       "<text text-anchor=\"start\" x=\"203.05\" y=\"-241.8\" font-family=\"Helvetica,sans-Serif\" font-size=\"14.00\">value = [19, 55]</text>\n",
       "<text text-anchor=\"start\" x=\"190.23\" y=\"-227.8\" font-family=\"Helvetica,sans-Serif\" font-size=\"14.00\">class = Competitive</text>\n",
       "</g>\n",
       "<!-- 3&#45;&gt;5 -->\n",
       "<g id=\"edge5\" class=\"edge\">\n",
       "<title>3&#45;&gt;5</title>\n",
       "<path fill=\"none\" stroke=\"black\" d=\"M195.13,-327.77C203.64,-316.55 212.96,-304.27 221.51,-293\"/>\n",
       "<polygon fill=\"black\" stroke=\"black\" points=\"224.32,-295.09 227.58,-285.01 218.75,-290.86 224.32,-295.09\"/>\n",
       "</g>\n",
       "<!-- 8 -->\n",
       "<g id=\"node9\" class=\"node\">\n",
       "<title>8</title>\n",
       "<path fill=\"#399de5\" stroke=\"black\" d=\"M573.88,-399C573.88,-399 460.35,-399 460.35,-399 454.35,-399 448.35,-393 448.35,-387 448.35,-387 448.35,-347 448.35,-347 448.35,-341 454.35,-335 460.35,-335 460.35,-335 573.88,-335 573.88,-335 579.88,-335 585.88,-341 585.88,-347 585.88,-347 585.88,-387 585.88,-387 585.88,-393 579.88,-399 573.88,-399\"/>\n",
       "<text text-anchor=\"start\" x=\"488.51\" y=\"-383.8\" font-family=\"Helvetica,sans-Serif\" font-size=\"14.00\">gini = 0.0</text>\n",
       "<text text-anchor=\"start\" x=\"471.39\" y=\"-369.8\" font-family=\"Helvetica,sans-Serif\" font-size=\"14.00\">samples = 282</text>\n",
       "<text text-anchor=\"start\" x=\"469.05\" y=\"-355.8\" font-family=\"Helvetica,sans-Serif\" font-size=\"14.00\">value = [0, 282]</text>\n",
       "<text text-anchor=\"start\" x=\"456.23\" y=\"-341.8\" font-family=\"Helvetica,sans-Serif\" font-size=\"14.00\">class = Competitive</text>\n",
       "</g>\n",
       "<!-- 7&#45;&gt;8 -->\n",
       "<g id=\"edge8\" class=\"edge\">\n",
       "<title>7&#45;&gt;8</title>\n",
       "<path fill=\"none\" stroke=\"black\" d=\"M568.49,-441.77C560.75,-430.66 552.29,-418.51 544.51,-407.33\"/>\n",
       "<polygon fill=\"black\" stroke=\"black\" points=\"547.3,-405.22 538.71,-399.01 541.55,-409.22 547.3,-405.22\"/>\n",
       "</g>\n",
       "<!-- 9 -->\n",
       "<g id=\"node10\" class=\"node\">\n",
       "<title>9</title>\n",
       "<path fill=\"#48a4e7\" stroke=\"black\" d=\"M729.88,-399C729.88,-399 616.35,-399 616.35,-399 610.35,-399 604.35,-393 604.35,-387 604.35,-387 604.35,-347 604.35,-347 604.35,-341 610.35,-335 616.35,-335 616.35,-335 729.88,-335 729.88,-335 735.88,-335 741.88,-341 741.88,-347 741.88,-347 741.88,-387 741.88,-387 741.88,-393 735.88,-399 729.88,-399\"/>\n",
       "<text text-anchor=\"start\" x=\"636.72\" y=\"-383.8\" font-family=\"Helvetica,sans-Serif\" font-size=\"14.00\">gini = 0.131</text>\n",
       "<text text-anchor=\"start\" x=\"631.29\" y=\"-369.8\" font-family=\"Helvetica,sans-Serif\" font-size=\"14.00\">samples = 57</text>\n",
       "<text text-anchor=\"start\" x=\"628.94\" y=\"-355.8\" font-family=\"Helvetica,sans-Serif\" font-size=\"14.00\">value = [4, 53]</text>\n",
       "<text text-anchor=\"start\" x=\"612.23\" y=\"-341.8\" font-family=\"Helvetica,sans-Serif\" font-size=\"14.00\">class = Competitive</text>\n",
       "</g>\n",
       "<!-- 7&#45;&gt;9 -->\n",
       "<g id=\"edge9\" class=\"edge\">\n",
       "<title>7&#45;&gt;9</title>\n",
       "<path fill=\"none\" stroke=\"black\" d=\"M621.74,-441.77C629.48,-430.66 637.94,-418.51 645.72,-407.33\"/>\n",
       "<polygon fill=\"black\" stroke=\"black\" points=\"648.68,-409.22 651.52,-399.01 642.93,-405.22 648.68,-409.22\"/>\n",
       "</g>\n",
       "<!-- 11 -->\n",
       "<g id=\"node12\" class=\"node\">\n",
       "<title>11</title>\n",
       "<path fill=\"#f1b991\" stroke=\"black\" d=\"M1002.35,-520C1002.35,-520 861.88,-520 861.88,-520 855.88,-520 849.88,-514 849.88,-508 849.88,-508 849.88,-454 849.88,-454 849.88,-448 855.88,-442 861.88,-442 861.88,-442 1002.35,-442 1002.35,-442 1008.35,-442 1014.35,-448 1014.35,-454 1014.35,-454 1014.35,-508 1014.35,-508 1014.35,-514 1008.35,-520 1002.35,-520\"/>\n",
       "<text text-anchor=\"start\" x=\"869.13\" y=\"-504.8\" font-family=\"Helvetica,sans-Serif\" font-size=\"14.00\">ClosePrice ≤ 10.035</text>\n",
       "<text text-anchor=\"start\" x=\"895.72\" y=\"-490.8\" font-family=\"Helvetica,sans-Serif\" font-size=\"14.00\">gini = 0.426</text>\n",
       "<text text-anchor=\"start\" x=\"886.39\" y=\"-476.8\" font-family=\"Helvetica,sans-Serif\" font-size=\"14.00\">samples = 517</text>\n",
       "<text text-anchor=\"start\" x=\"876.27\" y=\"-462.8\" font-family=\"Helvetica,sans-Serif\" font-size=\"14.00\">value = [358, 159]</text>\n",
       "<text text-anchor=\"start\" x=\"858\" y=\"-448.8\" font-family=\"Helvetica,sans-Serif\" font-size=\"14.00\">class = Non competitive</text>\n",
       "</g>\n",
       "<!-- 10&#45;&gt;11 -->\n",
       "<g id=\"edge11\" class=\"edge\">\n",
       "<title>10&#45;&gt;11</title>\n",
       "<path fill=\"none\" stroke=\"black\" d=\"M932.12,-555.77C932.12,-547.57 932.12,-538.8 932.12,-530.28\"/>\n",
       "<polygon fill=\"black\" stroke=\"black\" points=\"935.62,-530.06 932.12,-520.06 928.62,-530.06 935.62,-530.06\"/>\n",
       "</g>\n",
       "<!-- 26 -->\n",
       "<g id=\"node27\" class=\"node\">\n",
       "<title>26</title>\n",
       "<path fill=\"#77bced\" stroke=\"black\" d=\"M1251.54,-520C1251.54,-520 1134.69,-520 1134.69,-520 1128.69,-520 1122.69,-514 1122.69,-508 1122.69,-508 1122.69,-454 1122.69,-454 1122.69,-448 1128.69,-442 1134.69,-442 1134.69,-442 1251.54,-442 1251.54,-442 1257.54,-442 1263.54,-448 1263.54,-454 1263.54,-454 1263.54,-508 1263.54,-508 1263.54,-514 1257.54,-520 1251.54,-520\"/>\n",
       "<text text-anchor=\"start\" x=\"1130.9\" y=\"-504.8\" font-family=\"Helvetica,sans-Serif\" font-size=\"14.00\">sellerRating ≤ 543.0</text>\n",
       "<text text-anchor=\"start\" x=\"1156.72\" y=\"-490.8\" font-family=\"Helvetica,sans-Serif\" font-size=\"14.00\">gini = 0.362</text>\n",
       "<text text-anchor=\"start\" x=\"1147.39\" y=\"-476.8\" font-family=\"Helvetica,sans-Serif\" font-size=\"14.00\">samples = 101</text>\n",
       "<text text-anchor=\"start\" x=\"1145.05\" y=\"-462.8\" font-family=\"Helvetica,sans-Serif\" font-size=\"14.00\">value = [24, 77]</text>\n",
       "<text text-anchor=\"start\" x=\"1132.23\" y=\"-448.8\" font-family=\"Helvetica,sans-Serif\" font-size=\"14.00\">class = Competitive</text>\n",
       "</g>\n",
       "<!-- 10&#45;&gt;26 -->\n",
       "<g id=\"edge26\" class=\"edge\">\n",
       "<title>10&#45;&gt;26</title>\n",
       "<path fill=\"none\" stroke=\"black\" d=\"M1014.34,-558.72C1045.89,-545.18 1081.82,-529.76 1113.16,-516.31\"/>\n",
       "<polygon fill=\"black\" stroke=\"black\" points=\"1114.92,-519.36 1122.73,-512.2 1112.16,-512.93 1114.92,-519.36\"/>\n",
       "</g>\n",
       "<!-- 12 -->\n",
       "<g id=\"node13\" class=\"node\">\n",
       "<title>12</title>\n",
       "<path fill=\"#ea9b62\" stroke=\"black\" d=\"M912.35,-406C912.35,-406 771.88,-406 771.88,-406 765.88,-406 759.88,-400 759.88,-394 759.88,-394 759.88,-340 759.88,-340 759.88,-334 765.88,-328 771.88,-328 771.88,-328 912.35,-328 912.35,-328 918.35,-328 924.35,-334 924.35,-340 924.35,-340 924.35,-394 924.35,-394 924.35,-400 918.35,-406 912.35,-406\"/>\n",
       "<text text-anchor=\"start\" x=\"783.79\" y=\"-390.8\" font-family=\"Helvetica,sans-Serif\" font-size=\"14.00\">OpenPrice ≤ 7.995</text>\n",
       "<text text-anchor=\"start\" x=\"805.72\" y=\"-376.8\" font-family=\"Helvetica,sans-Serif\" font-size=\"14.00\">gini = 0.283</text>\n",
       "<text text-anchor=\"start\" x=\"796.39\" y=\"-362.8\" font-family=\"Helvetica,sans-Serif\" font-size=\"14.00\">samples = 240</text>\n",
       "<text text-anchor=\"start\" x=\"790.16\" y=\"-348.8\" font-family=\"Helvetica,sans-Serif\" font-size=\"14.00\">value = [199, 41]</text>\n",
       "<text text-anchor=\"start\" x=\"768\" y=\"-334.8\" font-family=\"Helvetica,sans-Serif\" font-size=\"14.00\">class = Non competitive</text>\n",
       "</g>\n",
       "<!-- 11&#45;&gt;12 -->\n",
       "<g id=\"edge12\" class=\"edge\">\n",
       "<title>11&#45;&gt;12</title>\n",
       "<path fill=\"none\" stroke=\"black\" d=\"M901.39,-441.77C894.23,-432.85 886.52,-423.26 879.11,-414.04\"/>\n",
       "<polygon fill=\"black\" stroke=\"black\" points=\"881.69,-411.66 872.7,-406.06 876.23,-416.05 881.69,-411.66\"/>\n",
       "</g>\n",
       "<!-- 19 -->\n",
       "<g id=\"node20\" class=\"node\">\n",
       "<title>19</title>\n",
       "<path fill=\"#f8dfcc\" stroke=\"black\" d=\"M1094.35,-406C1094.35,-406 953.88,-406 953.88,-406 947.88,-406 941.88,-400 941.88,-394 941.88,-394 941.88,-340 941.88,-340 941.88,-334 947.88,-328 953.88,-328 953.88,-328 1094.35,-328 1094.35,-328 1100.35,-328 1106.35,-334 1106.35,-340 1106.35,-340 1106.35,-394 1106.35,-394 1106.35,-400 1100.35,-406 1094.35,-406\"/>\n",
       "<text text-anchor=\"start\" x=\"965.79\" y=\"-390.8\" font-family=\"Helvetica,sans-Serif\" font-size=\"14.00\">OpenPrice ≤ 10.97</text>\n",
       "<text text-anchor=\"start\" x=\"987.72\" y=\"-376.8\" font-family=\"Helvetica,sans-Serif\" font-size=\"14.00\">gini = 0.489</text>\n",
       "<text text-anchor=\"start\" x=\"978.39\" y=\"-362.8\" font-family=\"Helvetica,sans-Serif\" font-size=\"14.00\">samples = 277</text>\n",
       "<text text-anchor=\"start\" x=\"968.78\" y=\"-348.8\" font-family=\"Helvetica,sans-Serif\" font-size=\"14.00\">value = [159, 118]</text>\n",
       "<text text-anchor=\"start\" x=\"950\" y=\"-334.8\" font-family=\"Helvetica,sans-Serif\" font-size=\"14.00\">class = Non competitive</text>\n",
       "</g>\n",
       "<!-- 11&#45;&gt;19 -->\n",
       "<g id=\"edge19\" class=\"edge\">\n",
       "<title>11&#45;&gt;19</title>\n",
       "<path fill=\"none\" stroke=\"black\" d=\"M963.52,-441.77C970.85,-432.85 978.73,-423.26 986.3,-414.04\"/>\n",
       "<polygon fill=\"black\" stroke=\"black\" points=\"989.21,-416.01 992.85,-406.06 983.8,-411.56 989.21,-416.01\"/>\n",
       "</g>\n",
       "<!-- 13 -->\n",
       "<g id=\"node14\" class=\"node\">\n",
       "<title>13</title>\n",
       "<path fill=\"#eca36f\" stroke=\"black\" d=\"M733.35,-292C733.35,-292 592.88,-292 592.88,-292 586.88,-292 580.88,-286 580.88,-280 580.88,-280 580.88,-226 580.88,-226 580.88,-220 586.88,-214 592.88,-214 592.88,-214 733.35,-214 733.35,-214 739.35,-214 745.35,-220 745.35,-226 745.35,-226 745.35,-280 745.35,-280 745.35,-286 739.35,-292 733.35,-292\"/>\n",
       "<text text-anchor=\"start\" x=\"607.92\" y=\"-276.8\" font-family=\"Helvetica,sans-Serif\" font-size=\"14.00\">ClosePrice ≤ 6.63</text>\n",
       "<text text-anchor=\"start\" x=\"626.72\" y=\"-262.8\" font-family=\"Helvetica,sans-Serif\" font-size=\"14.00\">gini = 0.336</text>\n",
       "<text text-anchor=\"start\" x=\"617.39\" y=\"-248.8\" font-family=\"Helvetica,sans-Serif\" font-size=\"14.00\">samples = 178</text>\n",
       "<text text-anchor=\"start\" x=\"611.16\" y=\"-234.8\" font-family=\"Helvetica,sans-Serif\" font-size=\"14.00\">value = [140, 38]</text>\n",
       "<text text-anchor=\"start\" x=\"589\" y=\"-220.8\" font-family=\"Helvetica,sans-Serif\" font-size=\"14.00\">class = Non competitive</text>\n",
       "</g>\n",
       "<!-- 12&#45;&gt;13 -->\n",
       "<g id=\"edge13\" class=\"edge\">\n",
       "<title>12&#45;&gt;13</title>\n",
       "<path fill=\"none\" stroke=\"black\" d=\"M781.26,-327.93C765.7,-318.19 748.84,-307.64 732.87,-297.65\"/>\n",
       "<polygon fill=\"black\" stroke=\"black\" points=\"734.44,-294.5 724.1,-292.16 730.72,-300.43 734.44,-294.5\"/>\n",
       "</g>\n",
       "<!-- 18 -->\n",
       "<g id=\"node19\" class=\"node\">\n",
       "<title>18</title>\n",
       "<path fill=\"#e68743\" stroke=\"black\" d=\"M915.35,-285C915.35,-285 774.88,-285 774.88,-285 768.88,-285 762.88,-279 762.88,-273 762.88,-273 762.88,-233 762.88,-233 762.88,-227 768.88,-221 774.88,-221 774.88,-221 915.35,-221 915.35,-221 921.35,-221 927.35,-227 927.35,-233 927.35,-233 927.35,-273 927.35,-273 927.35,-279 921.35,-285 915.35,-285\"/>\n",
       "<text text-anchor=\"start\" x=\"808.72\" y=\"-269.8\" font-family=\"Helvetica,sans-Serif\" font-size=\"14.00\">gini = 0.092</text>\n",
       "<text text-anchor=\"start\" x=\"803.29\" y=\"-255.8\" font-family=\"Helvetica,sans-Serif\" font-size=\"14.00\">samples = 62</text>\n",
       "<text text-anchor=\"start\" x=\"800.94\" y=\"-241.8\" font-family=\"Helvetica,sans-Serif\" font-size=\"14.00\">value = [59, 3]</text>\n",
       "<text text-anchor=\"start\" x=\"771\" y=\"-227.8\" font-family=\"Helvetica,sans-Serif\" font-size=\"14.00\">class = Non competitive</text>\n",
       "</g>\n",
       "<!-- 12&#45;&gt;18 -->\n",
       "<g id=\"edge18\" class=\"edge\">\n",
       "<title>12&#45;&gt;18</title>\n",
       "<path fill=\"none\" stroke=\"black\" d=\"M843.14,-327.77C843.42,-317.31 843.72,-305.94 844.01,-295.32\"/>\n",
       "<polygon fill=\"black\" stroke=\"black\" points=\"847.52,-295.1 844.28,-285.01 840.52,-294.91 847.52,-295.1\"/>\n",
       "</g>\n",
       "<!-- 14 -->\n",
       "<g id=\"node15\" class=\"node\">\n",
       "<title>14</title>\n",
       "<path fill=\"#e99558\" stroke=\"black\" d=\"M701.35,-178C701.35,-178 560.88,-178 560.88,-178 554.88,-178 548.88,-172 548.88,-166 548.88,-166 548.88,-112 548.88,-112 548.88,-106 554.88,-100 560.88,-100 560.88,-100 701.35,-100 701.35,-100 707.35,-100 713.35,-106 713.35,-112 713.35,-112 713.35,-166 713.35,-166 713.35,-172 707.35,-178 701.35,-178\"/>\n",
       "<text text-anchor=\"start\" x=\"575.92\" y=\"-162.8\" font-family=\"Helvetica,sans-Serif\" font-size=\"14.00\">ClosePrice ≤ 5.08</text>\n",
       "<text text-anchor=\"start\" x=\"594.72\" y=\"-148.8\" font-family=\"Helvetica,sans-Serif\" font-size=\"14.00\">gini = 0.234</text>\n",
       "<text text-anchor=\"start\" x=\"585.91\" y=\"-134.8\" font-family=\"Helvetica,sans-Serif\" font-size=\"14.00\">samples = 118</text>\n",
       "<text text-anchor=\"start\" x=\"579.16\" y=\"-120.8\" font-family=\"Helvetica,sans-Serif\" font-size=\"14.00\">value = [102, 16]</text>\n",
       "<text text-anchor=\"start\" x=\"557\" y=\"-106.8\" font-family=\"Helvetica,sans-Serif\" font-size=\"14.00\">class = Non competitive</text>\n",
       "</g>\n",
       "<!-- 13&#45;&gt;14 -->\n",
       "<g id=\"edge14\" class=\"edge\">\n",
       "<title>13&#45;&gt;14</title>\n",
       "<path fill=\"none\" stroke=\"black\" d=\"M652.19,-213.77C649.8,-205.39 647.23,-196.42 644.75,-187.72\"/>\n",
       "<polygon fill=\"black\" stroke=\"black\" points=\"648.1,-186.71 641.99,-178.06 641.37,-188.64 648.1,-186.71\"/>\n",
       "</g>\n",
       "<!-- 17 -->\n",
       "<g id=\"node18\" class=\"node\">\n",
       "<title>17</title>\n",
       "<path fill=\"#f4caac\" stroke=\"black\" d=\"M883.35,-171C883.35,-171 742.88,-171 742.88,-171 736.88,-171 730.88,-165 730.88,-159 730.88,-159 730.88,-119 730.88,-119 730.88,-113 736.88,-107 742.88,-107 742.88,-107 883.35,-107 883.35,-107 889.35,-107 895.35,-113 895.35,-119 895.35,-119 895.35,-159 895.35,-159 895.35,-165 889.35,-171 883.35,-171\"/>\n",
       "<text text-anchor=\"start\" x=\"776.72\" y=\"-155.8\" font-family=\"Helvetica,sans-Serif\" font-size=\"14.00\">gini = 0.464</text>\n",
       "<text text-anchor=\"start\" x=\"771.29\" y=\"-141.8\" font-family=\"Helvetica,sans-Serif\" font-size=\"14.00\">samples = 60</text>\n",
       "<text text-anchor=\"start\" x=\"765.05\" y=\"-127.8\" font-family=\"Helvetica,sans-Serif\" font-size=\"14.00\">value = [38, 22]</text>\n",
       "<text text-anchor=\"start\" x=\"739\" y=\"-113.8\" font-family=\"Helvetica,sans-Serif\" font-size=\"14.00\">class = Non competitive</text>\n",
       "</g>\n",
       "<!-- 13&#45;&gt;17 -->\n",
       "<g id=\"edge17\" class=\"edge\">\n",
       "<title>13&#45;&gt;17</title>\n",
       "<path fill=\"none\" stroke=\"black\" d=\"M714.32,-213.77C730.22,-201.9 747.71,-188.84 763.5,-177.05\"/>\n",
       "<polygon fill=\"black\" stroke=\"black\" points=\"765.67,-179.8 771.58,-171.01 761.48,-174.19 765.67,-179.8\"/>\n",
       "</g>\n",
       "<!-- 15 -->\n",
       "<g id=\"node16\" class=\"node\">\n",
       "<title>15</title>\n",
       "<path fill=\"#e78c4a\" stroke=\"black\" d=\"M587.35,-64C587.35,-64 446.88,-64 446.88,-64 440.88,-64 434.88,-58 434.88,-52 434.88,-52 434.88,-12 434.88,-12 434.88,-6 440.88,0 446.88,0 446.88,0 587.35,0 587.35,0 593.35,0 599.35,-6 599.35,-12 599.35,-12 599.35,-52 599.35,-52 599.35,-58 593.35,-64 587.35,-64\"/>\n",
       "<text text-anchor=\"start\" x=\"480.72\" y=\"-48.8\" font-family=\"Helvetica,sans-Serif\" font-size=\"14.00\">gini = 0.144</text>\n",
       "<text text-anchor=\"start\" x=\"475.29\" y=\"-34.8\" font-family=\"Helvetica,sans-Serif\" font-size=\"14.00\">samples = 64</text>\n",
       "<text text-anchor=\"start\" x=\"472.94\" y=\"-20.8\" font-family=\"Helvetica,sans-Serif\" font-size=\"14.00\">value = [59, 5]</text>\n",
       "<text text-anchor=\"start\" x=\"443\" y=\"-6.8\" font-family=\"Helvetica,sans-Serif\" font-size=\"14.00\">class = Non competitive</text>\n",
       "</g>\n",
       "<!-- 14&#45;&gt;15 -->\n",
       "<g id=\"edge15\" class=\"edge\">\n",
       "<title>14&#45;&gt;15</title>\n",
       "<path fill=\"none\" stroke=\"black\" d=\"M589.64,-99.8C579.49,-90.45 568.63,-80.45 558.49,-71.11\"/>\n",
       "<polygon fill=\"black\" stroke=\"black\" points=\"560.63,-68.32 550.9,-64.12 555.88,-73.47 560.63,-68.32\"/>\n",
       "</g>\n",
       "<!-- 16 -->\n",
       "<g id=\"node17\" class=\"node\">\n",
       "<title>16</title>\n",
       "<path fill=\"#eca16c\" stroke=\"black\" d=\"M769.35,-64C769.35,-64 628.88,-64 628.88,-64 622.88,-64 616.88,-58 616.88,-52 616.88,-52 616.88,-12 616.88,-12 616.88,-6 622.88,0 628.88,0 628.88,0 769.35,0 769.35,0 775.35,0 781.35,-6 781.35,-12 781.35,-12 781.35,-52 781.35,-52 781.35,-58 775.35,-64 769.35,-64\"/>\n",
       "<text text-anchor=\"start\" x=\"662.72\" y=\"-48.8\" font-family=\"Helvetica,sans-Serif\" font-size=\"14.00\">gini = 0.324</text>\n",
       "<text text-anchor=\"start\" x=\"657.29\" y=\"-34.8\" font-family=\"Helvetica,sans-Serif\" font-size=\"14.00\">samples = 54</text>\n",
       "<text text-anchor=\"start\" x=\"651.57\" y=\"-20.8\" font-family=\"Helvetica,sans-Serif\" font-size=\"14.00\">value = [43, 11]</text>\n",
       "<text text-anchor=\"start\" x=\"625\" y=\"-6.8\" font-family=\"Helvetica,sans-Serif\" font-size=\"14.00\">class = Non competitive</text>\n",
       "</g>\n",
       "<!-- 14&#45;&gt;16 -->\n",
       "<g id=\"edge16\" class=\"edge\">\n",
       "<title>14&#45;&gt;16</title>\n",
       "<path fill=\"none\" stroke=\"black\" d=\"M655.86,-99.8C661.55,-91 667.62,-81.63 673.36,-72.76\"/>\n",
       "<polygon fill=\"black\" stroke=\"black\" points=\"676.47,-74.41 678.96,-64.12 670.59,-70.61 676.47,-74.41\"/>\n",
       "</g>\n",
       "<!-- 20 -->\n",
       "<g id=\"node21\" class=\"node\">\n",
       "<title>20</title>\n",
       "<path fill=\"#6fb8ec\" stroke=\"black\" d=\"M1076.88,-285C1076.88,-285 963.35,-285 963.35,-285 957.35,-285 951.35,-279 951.35,-273 951.35,-273 951.35,-233 951.35,-233 951.35,-227 957.35,-221 963.35,-221 963.35,-221 1076.88,-221 1076.88,-221 1082.88,-221 1088.88,-227 1088.88,-233 1088.88,-233 1088.88,-273 1088.88,-273 1088.88,-279 1082.88,-285 1076.88,-285\"/>\n",
       "<text text-anchor=\"start\" x=\"983.72\" y=\"-269.8\" font-family=\"Helvetica,sans-Serif\" font-size=\"14.00\">gini = 0.338</text>\n",
       "<text text-anchor=\"start\" x=\"978.29\" y=\"-255.8\" font-family=\"Helvetica,sans-Serif\" font-size=\"14.00\">samples = 79</text>\n",
       "<text text-anchor=\"start\" x=\"972.05\" y=\"-241.8\" font-family=\"Helvetica,sans-Serif\" font-size=\"14.00\">value = [17, 62]</text>\n",
       "<text text-anchor=\"start\" x=\"959.23\" y=\"-227.8\" font-family=\"Helvetica,sans-Serif\" font-size=\"14.00\">class = Competitive</text>\n",
       "</g>\n",
       "<!-- 19&#45;&gt;20 -->\n",
       "<g id=\"edge20\" class=\"edge\">\n",
       "<title>19&#45;&gt;20</title>\n",
       "<path fill=\"none\" stroke=\"black\" d=\"M1022.75,-327.77C1022.38,-317.31 1021.97,-305.94 1021.59,-295.32\"/>\n",
       "<polygon fill=\"black\" stroke=\"black\" points=\"1025.08,-294.88 1021.22,-285.01 1018.08,-295.13 1025.08,-294.88\"/>\n",
       "</g>\n",
       "<!-- 21 -->\n",
       "<g id=\"node22\" class=\"node\">\n",
       "<title>21</title>\n",
       "<path fill=\"#efb387\" stroke=\"black\" d=\"M1259.35,-292C1259.35,-292 1118.88,-292 1118.88,-292 1112.88,-292 1106.88,-286 1106.88,-280 1106.88,-280 1106.88,-226 1106.88,-226 1106.88,-220 1112.88,-214 1118.88,-214 1118.88,-214 1259.35,-214 1259.35,-214 1265.35,-214 1271.35,-220 1271.35,-226 1271.35,-226 1271.35,-280 1271.35,-280 1271.35,-286 1265.35,-292 1259.35,-292\"/>\n",
       "<text text-anchor=\"start\" x=\"1130.79\" y=\"-276.8\" font-family=\"Helvetica,sans-Serif\" font-size=\"14.00\">OpenPrice ≤ 20.25</text>\n",
       "<text text-anchor=\"start\" x=\"1152.72\" y=\"-262.8\" font-family=\"Helvetica,sans-Serif\" font-size=\"14.00\">gini = 0.406</text>\n",
       "<text text-anchor=\"start\" x=\"1143.39\" y=\"-248.8\" font-family=\"Helvetica,sans-Serif\" font-size=\"14.00\">samples = 198</text>\n",
       "<text text-anchor=\"start\" x=\"1137.16\" y=\"-234.8\" font-family=\"Helvetica,sans-Serif\" font-size=\"14.00\">value = [142, 56]</text>\n",
       "<text text-anchor=\"start\" x=\"1115\" y=\"-220.8\" font-family=\"Helvetica,sans-Serif\" font-size=\"14.00\">class = Non competitive</text>\n",
       "</g>\n",
       "<!-- 19&#45;&gt;21 -->\n",
       "<g id=\"edge21\" class=\"edge\">\n",
       "<title>19&#45;&gt;21</title>\n",
       "<path fill=\"none\" stroke=\"black\" d=\"M1080.44,-327.77C1094.64,-318.13 1110,-307.7 1124.57,-297.81\"/>\n",
       "<polygon fill=\"black\" stroke=\"black\" points=\"1126.74,-300.57 1133.05,-292.06 1122.81,-294.78 1126.74,-300.57\"/>\n",
       "</g>\n",
       "<!-- 22 -->\n",
       "<g id=\"node23\" class=\"node\">\n",
       "<title>22</title>\n",
       "<path fill=\"#f3c4a2\" stroke=\"black\" d=\"M1110.35,-178C1110.35,-178 969.88,-178 969.88,-178 963.88,-178 957.88,-172 957.88,-166 957.88,-166 957.88,-112 957.88,-112 957.88,-106 963.88,-100 969.88,-100 969.88,-100 1110.35,-100 1110.35,-100 1116.35,-100 1122.35,-106 1122.35,-112 1122.35,-112 1122.35,-166 1122.35,-166 1122.35,-172 1116.35,-178 1110.35,-178\"/>\n",
       "<text text-anchor=\"start\" x=\"981.02\" y=\"-162.8\" font-family=\"Helvetica,sans-Serif\" font-size=\"14.00\">ClosePrice ≤ 15.13</text>\n",
       "<text text-anchor=\"start\" x=\"1003.72\" y=\"-148.8\" font-family=\"Helvetica,sans-Serif\" font-size=\"14.00\">gini = 0.452</text>\n",
       "<text text-anchor=\"start\" x=\"994.39\" y=\"-134.8\" font-family=\"Helvetica,sans-Serif\" font-size=\"14.00\">samples = 136</text>\n",
       "<text text-anchor=\"start\" x=\"992.05\" y=\"-120.8\" font-family=\"Helvetica,sans-Serif\" font-size=\"14.00\">value = [89, 47]</text>\n",
       "<text text-anchor=\"start\" x=\"966\" y=\"-106.8\" font-family=\"Helvetica,sans-Serif\" font-size=\"14.00\">class = Non competitive</text>\n",
       "</g>\n",
       "<!-- 21&#45;&gt;22 -->\n",
       "<g id=\"edge22\" class=\"edge\">\n",
       "<title>21&#45;&gt;22</title>\n",
       "<path fill=\"none\" stroke=\"black\" d=\"M1138.25,-213.77C1125.55,-204.22 1111.82,-193.9 1098.77,-184.09\"/>\n",
       "<polygon fill=\"black\" stroke=\"black\" points=\"1100.84,-181.27 1090.75,-178.06 1096.64,-186.86 1100.84,-181.27\"/>\n",
       "</g>\n",
       "<!-- 25 -->\n",
       "<g id=\"node26\" class=\"node\">\n",
       "<title>25</title>\n",
       "<path fill=\"#e9965b\" stroke=\"black\" d=\"M1292.35,-171C1292.35,-171 1151.88,-171 1151.88,-171 1145.88,-171 1139.88,-165 1139.88,-159 1139.88,-159 1139.88,-119 1139.88,-119 1139.88,-113 1145.88,-107 1151.88,-107 1151.88,-107 1292.35,-107 1292.35,-107 1298.35,-107 1304.35,-113 1304.35,-119 1304.35,-119 1304.35,-159 1304.35,-159 1304.35,-165 1298.35,-171 1292.35,-171\"/>\n",
       "<text text-anchor=\"start\" x=\"1185.72\" y=\"-155.8\" font-family=\"Helvetica,sans-Serif\" font-size=\"14.00\">gini = 0.248</text>\n",
       "<text text-anchor=\"start\" x=\"1180.29\" y=\"-141.8\" font-family=\"Helvetica,sans-Serif\" font-size=\"14.00\">samples = 62</text>\n",
       "<text text-anchor=\"start\" x=\"1177.94\" y=\"-127.8\" font-family=\"Helvetica,sans-Serif\" font-size=\"14.00\">value = [53, 9]</text>\n",
       "<text text-anchor=\"start\" x=\"1148\" y=\"-113.8\" font-family=\"Helvetica,sans-Serif\" font-size=\"14.00\">class = Non competitive</text>\n",
       "</g>\n",
       "<!-- 21&#45;&gt;25 -->\n",
       "<g id=\"edge25\" class=\"edge\">\n",
       "<title>21&#45;&gt;25</title>\n",
       "<path fill=\"none\" stroke=\"black\" d=\"M1200.38,-213.77C1203.52,-203.1 1206.95,-191.46 1210.14,-180.65\"/>\n",
       "<polygon fill=\"black\" stroke=\"black\" points=\"1213.51,-181.59 1212.98,-171.01 1206.79,-179.61 1213.51,-181.59\"/>\n",
       "</g>\n",
       "<!-- 23 -->\n",
       "<g id=\"node24\" class=\"node\">\n",
       "<title>23</title>\n",
       "<path fill=\"#ea985e\" stroke=\"black\" d=\"M1042.35,-64C1042.35,-64 901.88,-64 901.88,-64 895.88,-64 889.88,-58 889.88,-52 889.88,-52 889.88,-12 889.88,-12 889.88,-6 895.88,0 901.88,0 901.88,0 1042.35,0 1042.35,0 1048.35,0 1054.35,-6 1054.35,-12 1054.35,-12 1054.35,-52 1054.35,-52 1054.35,-58 1048.35,-64 1042.35,-64\"/>\n",
       "<text text-anchor=\"start\" x=\"935.72\" y=\"-48.8\" font-family=\"Helvetica,sans-Serif\" font-size=\"14.00\">gini = 0.264</text>\n",
       "<text text-anchor=\"start\" x=\"930.29\" y=\"-34.8\" font-family=\"Helvetica,sans-Serif\" font-size=\"14.00\">samples = 64</text>\n",
       "<text text-anchor=\"start\" x=\"924.05\" y=\"-20.8\" font-family=\"Helvetica,sans-Serif\" font-size=\"14.00\">value = [54, 10]</text>\n",
       "<text text-anchor=\"start\" x=\"898\" y=\"-6.8\" font-family=\"Helvetica,sans-Serif\" font-size=\"14.00\">class = Non competitive</text>\n",
       "</g>\n",
       "<!-- 22&#45;&gt;23 -->\n",
       "<g id=\"edge23\" class=\"edge\">\n",
       "<title>22&#45;&gt;23</title>\n",
       "<path fill=\"none\" stroke=\"black\" d=\"M1015.37,-99.8C1009.68,-91 1003.61,-81.63 997.87,-72.76\"/>\n",
       "<polygon fill=\"black\" stroke=\"black\" points=\"1000.64,-70.61 992.27,-64.12 994.77,-74.41 1000.64,-70.61\"/>\n",
       "</g>\n",
       "<!-- 24 -->\n",
       "<g id=\"node25\" class=\"node\">\n",
       "<title>24</title>\n",
       "<path fill=\"#f4fafe\" stroke=\"black\" d=\"M1197.88,-64C1197.88,-64 1084.35,-64 1084.35,-64 1078.35,-64 1072.35,-58 1072.35,-52 1072.35,-52 1072.35,-12 1072.35,-12 1072.35,-6 1078.35,0 1084.35,0 1084.35,0 1197.88,0 1197.88,0 1203.88,0 1209.88,-6 1209.88,-12 1209.88,-12 1209.88,-52 1209.88,-52 1209.88,-58 1203.88,-64 1197.88,-64\"/>\n",
       "<text text-anchor=\"start\" x=\"1112.51\" y=\"-48.8\" font-family=\"Helvetica,sans-Serif\" font-size=\"14.00\">gini = 0.5</text>\n",
       "<text text-anchor=\"start\" x=\"1099.29\" y=\"-34.8\" font-family=\"Helvetica,sans-Serif\" font-size=\"14.00\">samples = 72</text>\n",
       "<text text-anchor=\"start\" x=\"1093.05\" y=\"-20.8\" font-family=\"Helvetica,sans-Serif\" font-size=\"14.00\">value = [35, 37]</text>\n",
       "<text text-anchor=\"start\" x=\"1080.23\" y=\"-6.8\" font-family=\"Helvetica,sans-Serif\" font-size=\"14.00\">class = Competitive</text>\n",
       "</g>\n",
       "<!-- 22&#45;&gt;24 -->\n",
       "<g id=\"edge24\" class=\"edge\">\n",
       "<title>22&#45;&gt;24</title>\n",
       "<path fill=\"none\" stroke=\"black\" d=\"M1076.86,-99.8C1085.77,-90.54 1095.28,-80.65 1104.19,-71.38\"/>\n",
       "<polygon fill=\"black\" stroke=\"black\" points=\"1106.77,-73.75 1111.18,-64.12 1101.73,-68.9 1106.77,-73.75\"/>\n",
       "</g>\n",
       "<!-- 27 -->\n",
       "<g id=\"node28\" class=\"node\">\n",
       "<title>27</title>\n",
       "<path fill=\"#4fa8e8\" stroke=\"black\" d=\"M1249.88,-399C1249.88,-399 1136.35,-399 1136.35,-399 1130.35,-399 1124.35,-393 1124.35,-387 1124.35,-387 1124.35,-347 1124.35,-347 1124.35,-341 1130.35,-335 1136.35,-335 1136.35,-335 1249.88,-335 1249.88,-335 1255.88,-335 1261.88,-341 1261.88,-347 1261.88,-347 1261.88,-387 1261.88,-387 1261.88,-393 1255.88,-399 1249.88,-399\"/>\n",
       "<text text-anchor=\"start\" x=\"1156.72\" y=\"-383.8\" font-family=\"Helvetica,sans-Serif\" font-size=\"14.00\">gini = 0.177</text>\n",
       "<text text-anchor=\"start\" x=\"1151.29\" y=\"-369.8\" font-family=\"Helvetica,sans-Serif\" font-size=\"14.00\">samples = 51</text>\n",
       "<text text-anchor=\"start\" x=\"1148.94\" y=\"-355.8\" font-family=\"Helvetica,sans-Serif\" font-size=\"14.00\">value = [5, 46]</text>\n",
       "<text text-anchor=\"start\" x=\"1132.23\" y=\"-341.8\" font-family=\"Helvetica,sans-Serif\" font-size=\"14.00\">class = Competitive</text>\n",
       "</g>\n",
       "<!-- 26&#45;&gt;27 -->\n",
       "<g id=\"edge27\" class=\"edge\">\n",
       "<title>26&#45;&gt;27</title>\n",
       "<path fill=\"none\" stroke=\"black\" d=\"M1193.12,-441.77C1193.12,-431.31 1193.12,-419.94 1193.12,-409.32\"/>\n",
       "<polygon fill=\"black\" stroke=\"black\" points=\"1196.62,-409.01 1193.12,-399.01 1189.62,-409.01 1196.62,-409.01\"/>\n",
       "</g>\n",
       "<!-- 28 -->\n",
       "<g id=\"node29\" class=\"node\">\n",
       "<title>28</title>\n",
       "<path fill=\"#b2d9f5\" stroke=\"black\" d=\"M1405.88,-399C1405.88,-399 1292.35,-399 1292.35,-399 1286.35,-399 1280.35,-393 1280.35,-387 1280.35,-387 1280.35,-347 1280.35,-347 1280.35,-341 1286.35,-335 1292.35,-335 1292.35,-335 1405.88,-335 1405.88,-335 1411.88,-335 1417.88,-341 1417.88,-347 1417.88,-347 1417.88,-387 1417.88,-387 1417.88,-393 1411.88,-399 1405.88,-399\"/>\n",
       "<text text-anchor=\"start\" x=\"1312.72\" y=\"-383.8\" font-family=\"Helvetica,sans-Serif\" font-size=\"14.00\">gini = 0.471</text>\n",
       "<text text-anchor=\"start\" x=\"1307.29\" y=\"-369.8\" font-family=\"Helvetica,sans-Serif\" font-size=\"14.00\">samples = 50</text>\n",
       "<text text-anchor=\"start\" x=\"1301.05\" y=\"-355.8\" font-family=\"Helvetica,sans-Serif\" font-size=\"14.00\">value = [19, 31]</text>\n",
       "<text text-anchor=\"start\" x=\"1288.23\" y=\"-341.8\" font-family=\"Helvetica,sans-Serif\" font-size=\"14.00\">class = Competitive</text>\n",
       "</g>\n",
       "<!-- 26&#45;&gt;28 -->\n",
       "<g id=\"edge28\" class=\"edge\">\n",
       "<title>26&#45;&gt;28</title>\n",
       "<path fill=\"none\" stroke=\"black\" d=\"M1246.37,-441.77C1262.9,-429.9 1281.09,-416.84 1297.51,-405.05\"/>\n",
       "<polygon fill=\"black\" stroke=\"black\" points=\"1299.84,-407.69 1305.92,-399.01 1295.76,-402 1299.84,-407.69\"/>\n",
       "</g>\n",
       "</g>\n",
       "</svg>\n"
      ],
      "text/plain": [
       "<graphviz.sources.Source at 0x7f97b85fbfd0>"
      ]
     },
     "execution_count": 35,
     "metadata": {},
     "output_type": "execute_result"
    }
   ],
   "source": [
    "dot_data = export_graphviz(fullClassTree, \n",
    "                  feature_names=df.drop(\"Competitive?\", axis = 1).columns.tolist(),  \n",
    "                  class_names=[\"Non competitive\", \"Competitive\"],  \n",
    "                  filled=True, rounded=True,  \n",
    "                  special_characters=True,\n",
    "                   out_file=None,\n",
    "                           )\n",
    "graph = graphviz.Source(dot_data)\n",
    "graph"
   ]
  },
  {
   "cell_type": "code",
   "execution_count": 36,
   "id": "b6b09382-15f6-4d50-bbc9-9846b778ce49",
   "metadata": {},
   "outputs": [],
   "source": [
    "tree_rules = export_text(fullClassTree, feature_names=list(df.drop(\"Competitive?\", axis = 1)))"
   ]
  },
  {
   "cell_type": "code",
   "execution_count": 37,
   "id": "17501320-9d3b-4277-bb3f-e57be0f669ab",
   "metadata": {},
   "outputs": [
    {
     "name": "stdout",
     "output_type": "stream",
     "text": [
      "|--- OpenPrice <= 3.82\n",
      "|   |--- ClosePrice <= 3.69\n",
      "|   |   |--- OpenPrice <= 2.12\n",
      "|   |   |   |--- ClosePrice <= 1.24\n",
      "|   |   |   |   |--- class: 0\n",
      "|   |   |   |--- ClosePrice >  1.24\n",
      "|   |   |   |   |--- class: 1\n",
      "|   |   |--- OpenPrice >  2.12\n",
      "|   |   |   |--- class: 0\n",
      "|   |--- ClosePrice >  3.69\n",
      "|   |   |--- OpenPrice <= 3.56\n",
      "|   |   |   |--- class: 1\n",
      "|   |   |--- OpenPrice >  3.56\n",
      "|   |   |   |--- class: 1\n",
      "|--- OpenPrice >  3.82\n",
      "|   |--- ClosePrice <= 47.51\n",
      "|   |   |--- ClosePrice <= 10.03\n",
      "|   |   |   |--- OpenPrice <= 7.99\n",
      "|   |   |   |   |--- ClosePrice <= 6.63\n",
      "|   |   |   |   |   |--- ClosePrice <= 5.08\n",
      "|   |   |   |   |   |   |--- class: 0\n",
      "|   |   |   |   |   |--- ClosePrice >  5.08\n",
      "|   |   |   |   |   |   |--- class: 0\n",
      "|   |   |   |   |--- ClosePrice >  6.63\n",
      "|   |   |   |   |   |--- class: 0\n",
      "|   |   |   |--- OpenPrice >  7.99\n",
      "|   |   |   |   |--- class: 0\n",
      "|   |   |--- ClosePrice >  10.03\n",
      "|   |   |   |--- OpenPrice <= 10.97\n",
      "|   |   |   |   |--- class: 1\n",
      "|   |   |   |--- OpenPrice >  10.97\n",
      "|   |   |   |   |--- OpenPrice <= 20.25\n",
      "|   |   |   |   |   |--- ClosePrice <= 15.13\n",
      "|   |   |   |   |   |   |--- class: 0\n",
      "|   |   |   |   |   |--- ClosePrice >  15.13\n",
      "|   |   |   |   |   |   |--- class: 1\n",
      "|   |   |   |   |--- OpenPrice >  20.25\n",
      "|   |   |   |   |   |--- class: 0\n",
      "|   |--- ClosePrice >  47.51\n",
      "|   |   |--- sellerRating <= 543.00\n",
      "|   |   |   |--- class: 1\n",
      "|   |   |--- sellerRating >  543.00\n",
      "|   |   |   |--- class: 1\n",
      "\n"
     ]
    }
   ],
   "source": [
    "print(tree_rules)"
   ]
  },
  {
   "cell_type": "markdown",
   "id": "bde41cf1-42d2-418e-ab4a-ff986c53495d",
   "metadata": {
    "tags": []
   },
   "source": [
    "# 4) Describe the interesting/unexpected and uninteresting (= rather obvious) information that these rules provide. "
   ]
  },
  {
   "cell_type": "markdown",
   "id": "c1cafa22-eaa5-49b8-9f76-99325fee0940",
   "metadata": {},
   "source": [
    "The decision tree classifier does not seem to be generating very intuitive or useful rules. \n",
    "Nevertheless, overall, it seems that orders with a lower OpenPrice and a higher ClosePrice are more likely to be competitive."
   ]
  },
  {
   "cell_type": "markdown",
   "id": "a5662c7c-992d-440d-8e03-e802172fca65",
   "metadata": {},
   "source": [
    "# 5) Suppose you had to slightly reduce the number of predictors due to software limitations, or for clarity of presentation, which would be (a) good variable(s) to choose? "
   ]
  },
  {
   "cell_type": "code",
   "execution_count": 38,
   "id": "9f2487bc-ce51-4983-9379-9e412cd44104",
   "metadata": {},
   "outputs": [],
   "source": [
    "#These are predictors that the seller can control or aim to control\n",
    "final_columns = []\n",
    "for col in df.columns:\n",
    "    for important_col in ['Duration', 'OpenPrice','Weekday', 'endDay','Category', 'Currency','sellerRating','Competitive?']:\n",
    "        if important_col in col:\n",
    "            final_columns.append(col)\n",
    "            break"
   ]
  },
  {
   "cell_type": "markdown",
   "id": "43887166-8692-4168-983d-a2e7aee982a2",
   "metadata": {
    "tags": []
   },
   "source": [
    "# 6) Fit another classification tree (with a minimum number of records per terminal node = 50), this time only with predictors that can be used for predicting the outcome of a new auction. Describe the resulting tree in terms of rules. "
   ]
  },
  {
   "cell_type": "code",
   "execution_count": 39,
   "id": "c19d08ba-bd76-4934-b338-d193682bedbe",
   "metadata": {},
   "outputs": [],
   "source": [
    "X = df[final_columns].drop(\"Competitive?\", axis = 1).values\n",
    "y = df[\"Competitive?\"].values"
   ]
  },
  {
   "cell_type": "code",
   "execution_count": 40,
   "id": "70369fac-c7f1-4412-90be-fd912cd3fcc4",
   "metadata": {},
   "outputs": [],
   "source": [
    "X_train, X_test, y_train, y_test = train_test_split(X,y, test_size=0.4, random_state = seed)"
   ]
  },
  {
   "cell_type": "code",
   "execution_count": 41,
   "id": "03d8a29d-30ab-4ec5-9c3b-bad9a459b686",
   "metadata": {},
   "outputs": [],
   "source": [
    "predClassTree = DecisionTreeClassifier(random_state=seed, min_samples_leaf=50)"
   ]
  },
  {
   "cell_type": "code",
   "execution_count": 42,
   "id": "c73cdffb-ccd2-48f3-89b4-e610cbc67224",
   "metadata": {},
   "outputs": [
    {
     "data": {
      "text/html": [
       "<style>#sk-container-id-2 {color: black;background-color: white;}#sk-container-id-2 pre{padding: 0;}#sk-container-id-2 div.sk-toggleable {background-color: white;}#sk-container-id-2 label.sk-toggleable__label {cursor: pointer;display: block;width: 100%;margin-bottom: 0;padding: 0.3em;box-sizing: border-box;text-align: center;}#sk-container-id-2 label.sk-toggleable__label-arrow:before {content: \"▸\";float: left;margin-right: 0.25em;color: #696969;}#sk-container-id-2 label.sk-toggleable__label-arrow:hover:before {color: black;}#sk-container-id-2 div.sk-estimator:hover label.sk-toggleable__label-arrow:before {color: black;}#sk-container-id-2 div.sk-toggleable__content {max-height: 0;max-width: 0;overflow: hidden;text-align: left;background-color: #f0f8ff;}#sk-container-id-2 div.sk-toggleable__content pre {margin: 0.2em;color: black;border-radius: 0.25em;background-color: #f0f8ff;}#sk-container-id-2 input.sk-toggleable__control:checked~div.sk-toggleable__content {max-height: 200px;max-width: 100%;overflow: auto;}#sk-container-id-2 input.sk-toggleable__control:checked~label.sk-toggleable__label-arrow:before {content: \"▾\";}#sk-container-id-2 div.sk-estimator input.sk-toggleable__control:checked~label.sk-toggleable__label {background-color: #d4ebff;}#sk-container-id-2 div.sk-label input.sk-toggleable__control:checked~label.sk-toggleable__label {background-color: #d4ebff;}#sk-container-id-2 input.sk-hidden--visually {border: 0;clip: rect(1px 1px 1px 1px);clip: rect(1px, 1px, 1px, 1px);height: 1px;margin: -1px;overflow: hidden;padding: 0;position: absolute;width: 1px;}#sk-container-id-2 div.sk-estimator {font-family: monospace;background-color: #f0f8ff;border: 1px dotted black;border-radius: 0.25em;box-sizing: border-box;margin-bottom: 0.5em;}#sk-container-id-2 div.sk-estimator:hover {background-color: #d4ebff;}#sk-container-id-2 div.sk-parallel-item::after {content: \"\";width: 100%;border-bottom: 1px solid gray;flex-grow: 1;}#sk-container-id-2 div.sk-label:hover label.sk-toggleable__label {background-color: #d4ebff;}#sk-container-id-2 div.sk-serial::before {content: \"\";position: absolute;border-left: 1px solid gray;box-sizing: border-box;top: 0;bottom: 0;left: 50%;z-index: 0;}#sk-container-id-2 div.sk-serial {display: flex;flex-direction: column;align-items: center;background-color: white;padding-right: 0.2em;padding-left: 0.2em;position: relative;}#sk-container-id-2 div.sk-item {position: relative;z-index: 1;}#sk-container-id-2 div.sk-parallel {display: flex;align-items: stretch;justify-content: center;background-color: white;position: relative;}#sk-container-id-2 div.sk-item::before, #sk-container-id-2 div.sk-parallel-item::before {content: \"\";position: absolute;border-left: 1px solid gray;box-sizing: border-box;top: 0;bottom: 0;left: 50%;z-index: -1;}#sk-container-id-2 div.sk-parallel-item {display: flex;flex-direction: column;z-index: 1;position: relative;background-color: white;}#sk-container-id-2 div.sk-parallel-item:first-child::after {align-self: flex-end;width: 50%;}#sk-container-id-2 div.sk-parallel-item:last-child::after {align-self: flex-start;width: 50%;}#sk-container-id-2 div.sk-parallel-item:only-child::after {width: 0;}#sk-container-id-2 div.sk-dashed-wrapped {border: 1px dashed gray;margin: 0 0.4em 0.5em 0.4em;box-sizing: border-box;padding-bottom: 0.4em;background-color: white;}#sk-container-id-2 div.sk-label label {font-family: monospace;font-weight: bold;display: inline-block;line-height: 1.2em;}#sk-container-id-2 div.sk-label-container {text-align: center;}#sk-container-id-2 div.sk-container {/* jupyter's `normalize.less` sets `[hidden] { display: none; }` but bootstrap.min.css set `[hidden] { display: none !important; }` so we also need the `!important` here to be able to override the default hidden behavior on the sphinx rendered scikit-learn.org. See: https://github.com/scikit-learn/scikit-learn/issues/21755 */display: inline-block !important;position: relative;}#sk-container-id-2 div.sk-text-repr-fallback {display: none;}</style><div id=\"sk-container-id-2\" class=\"sk-top-container\"><div class=\"sk-text-repr-fallback\"><pre>DecisionTreeClassifier(min_samples_leaf=50, random_state=42)</pre><b>In a Jupyter environment, please rerun this cell to show the HTML representation or trust the notebook. <br />On GitHub, the HTML representation is unable to render, please try loading this page with nbviewer.org.</b></div><div class=\"sk-container\" hidden><div class=\"sk-item\"><div class=\"sk-estimator sk-toggleable\"><input class=\"sk-toggleable__control sk-hidden--visually\" id=\"sk-estimator-id-2\" type=\"checkbox\" checked><label for=\"sk-estimator-id-2\" class=\"sk-toggleable__label sk-toggleable__label-arrow\">DecisionTreeClassifier</label><div class=\"sk-toggleable__content\"><pre>DecisionTreeClassifier(min_samples_leaf=50, random_state=42)</pre></div></div></div></div></div>"
      ],
      "text/plain": [
       "DecisionTreeClassifier(min_samples_leaf=50, random_state=42)"
      ]
     },
     "execution_count": 42,
     "metadata": {},
     "output_type": "execute_result"
    }
   ],
   "source": [
    "predClassTree.fit(X_train, y_train)"
   ]
  },
  {
   "cell_type": "code",
   "execution_count": 43,
   "id": "d7bf2690-3f96-4c4e-bfbf-f537e3ecf80a",
   "metadata": {},
   "outputs": [],
   "source": [
    "tree_rules = export_text(predClassTree, feature_names=list(df[final_columns].drop(\"Competitive?\", axis = 1)))"
   ]
  },
  {
   "cell_type": "code",
   "execution_count": 44,
   "id": "3fb2c46d-cec6-4d00-bb39-c822835448c7",
   "metadata": {},
   "outputs": [
    {
     "name": "stdout",
     "output_type": "stream",
     "text": [
      "|--- OpenPrice <= 3.82\n",
      "|   |--- OpenPrice <= 1.81\n",
      "|   |   |--- Duration_10 <= 0.50\n",
      "|   |   |   |--- Duration_7 <= 0.50\n",
      "|   |   |   |   |--- Category_Music/Movie/Game <= 0.50\n",
      "|   |   |   |   |   |--- class: 1\n",
      "|   |   |   |   |--- Category_Music/Movie/Game >  0.50\n",
      "|   |   |   |   |   |--- class: 1\n",
      "|   |   |   |--- Duration_7 >  0.50\n",
      "|   |   |   |   |--- sellerRating <= 564.00\n",
      "|   |   |   |   |   |--- class: 1\n",
      "|   |   |   |   |--- sellerRating >  564.00\n",
      "|   |   |   |   |   |--- class: 1\n",
      "|   |   |--- Duration_10 >  0.50\n",
      "|   |   |   |--- class: 1\n",
      "|   |--- OpenPrice >  1.81\n",
      "|   |   |--- sellerRating <= 2365.50\n",
      "|   |   |   |--- sellerRating <= 1359.00\n",
      "|   |   |   |   |--- class: 1\n",
      "|   |   |   |--- sellerRating >  1359.00\n",
      "|   |   |   |   |--- class: 1\n",
      "|   |   |--- sellerRating >  2365.50\n",
      "|   |   |   |--- class: 0\n",
      "|--- OpenPrice >  3.82\n",
      "|   |--- sellerRating <= 562.00\n",
      "|   |   |--- OpenPrice <= 9.91\n",
      "|   |   |   |--- class: 0\n",
      "|   |   |--- OpenPrice >  9.91\n",
      "|   |   |   |--- class: 1\n",
      "|   |--- sellerRating >  562.00\n",
      "|   |   |--- OpenPrice <= 9.89\n",
      "|   |   |   |--- sellerRating <= 1969.00\n",
      "|   |   |   |   |--- class: 0\n",
      "|   |   |   |--- sellerRating >  1969.00\n",
      "|   |   |   |   |--- sellerRating <= 4127.00\n",
      "|   |   |   |   |   |--- class: 0\n",
      "|   |   |   |   |--- sellerRating >  4127.00\n",
      "|   |   |   |   |   |--- class: 0\n",
      "|   |   |--- OpenPrice >  9.89\n",
      "|   |   |   |--- OpenPrice <= 11.03\n",
      "|   |   |   |   |--- class: 1\n",
      "|   |   |   |--- OpenPrice >  11.03\n",
      "|   |   |   |   |--- sellerRating <= 1691.00\n",
      "|   |   |   |   |   |--- class: 0\n",
      "|   |   |   |   |--- sellerRating >  1691.00\n",
      "|   |   |   |   |   |--- sellerRating <= 4001.50\n",
      "|   |   |   |   |   |   |--- class: 0\n",
      "|   |   |   |   |   |--- sellerRating >  4001.50\n",
      "|   |   |   |   |   |   |--- class: 0\n",
      "\n"
     ]
    }
   ],
   "source": [
    "print(tree_rules)"
   ]
  },
  {
   "cell_type": "markdown",
   "id": "5842fa48-23db-4f01-8a6c-06e0f9d03eaa",
   "metadata": {},
   "source": [
    "# 7) Plot the resulting tree as a tree diagram. "
   ]
  },
  {
   "cell_type": "code",
   "execution_count": 45,
   "id": "523a9d7d-75f4-424d-8336-3185c3e09ca3",
   "metadata": {},
   "outputs": [
    {
     "data": {
      "image/svg+xml": [
       "<?xml version=\"1.0\" encoding=\"UTF-8\" standalone=\"no\"?>\n",
       "<!DOCTYPE svg PUBLIC \"-//W3C//DTD SVG 1.1//EN\"\n",
       " \"http://www.w3.org/Graphics/SVG/1.1/DTD/svg11.dtd\">\n",
       "<!-- Generated by graphviz version 2.42.3 (20191010.1750)\n",
       " -->\n",
       "<!-- Title: Tree Pages: 1 -->\n",
       "<svg width=\"2059pt\" height=\"756pt\"\n",
       " viewBox=\"0.00 0.00 2059.00 756.00\" xmlns=\"http://www.w3.org/2000/svg\" xmlns:xlink=\"http://www.w3.org/1999/xlink\">\n",
       "<g id=\"graph0\" class=\"graph\" transform=\"scale(1 1) rotate(0) translate(4 752)\">\n",
       "<title>Tree</title>\n",
       "<polygon fill=\"white\" stroke=\"transparent\" points=\"-4,4 -4,-752 2055,-752 2055,4 -4,4\"/>\n",
       "<!-- 0 -->\n",
       "<g id=\"node1\" class=\"node\">\n",
       "<title>0</title>\n",
       "<path fill=\"#dbedfa\" stroke=\"black\" d=\"M1016.65,-748C1016.65,-748 903.12,-748 903.12,-748 897.12,-748 891.12,-742 891.12,-736 891.12,-736 891.12,-682 891.12,-682 891.12,-676 897.12,-670 903.12,-670 903.12,-670 1016.65,-670 1016.65,-670 1022.65,-670 1028.65,-676 1028.65,-682 1028.65,-682 1028.65,-736 1028.65,-736 1028.65,-742 1022.65,-748 1016.65,-748\"/>\n",
       "<text text-anchor=\"start\" x=\"905.46\" y=\"-732.8\" font-family=\"Helvetica,sans-Serif\" font-size=\"14.00\">OpenPrice ≤ 3.82</text>\n",
       "<text text-anchor=\"start\" x=\"923.49\" y=\"-718.8\" font-family=\"Helvetica,sans-Serif\" font-size=\"14.00\">gini = 0.495</text>\n",
       "<text text-anchor=\"start\" x=\"910.79\" y=\"-704.8\" font-family=\"Helvetica,sans-Serif\" font-size=\"14.00\">samples = 1170</text>\n",
       "<text text-anchor=\"start\" x=\"904.03\" y=\"-690.8\" font-family=\"Helvetica,sans-Serif\" font-size=\"14.00\">value = [527, 643]</text>\n",
       "<text text-anchor=\"start\" x=\"899\" y=\"-676.8\" font-family=\"Helvetica,sans-Serif\" font-size=\"14.00\">class = Competitive</text>\n",
       "</g>\n",
       "<!-- 1 -->\n",
       "<g id=\"node2\" class=\"node\">\n",
       "<title>1</title>\n",
       "<path fill=\"#80c0ee\" stroke=\"black\" d=\"M838.65,-634C838.65,-634 725.12,-634 725.12,-634 719.12,-634 713.12,-628 713.12,-622 713.12,-622 713.12,-568 713.12,-568 713.12,-562 719.12,-556 725.12,-556 725.12,-556 838.65,-556 838.65,-556 844.65,-556 850.65,-562 850.65,-568 850.65,-568 850.65,-622 850.65,-622 850.65,-628 844.65,-634 838.65,-634\"/>\n",
       "<text text-anchor=\"start\" x=\"723.56\" y=\"-618.8\" font-family=\"Helvetica,sans-Serif\" font-size=\"14.00\">OpenPrice ≤ 1.805</text>\n",
       "<text text-anchor=\"start\" x=\"745.49\" y=\"-604.8\" font-family=\"Helvetica,sans-Serif\" font-size=\"14.00\">gini = 0.387</text>\n",
       "<text text-anchor=\"start\" x=\"736.16\" y=\"-590.8\" font-family=\"Helvetica,sans-Serif\" font-size=\"14.00\">samples = 552</text>\n",
       "<text text-anchor=\"start\" x=\"726.03\" y=\"-576.8\" font-family=\"Helvetica,sans-Serif\" font-size=\"14.00\">value = [145, 407]</text>\n",
       "<text text-anchor=\"start\" x=\"721\" y=\"-562.8\" font-family=\"Helvetica,sans-Serif\" font-size=\"14.00\">class = Competitive</text>\n",
       "</g>\n",
       "<!-- 0&#45;&gt;1 -->\n",
       "<g id=\"edge1\" class=\"edge\">\n",
       "<title>0&#45;&gt;1</title>\n",
       "<path fill=\"none\" stroke=\"black\" d=\"M899.12,-669.77C883.66,-660.04 866.92,-649.51 851.07,-639.53\"/>\n",
       "<polygon fill=\"black\" stroke=\"black\" points=\"852.7,-636.42 842.37,-634.06 848.97,-642.35 852.7,-636.42\"/>\n",
       "<text text-anchor=\"middle\" x=\"847.92\" y=\"-654.24\" font-family=\"Helvetica,sans-Serif\" font-size=\"14.00\">True</text>\n",
       "</g>\n",
       "<!-- 16 -->\n",
       "<g id=\"node17\" class=\"node\">\n",
       "<title>16</title>\n",
       "<path fill=\"#f5cfb3\" stroke=\"black\" d=\"M1205.11,-634C1205.11,-634 1064.65,-634 1064.65,-634 1058.65,-634 1052.65,-628 1052.65,-622 1052.65,-622 1052.65,-568 1052.65,-568 1052.65,-562 1058.65,-556 1064.65,-556 1064.65,-556 1205.11,-556 1205.11,-556 1211.11,-556 1217.11,-562 1217.11,-568 1217.11,-568 1217.11,-622 1217.11,-622 1217.11,-628 1211.11,-634 1205.11,-634\"/>\n",
       "<text text-anchor=\"start\" x=\"1072.67\" y=\"-618.8\" font-family=\"Helvetica,sans-Serif\" font-size=\"14.00\">sellerRating ≤ 562.0</text>\n",
       "<text text-anchor=\"start\" x=\"1098.49\" y=\"-604.8\" font-family=\"Helvetica,sans-Serif\" font-size=\"14.00\">gini = 0.472</text>\n",
       "<text text-anchor=\"start\" x=\"1089.16\" y=\"-590.8\" font-family=\"Helvetica,sans-Serif\" font-size=\"14.00\">samples = 618</text>\n",
       "<text text-anchor=\"start\" x=\"1079.03\" y=\"-576.8\" font-family=\"Helvetica,sans-Serif\" font-size=\"14.00\">value = [382, 236]</text>\n",
       "<text text-anchor=\"start\" x=\"1060.77\" y=\"-562.8\" font-family=\"Helvetica,sans-Serif\" font-size=\"14.00\">class = Non competitive</text>\n",
       "</g>\n",
       "<!-- 0&#45;&gt;16 -->\n",
       "<g id=\"edge16\" class=\"edge\">\n",
       "<title>0&#45;&gt;16</title>\n",
       "<path fill=\"none\" stroke=\"black\" d=\"M1019.62,-669.77C1034.83,-660.04 1051.28,-649.51 1066.86,-639.53\"/>\n",
       "<polygon fill=\"black\" stroke=\"black\" points=\"1068.88,-642.4 1075.42,-634.06 1065.11,-636.5 1068.88,-642.4\"/>\n",
       "<text text-anchor=\"middle\" x=\"1070.06\" y=\"-654.28\" font-family=\"Helvetica,sans-Serif\" font-size=\"14.00\">False</text>\n",
       "</g>\n",
       "<!-- 2 -->\n",
       "<g id=\"node3\" class=\"node\">\n",
       "<title>2</title>\n",
       "<path fill=\"#68b4eb\" stroke=\"black\" d=\"M590.65,-520C590.65,-520 477.12,-520 477.12,-520 471.12,-520 465.12,-514 465.12,-508 465.12,-508 465.12,-454 465.12,-454 465.12,-448 471.12,-442 477.12,-442 477.12,-442 590.65,-442 590.65,-442 596.65,-442 602.65,-448 602.65,-454 602.65,-454 602.65,-508 602.65,-508 602.65,-514 596.65,-520 590.65,-520\"/>\n",
       "<text text-anchor=\"start\" x=\"478.28\" y=\"-504.8\" font-family=\"Helvetica,sans-Serif\" font-size=\"14.00\">Duration_10 ≤ 0.5</text>\n",
       "<text text-anchor=\"start\" x=\"497.49\" y=\"-490.8\" font-family=\"Helvetica,sans-Serif\" font-size=\"14.00\">gini = 0.309</text>\n",
       "<text text-anchor=\"start\" x=\"488.16\" y=\"-476.8\" font-family=\"Helvetica,sans-Serif\" font-size=\"14.00\">samples = 356</text>\n",
       "<text text-anchor=\"start\" x=\"481.93\" y=\"-462.8\" font-family=\"Helvetica,sans-Serif\" font-size=\"14.00\">value = [68, 288]</text>\n",
       "<text text-anchor=\"start\" x=\"473\" y=\"-448.8\" font-family=\"Helvetica,sans-Serif\" font-size=\"14.00\">class = Competitive</text>\n",
       "</g>\n",
       "<!-- 1&#45;&gt;2 -->\n",
       "<g id=\"edge2\" class=\"edge\">\n",
       "<title>1&#45;&gt;2</title>\n",
       "<path fill=\"none\" stroke=\"black\" d=\"M712.8,-562.8C681.63,-548.72 644.65,-532.02 612.42,-517.47\"/>\n",
       "<polygon fill=\"black\" stroke=\"black\" points=\"613.58,-514.15 603.03,-513.22 610.7,-520.53 613.58,-514.15\"/>\n",
       "</g>\n",
       "<!-- 11 -->\n",
       "<g id=\"node12\" class=\"node\">\n",
       "<title>11</title>\n",
       "<path fill=\"#b9dcf6\" stroke=\"black\" d=\"M844.09,-520C844.09,-520 719.68,-520 719.68,-520 713.68,-520 707.68,-514 707.68,-508 707.68,-508 707.68,-454 707.68,-454 707.68,-448 713.68,-442 719.68,-442 719.68,-442 844.09,-442 844.09,-442 850.09,-442 856.09,-448 856.09,-454 856.09,-454 856.09,-508 856.09,-508 856.09,-514 850.09,-520 844.09,-520\"/>\n",
       "<text text-anchor=\"start\" x=\"715.78\" y=\"-504.8\" font-family=\"Helvetica,sans-Serif\" font-size=\"14.00\">sellerRating ≤ 2365.5</text>\n",
       "<text text-anchor=\"start\" x=\"745.49\" y=\"-490.8\" font-family=\"Helvetica,sans-Serif\" font-size=\"14.00\">gini = 0.477</text>\n",
       "<text text-anchor=\"start\" x=\"736.16\" y=\"-476.8\" font-family=\"Helvetica,sans-Serif\" font-size=\"14.00\">samples = 196</text>\n",
       "<text text-anchor=\"start\" x=\"730.44\" y=\"-462.8\" font-family=\"Helvetica,sans-Serif\" font-size=\"14.00\">value = [77, 119]</text>\n",
       "<text text-anchor=\"start\" x=\"721\" y=\"-448.8\" font-family=\"Helvetica,sans-Serif\" font-size=\"14.00\">class = Competitive</text>\n",
       "</g>\n",
       "<!-- 1&#45;&gt;11 -->\n",
       "<g id=\"edge11\" class=\"edge\">\n",
       "<title>1&#45;&gt;11</title>\n",
       "<path fill=\"none\" stroke=\"black\" d=\"M781.88,-555.77C781.88,-547.57 781.88,-538.8 781.88,-530.28\"/>\n",
       "<polygon fill=\"black\" stroke=\"black\" points=\"785.38,-530.06 781.88,-520.06 778.38,-530.06 785.38,-530.06\"/>\n",
       "</g>\n",
       "<!-- 3 -->\n",
       "<g id=\"node4\" class=\"node\">\n",
       "<title>3</title>\n",
       "<path fill=\"#5fb0ea\" stroke=\"black\" d=\"M434.65,-406C434.65,-406 321.12,-406 321.12,-406 315.12,-406 309.12,-400 309.12,-394 309.12,-394 309.12,-340 309.12,-340 309.12,-334 315.12,-328 321.12,-328 321.12,-328 434.65,-328 434.65,-328 440.65,-328 446.65,-334 446.65,-340 446.65,-340 446.65,-394 446.65,-394 446.65,-400 440.65,-406 434.65,-406\"/>\n",
       "<text text-anchor=\"start\" x=\"326.18\" y=\"-390.8\" font-family=\"Helvetica,sans-Serif\" font-size=\"14.00\">Duration_7 ≤ 0.5</text>\n",
       "<text text-anchor=\"start\" x=\"345.39\" y=\"-376.8\" font-family=\"Helvetica,sans-Serif\" font-size=\"14.00\">gini = 0.27</text>\n",
       "<text text-anchor=\"start\" x=\"332.16\" y=\"-362.8\" font-family=\"Helvetica,sans-Serif\" font-size=\"14.00\">samples = 298</text>\n",
       "<text text-anchor=\"start\" x=\"325.93\" y=\"-348.8\" font-family=\"Helvetica,sans-Serif\" font-size=\"14.00\">value = [48, 250]</text>\n",
       "<text text-anchor=\"start\" x=\"317\" y=\"-334.8\" font-family=\"Helvetica,sans-Serif\" font-size=\"14.00\">class = Competitive</text>\n",
       "</g>\n",
       "<!-- 2&#45;&gt;3 -->\n",
       "<g id=\"edge3\" class=\"edge\">\n",
       "<title>2&#45;&gt;3</title>\n",
       "<path fill=\"none\" stroke=\"black\" d=\"M480.63,-441.77C467.33,-432.22 452.96,-421.9 439.29,-412.09\"/>\n",
       "<polygon fill=\"black\" stroke=\"black\" points=\"441.06,-409.05 430.89,-406.06 436.98,-414.73 441.06,-409.05\"/>\n",
       "</g>\n",
       "<!-- 10 -->\n",
       "<g id=\"node11\" class=\"node\">\n",
       "<title>10</title>\n",
       "<path fill=\"#a1d1f3\" stroke=\"black\" d=\"M590.65,-399C590.65,-399 477.12,-399 477.12,-399 471.12,-399 465.12,-393 465.12,-387 465.12,-387 465.12,-347 465.12,-347 465.12,-341 471.12,-335 477.12,-335 477.12,-335 590.65,-335 590.65,-335 596.65,-335 602.65,-341 602.65,-347 602.65,-347 602.65,-387 602.65,-387 602.65,-393 596.65,-399 590.65,-399\"/>\n",
       "<text text-anchor=\"start\" x=\"497.49\" y=\"-383.8\" font-family=\"Helvetica,sans-Serif\" font-size=\"14.00\">gini = 0.452</text>\n",
       "<text text-anchor=\"start\" x=\"492.06\" y=\"-369.8\" font-family=\"Helvetica,sans-Serif\" font-size=\"14.00\">samples = 58</text>\n",
       "<text text-anchor=\"start\" x=\"485.82\" y=\"-355.8\" font-family=\"Helvetica,sans-Serif\" font-size=\"14.00\">value = [20, 38]</text>\n",
       "<text text-anchor=\"start\" x=\"473\" y=\"-341.8\" font-family=\"Helvetica,sans-Serif\" font-size=\"14.00\">class = Competitive</text>\n",
       "</g>\n",
       "<!-- 2&#45;&gt;10 -->\n",
       "<g id=\"edge10\" class=\"edge\">\n",
       "<title>2&#45;&gt;10</title>\n",
       "<path fill=\"none\" stroke=\"black\" d=\"M533.88,-441.77C533.88,-431.31 533.88,-419.94 533.88,-409.32\"/>\n",
       "<polygon fill=\"black\" stroke=\"black\" points=\"537.38,-409.01 533.88,-399.01 530.38,-409.01 537.38,-409.01\"/>\n",
       "</g>\n",
       "<!-- 4 -->\n",
       "<g id=\"node5\" class=\"node\">\n",
       "<title>4</title>\n",
       "<path fill=\"#52aae8\" stroke=\"black\" d=\"M317.71,-292C317.71,-292 106.06,-292 106.06,-292 100.06,-292 94.06,-286 94.06,-280 94.06,-280 94.06,-226 94.06,-226 94.06,-220 100.06,-214 106.06,-214 106.06,-214 317.71,-214 317.71,-214 323.71,-214 329.71,-220 329.71,-226 329.71,-226 329.71,-280 329.71,-280 329.71,-286 323.71,-292 317.71,-292\"/>\n",
       "<text text-anchor=\"start\" x=\"102.22\" y=\"-276.8\" font-family=\"Helvetica,sans-Serif\" font-size=\"14.00\">Category_Music/Movie/Game ≤ 0.5</text>\n",
       "<text text-anchor=\"start\" x=\"175.49\" y=\"-262.8\" font-family=\"Helvetica,sans-Serif\" font-size=\"14.00\">gini = 0.202</text>\n",
       "<text text-anchor=\"start\" x=\"166.16\" y=\"-248.8\" font-family=\"Helvetica,sans-Serif\" font-size=\"14.00\">samples = 193</text>\n",
       "<text text-anchor=\"start\" x=\"159.93\" y=\"-234.8\" font-family=\"Helvetica,sans-Serif\" font-size=\"14.00\">value = [22, 171]</text>\n",
       "<text text-anchor=\"start\" x=\"151\" y=\"-220.8\" font-family=\"Helvetica,sans-Serif\" font-size=\"14.00\">class = Competitive</text>\n",
       "</g>\n",
       "<!-- 3&#45;&gt;4 -->\n",
       "<g id=\"edge4\" class=\"edge\">\n",
       "<title>3&#45;&gt;4</title>\n",
       "<path fill=\"none\" stroke=\"black\" d=\"M321.22,-327.77C306.93,-318.13 291.48,-307.7 276.82,-297.81\"/>\n",
       "<polygon fill=\"black\" stroke=\"black\" points=\"278.54,-294.75 268.29,-292.06 274.62,-300.55 278.54,-294.75\"/>\n",
       "</g>\n",
       "<!-- 7 -->\n",
       "<g id=\"node8\" class=\"node\">\n",
       "<title>7</title>\n",
       "<path fill=\"#7abdee\" stroke=\"black\" d=\"M476.31,-292C476.31,-292 359.46,-292 359.46,-292 353.46,-292 347.46,-286 347.46,-280 347.46,-280 347.46,-226 347.46,-226 347.46,-220 353.46,-214 359.46,-214 359.46,-214 476.31,-214 476.31,-214 482.31,-214 488.31,-220 488.31,-226 488.31,-226 488.31,-280 488.31,-280 488.31,-286 482.31,-292 476.31,-292\"/>\n",
       "<text text-anchor=\"start\" x=\"355.67\" y=\"-276.8\" font-family=\"Helvetica,sans-Serif\" font-size=\"14.00\">sellerRating ≤ 564.0</text>\n",
       "<text text-anchor=\"start\" x=\"381.49\" y=\"-262.8\" font-family=\"Helvetica,sans-Serif\" font-size=\"14.00\">gini = 0.373</text>\n",
       "<text text-anchor=\"start\" x=\"372.16\" y=\"-248.8\" font-family=\"Helvetica,sans-Serif\" font-size=\"14.00\">samples = 105</text>\n",
       "<text text-anchor=\"start\" x=\"369.82\" y=\"-234.8\" font-family=\"Helvetica,sans-Serif\" font-size=\"14.00\">value = [26, 79]</text>\n",
       "<text text-anchor=\"start\" x=\"357\" y=\"-220.8\" font-family=\"Helvetica,sans-Serif\" font-size=\"14.00\">class = Competitive</text>\n",
       "</g>\n",
       "<!-- 3&#45;&gt;7 -->\n",
       "<g id=\"edge7\" class=\"edge\">\n",
       "<title>3&#45;&gt;7</title>\n",
       "<path fill=\"none\" stroke=\"black\" d=\"M391.54,-327.77C394.53,-319.39 397.74,-310.42 400.84,-301.72\"/>\n",
       "<polygon fill=\"black\" stroke=\"black\" points=\"404.22,-302.65 404.29,-292.06 397.63,-300.3 404.22,-302.65\"/>\n",
       "</g>\n",
       "<!-- 5 -->\n",
       "<g id=\"node6\" class=\"node\">\n",
       "<title>5</title>\n",
       "<path fill=\"#44a2e6\" stroke=\"black\" d=\"M125.65,-171C125.65,-171 12.12,-171 12.12,-171 6.12,-171 0.12,-165 0.12,-159 0.12,-159 0.12,-119 0.12,-119 0.12,-113 6.12,-107 12.12,-107 12.12,-107 125.65,-107 125.65,-107 131.65,-107 137.65,-113 137.65,-119 137.65,-119 137.65,-159 137.65,-159 137.65,-165 131.65,-171 125.65,-171\"/>\n",
       "<text text-anchor=\"start\" x=\"32.49\" y=\"-155.8\" font-family=\"Helvetica,sans-Serif\" font-size=\"14.00\">gini = 0.099</text>\n",
       "<text text-anchor=\"start\" x=\"27.06\" y=\"-141.8\" font-family=\"Helvetica,sans-Serif\" font-size=\"14.00\">samples = 96</text>\n",
       "<text text-anchor=\"start\" x=\"24.71\" y=\"-127.8\" font-family=\"Helvetica,sans-Serif\" font-size=\"14.00\">value = [5, 91]</text>\n",
       "<text text-anchor=\"start\" x=\"8\" y=\"-113.8\" font-family=\"Helvetica,sans-Serif\" font-size=\"14.00\">class = Competitive</text>\n",
       "</g>\n",
       "<!-- 4&#45;&gt;5 -->\n",
       "<g id=\"edge5\" class=\"edge\">\n",
       "<title>4&#45;&gt;5</title>\n",
       "<path fill=\"none\" stroke=\"black\" d=\"M163.07,-213.77C148.05,-202.01 131.54,-189.08 116.6,-177.37\"/>\n",
       "<polygon fill=\"black\" stroke=\"black\" points=\"118.51,-174.42 108.48,-171.01 114.19,-179.93 118.51,-174.42\"/>\n",
       "</g>\n",
       "<!-- 6 -->\n",
       "<g id=\"node7\" class=\"node\">\n",
       "<title>6</title>\n",
       "<path fill=\"#63b2eb\" stroke=\"black\" d=\"M281.65,-171C281.65,-171 168.12,-171 168.12,-171 162.12,-171 156.12,-165 156.12,-159 156.12,-159 156.12,-119 156.12,-119 156.12,-113 162.12,-107 168.12,-107 168.12,-107 281.65,-107 281.65,-107 287.65,-107 293.65,-113 293.65,-119 293.65,-119 293.65,-159 293.65,-159 293.65,-165 287.65,-171 281.65,-171\"/>\n",
       "<text text-anchor=\"start\" x=\"188.49\" y=\"-155.8\" font-family=\"Helvetica,sans-Serif\" font-size=\"14.00\">gini = 0.289</text>\n",
       "<text text-anchor=\"start\" x=\"183.06\" y=\"-141.8\" font-family=\"Helvetica,sans-Serif\" font-size=\"14.00\">samples = 97</text>\n",
       "<text text-anchor=\"start\" x=\"176.82\" y=\"-127.8\" font-family=\"Helvetica,sans-Serif\" font-size=\"14.00\">value = [17, 80]</text>\n",
       "<text text-anchor=\"start\" x=\"164\" y=\"-113.8\" font-family=\"Helvetica,sans-Serif\" font-size=\"14.00\">class = Competitive</text>\n",
       "</g>\n",
       "<!-- 4&#45;&gt;6 -->\n",
       "<g id=\"edge6\" class=\"edge\">\n",
       "<title>4&#45;&gt;6</title>\n",
       "<path fill=\"none\" stroke=\"black\" d=\"M216.32,-213.77C217.55,-203.2 218.88,-191.7 220.13,-180.98\"/>\n",
       "<polygon fill=\"black\" stroke=\"black\" points=\"223.61,-181.35 221.28,-171.01 216.66,-180.54 223.61,-181.35\"/>\n",
       "</g>\n",
       "<!-- 8 -->\n",
       "<g id=\"node9\" class=\"node\">\n",
       "<title>8</title>\n",
       "<path fill=\"#5baeea\" stroke=\"black\" d=\"M462.65,-171C462.65,-171 349.12,-171 349.12,-171 343.12,-171 337.12,-165 337.12,-159 337.12,-159 337.12,-119 337.12,-119 337.12,-113 343.12,-107 349.12,-107 349.12,-107 462.65,-107 462.65,-107 468.65,-107 474.65,-113 474.65,-119 474.65,-119 474.65,-159 474.65,-159 474.65,-165 468.65,-171 462.65,-171\"/>\n",
       "<text text-anchor=\"start\" x=\"369.49\" y=\"-155.8\" font-family=\"Helvetica,sans-Serif\" font-size=\"14.00\">gini = 0.252</text>\n",
       "<text text-anchor=\"start\" x=\"364.06\" y=\"-141.8\" font-family=\"Helvetica,sans-Serif\" font-size=\"14.00\">samples = 54</text>\n",
       "<text text-anchor=\"start\" x=\"361.71\" y=\"-127.8\" font-family=\"Helvetica,sans-Serif\" font-size=\"14.00\">value = [8, 46]</text>\n",
       "<text text-anchor=\"start\" x=\"345\" y=\"-113.8\" font-family=\"Helvetica,sans-Serif\" font-size=\"14.00\">class = Competitive</text>\n",
       "</g>\n",
       "<!-- 7&#45;&gt;8 -->\n",
       "<g id=\"edge8\" class=\"edge\">\n",
       "<title>7&#45;&gt;8</title>\n",
       "<path fill=\"none\" stroke=\"black\" d=\"M413.79,-213.77C412.66,-203.2 411.42,-191.7 410.28,-180.98\"/>\n",
       "<polygon fill=\"black\" stroke=\"black\" points=\"413.75,-180.58 409.21,-171.01 406.79,-181.33 413.75,-180.58\"/>\n",
       "</g>\n",
       "<!-- 9 -->\n",
       "<g id=\"node10\" class=\"node\">\n",
       "<title>9</title>\n",
       "<path fill=\"#a5d2f3\" stroke=\"black\" d=\"M618.65,-171C618.65,-171 505.12,-171 505.12,-171 499.12,-171 493.12,-165 493.12,-159 493.12,-159 493.12,-119 493.12,-119 493.12,-113 499.12,-107 505.12,-107 505.12,-107 618.65,-107 618.65,-107 624.65,-107 630.65,-113 630.65,-119 630.65,-119 630.65,-159 630.65,-159 630.65,-165 624.65,-171 618.65,-171\"/>\n",
       "<text text-anchor=\"start\" x=\"525.49\" y=\"-155.8\" font-family=\"Helvetica,sans-Serif\" font-size=\"14.00\">gini = 0.457</text>\n",
       "<text text-anchor=\"start\" x=\"520.06\" y=\"-141.8\" font-family=\"Helvetica,sans-Serif\" font-size=\"14.00\">samples = 51</text>\n",
       "<text text-anchor=\"start\" x=\"513.82\" y=\"-127.8\" font-family=\"Helvetica,sans-Serif\" font-size=\"14.00\">value = [18, 33]</text>\n",
       "<text text-anchor=\"start\" x=\"501\" y=\"-113.8\" font-family=\"Helvetica,sans-Serif\" font-size=\"14.00\">class = Competitive</text>\n",
       "</g>\n",
       "<!-- 7&#45;&gt;9 -->\n",
       "<g id=\"edge9\" class=\"edge\">\n",
       "<title>7&#45;&gt;9</title>\n",
       "<path fill=\"none\" stroke=\"black\" d=\"M467.04,-213.77C482.16,-202.01 498.79,-189.08 513.84,-177.37\"/>\n",
       "<polygon fill=\"black\" stroke=\"black\" points=\"516.27,-179.91 522.01,-171.01 511.97,-174.39 516.27,-179.91\"/>\n",
       "</g>\n",
       "<!-- 12 -->\n",
       "<g id=\"node13\" class=\"node\">\n",
       "<title>12</title>\n",
       "<path fill=\"#87c4ef\" stroke=\"black\" d=\"M757.09,-406C757.09,-406 632.68,-406 632.68,-406 626.68,-406 620.68,-400 620.68,-394 620.68,-394 620.68,-340 620.68,-340 620.68,-334 626.68,-328 632.68,-328 632.68,-328 757.09,-328 757.09,-328 763.09,-328 769.09,-334 769.09,-340 769.09,-340 769.09,-394 769.09,-394 769.09,-400 763.09,-406 757.09,-406\"/>\n",
       "<text text-anchor=\"start\" x=\"628.78\" y=\"-390.8\" font-family=\"Helvetica,sans-Serif\" font-size=\"14.00\">sellerRating ≤ 1359.0</text>\n",
       "<text text-anchor=\"start\" x=\"658.49\" y=\"-376.8\" font-family=\"Helvetica,sans-Serif\" font-size=\"14.00\">gini = 0.405</text>\n",
       "<text text-anchor=\"start\" x=\"649.16\" y=\"-362.8\" font-family=\"Helvetica,sans-Serif\" font-size=\"14.00\">samples = 131</text>\n",
       "<text text-anchor=\"start\" x=\"646.82\" y=\"-348.8\" font-family=\"Helvetica,sans-Serif\" font-size=\"14.00\">value = [37, 94]</text>\n",
       "<text text-anchor=\"start\" x=\"634\" y=\"-334.8\" font-family=\"Helvetica,sans-Serif\" font-size=\"14.00\">class = Competitive</text>\n",
       "</g>\n",
       "<!-- 11&#45;&gt;12 -->\n",
       "<g id=\"edge12\" class=\"edge\">\n",
       "<title>11&#45;&gt;12</title>\n",
       "<path fill=\"none\" stroke=\"black\" d=\"M752.19,-441.77C745.26,-432.85 737.81,-423.26 730.65,-414.04\"/>\n",
       "<polygon fill=\"black\" stroke=\"black\" points=\"733.35,-411.81 724.45,-406.06 727.82,-416.1 733.35,-411.81\"/>\n",
       "</g>\n",
       "<!-- 15 -->\n",
       "<g id=\"node16\" class=\"node\">\n",
       "<title>15</title>\n",
       "<path fill=\"#f5d0b5\" stroke=\"black\" d=\"M939.11,-399C939.11,-399 798.65,-399 798.65,-399 792.65,-399 786.65,-393 786.65,-387 786.65,-387 786.65,-347 786.65,-347 786.65,-341 792.65,-335 798.65,-335 798.65,-335 939.11,-335 939.11,-335 945.11,-335 951.11,-341 951.11,-347 951.11,-347 951.11,-387 951.11,-387 951.11,-393 945.11,-399 939.11,-399\"/>\n",
       "<text text-anchor=\"start\" x=\"832.49\" y=\"-383.8\" font-family=\"Helvetica,sans-Serif\" font-size=\"14.00\">gini = 0.473</text>\n",
       "<text text-anchor=\"start\" x=\"827.06\" y=\"-369.8\" font-family=\"Helvetica,sans-Serif\" font-size=\"14.00\">samples = 65</text>\n",
       "<text text-anchor=\"start\" x=\"820.82\" y=\"-355.8\" font-family=\"Helvetica,sans-Serif\" font-size=\"14.00\">value = [40, 25]</text>\n",
       "<text text-anchor=\"start\" x=\"794.77\" y=\"-341.8\" font-family=\"Helvetica,sans-Serif\" font-size=\"14.00\">class = Non competitive</text>\n",
       "</g>\n",
       "<!-- 11&#45;&gt;15 -->\n",
       "<g id=\"edge15\" class=\"edge\">\n",
       "<title>11&#45;&gt;15</title>\n",
       "<path fill=\"none\" stroke=\"black\" d=\"M811.58,-441.77C820.3,-430.55 829.83,-418.27 838.59,-407\"/>\n",
       "<polygon fill=\"black\" stroke=\"black\" points=\"841.43,-409.05 844.8,-399.01 835.9,-404.76 841.43,-409.05\"/>\n",
       "</g>\n",
       "<!-- 13 -->\n",
       "<g id=\"node14\" class=\"node\">\n",
       "<title>13</title>\n",
       "<path fill=\"#f0f7fd\" stroke=\"black\" d=\"M711.65,-285C711.65,-285 598.12,-285 598.12,-285 592.12,-285 586.12,-279 586.12,-273 586.12,-273 586.12,-233 586.12,-233 586.12,-227 592.12,-221 598.12,-221 598.12,-221 711.65,-221 711.65,-221 717.65,-221 723.65,-227 723.65,-233 723.65,-233 723.65,-273 723.65,-273 723.65,-279 717.65,-285 711.65,-285\"/>\n",
       "<text text-anchor=\"start\" x=\"618.49\" y=\"-269.8\" font-family=\"Helvetica,sans-Serif\" font-size=\"14.00\">gini = 0.499</text>\n",
       "<text text-anchor=\"start\" x=\"613.06\" y=\"-255.8\" font-family=\"Helvetica,sans-Serif\" font-size=\"14.00\">samples = 50</text>\n",
       "<text text-anchor=\"start\" x=\"606.82\" y=\"-241.8\" font-family=\"Helvetica,sans-Serif\" font-size=\"14.00\">value = [24, 26]</text>\n",
       "<text text-anchor=\"start\" x=\"594\" y=\"-227.8\" font-family=\"Helvetica,sans-Serif\" font-size=\"14.00\">class = Competitive</text>\n",
       "</g>\n",
       "<!-- 12&#45;&gt;13 -->\n",
       "<g id=\"edge13\" class=\"edge\">\n",
       "<title>12&#45;&gt;13</title>\n",
       "<path fill=\"none\" stroke=\"black\" d=\"M681.23,-327.77C677.42,-317.1 673.26,-305.46 669.4,-294.65\"/>\n",
       "<polygon fill=\"black\" stroke=\"black\" points=\"672.62,-293.25 665.96,-285.01 666.03,-295.6 672.62,-293.25\"/>\n",
       "</g>\n",
       "<!-- 14 -->\n",
       "<g id=\"node15\" class=\"node\">\n",
       "<title>14</title>\n",
       "<path fill=\"#5fb0ea\" stroke=\"black\" d=\"M867.65,-285C867.65,-285 754.12,-285 754.12,-285 748.12,-285 742.12,-279 742.12,-273 742.12,-273 742.12,-233 742.12,-233 742.12,-227 748.12,-221 754.12,-221 754.12,-221 867.65,-221 867.65,-221 873.65,-221 879.65,-227 879.65,-233 879.65,-233 879.65,-273 879.65,-273 879.65,-279 873.65,-285 867.65,-285\"/>\n",
       "<text text-anchor=\"start\" x=\"774.49\" y=\"-269.8\" font-family=\"Helvetica,sans-Serif\" font-size=\"14.00\">gini = 0.269</text>\n",
       "<text text-anchor=\"start\" x=\"769.06\" y=\"-255.8\" font-family=\"Helvetica,sans-Serif\" font-size=\"14.00\">samples = 81</text>\n",
       "<text text-anchor=\"start\" x=\"762.82\" y=\"-241.8\" font-family=\"Helvetica,sans-Serif\" font-size=\"14.00\">value = [13, 68]</text>\n",
       "<text text-anchor=\"start\" x=\"750\" y=\"-227.8\" font-family=\"Helvetica,sans-Serif\" font-size=\"14.00\">class = Competitive</text>\n",
       "</g>\n",
       "<!-- 12&#45;&gt;14 -->\n",
       "<g id=\"edge14\" class=\"edge\">\n",
       "<title>12&#45;&gt;14</title>\n",
       "<path fill=\"none\" stroke=\"black\" d=\"M734.48,-327.77C746.44,-316.22 759.56,-303.55 771.5,-292.02\"/>\n",
       "<polygon fill=\"black\" stroke=\"black\" points=\"774,-294.47 778.77,-285.01 769.14,-289.44 774,-294.47\"/>\n",
       "</g>\n",
       "<!-- 17 -->\n",
       "<g id=\"node18\" class=\"node\">\n",
       "<title>17</title>\n",
       "<path fill=\"#a7d4f4\" stroke=\"black\" d=\"M1191.65,-520C1191.65,-520 1078.12,-520 1078.12,-520 1072.12,-520 1066.12,-514 1066.12,-508 1066.12,-508 1066.12,-454 1066.12,-454 1066.12,-448 1072.12,-442 1078.12,-442 1078.12,-442 1191.65,-442 1191.65,-442 1197.65,-442 1203.65,-448 1203.65,-454 1203.65,-454 1203.65,-508 1203.65,-508 1203.65,-514 1197.65,-520 1191.65,-520\"/>\n",
       "<text text-anchor=\"start\" x=\"1076.56\" y=\"-504.8\" font-family=\"Helvetica,sans-Serif\" font-size=\"14.00\">OpenPrice ≤ 9.915</text>\n",
       "<text text-anchor=\"start\" x=\"1102.39\" y=\"-490.8\" font-family=\"Helvetica,sans-Serif\" font-size=\"14.00\">gini = 0.46</text>\n",
       "<text text-anchor=\"start\" x=\"1089.16\" y=\"-476.8\" font-family=\"Helvetica,sans-Serif\" font-size=\"14.00\">samples = 148</text>\n",
       "<text text-anchor=\"start\" x=\"1086.82\" y=\"-462.8\" font-family=\"Helvetica,sans-Serif\" font-size=\"14.00\">value = [53, 95]</text>\n",
       "<text text-anchor=\"start\" x=\"1074\" y=\"-448.8\" font-family=\"Helvetica,sans-Serif\" font-size=\"14.00\">class = Competitive</text>\n",
       "</g>\n",
       "<!-- 16&#45;&gt;17 -->\n",
       "<g id=\"edge17\" class=\"edge\">\n",
       "<title>16&#45;&gt;17</title>\n",
       "<path fill=\"none\" stroke=\"black\" d=\"M1134.88,-555.77C1134.88,-547.57 1134.88,-538.8 1134.88,-530.28\"/>\n",
       "<polygon fill=\"black\" stroke=\"black\" points=\"1138.38,-530.06 1134.88,-520.06 1131.38,-530.06 1138.38,-530.06\"/>\n",
       "</g>\n",
       "<!-- 20 -->\n",
       "<g id=\"node21\" class=\"node\">\n",
       "<title>20</title>\n",
       "<path fill=\"#f0b78e\" stroke=\"black\" d=\"M1459.11,-520C1459.11,-520 1318.65,-520 1318.65,-520 1312.65,-520 1306.65,-514 1306.65,-508 1306.65,-508 1306.65,-454 1306.65,-454 1306.65,-448 1312.65,-442 1318.65,-442 1318.65,-442 1459.11,-442 1459.11,-442 1465.11,-442 1471.11,-448 1471.11,-454 1471.11,-454 1471.11,-508 1471.11,-508 1471.11,-514 1465.11,-520 1459.11,-520\"/>\n",
       "<text text-anchor=\"start\" x=\"1330.56\" y=\"-504.8\" font-family=\"Helvetica,sans-Serif\" font-size=\"14.00\">OpenPrice ≤ 9.895</text>\n",
       "<text text-anchor=\"start\" x=\"1356.39\" y=\"-490.8\" font-family=\"Helvetica,sans-Serif\" font-size=\"14.00\">gini = 0.42</text>\n",
       "<text text-anchor=\"start\" x=\"1343.16\" y=\"-476.8\" font-family=\"Helvetica,sans-Serif\" font-size=\"14.00\">samples = 470</text>\n",
       "<text text-anchor=\"start\" x=\"1333.03\" y=\"-462.8\" font-family=\"Helvetica,sans-Serif\" font-size=\"14.00\">value = [329, 141]</text>\n",
       "<text text-anchor=\"start\" x=\"1314.77\" y=\"-448.8\" font-family=\"Helvetica,sans-Serif\" font-size=\"14.00\">class = Non competitive</text>\n",
       "</g>\n",
       "<!-- 16&#45;&gt;20 -->\n",
       "<g id=\"edge20\" class=\"edge\">\n",
       "<title>16&#45;&gt;20</title>\n",
       "<path fill=\"none\" stroke=\"black\" d=\"M1217,-557.79C1242.67,-546.47 1271.15,-533.91 1297.42,-522.33\"/>\n",
       "<polygon fill=\"black\" stroke=\"black\" points=\"1298.88,-525.51 1306.62,-518.28 1296.05,-519.11 1298.88,-525.51\"/>\n",
       "</g>\n",
       "<!-- 18 -->\n",
       "<g id=\"node19\" class=\"node\">\n",
       "<title>18</title>\n",
       "<path fill=\"#fae8dc\" stroke=\"black\" d=\"M1121.11,-399C1121.11,-399 980.65,-399 980.65,-399 974.65,-399 968.65,-393 968.65,-387 968.65,-387 968.65,-347 968.65,-347 968.65,-341 974.65,-335 980.65,-335 980.65,-335 1121.11,-335 1121.11,-335 1127.11,-335 1133.11,-341 1133.11,-347 1133.11,-347 1133.11,-387 1133.11,-387 1133.11,-393 1127.11,-399 1121.11,-399\"/>\n",
       "<text text-anchor=\"start\" x=\"1014.49\" y=\"-383.8\" font-family=\"Helvetica,sans-Serif\" font-size=\"14.00\">gini = 0.495</text>\n",
       "<text text-anchor=\"start\" x=\"1009.06\" y=\"-369.8\" font-family=\"Helvetica,sans-Serif\" font-size=\"14.00\">samples = 51</text>\n",
       "<text text-anchor=\"start\" x=\"1002.82\" y=\"-355.8\" font-family=\"Helvetica,sans-Serif\" font-size=\"14.00\">value = [28, 23]</text>\n",
       "<text text-anchor=\"start\" x=\"976.77\" y=\"-341.8\" font-family=\"Helvetica,sans-Serif\" font-size=\"14.00\">class = Non competitive</text>\n",
       "</g>\n",
       "<!-- 17&#45;&gt;18 -->\n",
       "<g id=\"edge18\" class=\"edge\">\n",
       "<title>17&#45;&gt;18</title>\n",
       "<path fill=\"none\" stroke=\"black\" d=\"M1106.21,-441.77C1097.88,-430.66 1088.77,-418.51 1080.38,-407.33\"/>\n",
       "<polygon fill=\"black\" stroke=\"black\" points=\"1082.94,-404.91 1074.14,-399.01 1077.34,-409.11 1082.94,-404.91\"/>\n",
       "</g>\n",
       "<!-- 19 -->\n",
       "<g id=\"node20\" class=\"node\">\n",
       "<title>19</title>\n",
       "<path fill=\"#7ebfee\" stroke=\"black\" d=\"M1276.65,-399C1276.65,-399 1163.12,-399 1163.12,-399 1157.12,-399 1151.12,-393 1151.12,-387 1151.12,-387 1151.12,-347 1151.12,-347 1151.12,-341 1157.12,-335 1163.12,-335 1163.12,-335 1276.65,-335 1276.65,-335 1282.65,-335 1288.65,-341 1288.65,-347 1288.65,-347 1288.65,-387 1288.65,-387 1288.65,-393 1282.65,-399 1276.65,-399\"/>\n",
       "<text text-anchor=\"start\" x=\"1183.49\" y=\"-383.8\" font-family=\"Helvetica,sans-Serif\" font-size=\"14.00\">gini = 0.383</text>\n",
       "<text text-anchor=\"start\" x=\"1178.06\" y=\"-369.8\" font-family=\"Helvetica,sans-Serif\" font-size=\"14.00\">samples = 97</text>\n",
       "<text text-anchor=\"start\" x=\"1171.82\" y=\"-355.8\" font-family=\"Helvetica,sans-Serif\" font-size=\"14.00\">value = [25, 72]</text>\n",
       "<text text-anchor=\"start\" x=\"1159\" y=\"-341.8\" font-family=\"Helvetica,sans-Serif\" font-size=\"14.00\">class = Competitive</text>\n",
       "</g>\n",
       "<!-- 17&#45;&gt;19 -->\n",
       "<g id=\"edge19\" class=\"edge\">\n",
       "<title>17&#45;&gt;19</title>\n",
       "<path fill=\"none\" stroke=\"black\" d=\"M1163.9,-441.77C1172.41,-430.55 1181.73,-418.27 1190.28,-407\"/>\n",
       "<polygon fill=\"black\" stroke=\"black\" points=\"1193.09,-409.09 1196.35,-399.01 1187.52,-404.86 1193.09,-409.09\"/>\n",
       "</g>\n",
       "<!-- 21 -->\n",
       "<g id=\"node22\" class=\"node\">\n",
       "<title>21</title>\n",
       "<path fill=\"#eda876\" stroke=\"black\" d=\"M1459.11,-406C1459.11,-406 1318.65,-406 1318.65,-406 1312.65,-406 1306.65,-400 1306.65,-394 1306.65,-394 1306.65,-340 1306.65,-340 1306.65,-334 1312.65,-328 1318.65,-328 1318.65,-328 1459.11,-328 1459.11,-328 1465.11,-328 1471.11,-334 1471.11,-340 1471.11,-340 1471.11,-394 1471.11,-394 1471.11,-400 1465.11,-406 1459.11,-406\"/>\n",
       "<text text-anchor=\"start\" x=\"1322.78\" y=\"-390.8\" font-family=\"Helvetica,sans-Serif\" font-size=\"14.00\">sellerRating ≤ 1969.0</text>\n",
       "<text text-anchor=\"start\" x=\"1352.49\" y=\"-376.8\" font-family=\"Helvetica,sans-Serif\" font-size=\"14.00\">gini = 0.361</text>\n",
       "<text text-anchor=\"start\" x=\"1343.16\" y=\"-362.8\" font-family=\"Helvetica,sans-Serif\" font-size=\"14.00\">samples = 216</text>\n",
       "<text text-anchor=\"start\" x=\"1336.93\" y=\"-348.8\" font-family=\"Helvetica,sans-Serif\" font-size=\"14.00\">value = [165, 51]</text>\n",
       "<text text-anchor=\"start\" x=\"1314.77\" y=\"-334.8\" font-family=\"Helvetica,sans-Serif\" font-size=\"14.00\">class = Non competitive</text>\n",
       "</g>\n",
       "<!-- 20&#45;&gt;21 -->\n",
       "<g id=\"edge21\" class=\"edge\">\n",
       "<title>20&#45;&gt;21</title>\n",
       "<path fill=\"none\" stroke=\"black\" d=\"M1388.88,-441.77C1388.88,-433.57 1388.88,-424.8 1388.88,-416.28\"/>\n",
       "<polygon fill=\"black\" stroke=\"black\" points=\"1392.38,-416.06 1388.88,-406.06 1385.38,-416.06 1392.38,-416.06\"/>\n",
       "</g>\n",
       "<!-- 26 -->\n",
       "<g id=\"node27\" class=\"node\">\n",
       "<title>26</title>\n",
       "<path fill=\"#f3c6a6\" stroke=\"black\" d=\"M1641.11,-406C1641.11,-406 1500.65,-406 1500.65,-406 1494.65,-406 1488.65,-400 1488.65,-394 1488.65,-394 1488.65,-340 1488.65,-340 1488.65,-334 1494.65,-328 1500.65,-328 1500.65,-328 1641.11,-328 1641.11,-328 1647.11,-328 1653.11,-334 1653.11,-340 1653.11,-340 1653.11,-394 1653.11,-394 1653.11,-400 1647.11,-406 1641.11,-406\"/>\n",
       "<text text-anchor=\"start\" x=\"1513.08\" y=\"-390.8\" font-family=\"Helvetica,sans-Serif\" font-size=\"14.00\">OpenPrice ≤ 11.03</text>\n",
       "<text text-anchor=\"start\" x=\"1534.49\" y=\"-376.8\" font-family=\"Helvetica,sans-Serif\" font-size=\"14.00\">gini = 0.458</text>\n",
       "<text text-anchor=\"start\" x=\"1525.16\" y=\"-362.8\" font-family=\"Helvetica,sans-Serif\" font-size=\"14.00\">samples = 254</text>\n",
       "<text text-anchor=\"start\" x=\"1518.93\" y=\"-348.8\" font-family=\"Helvetica,sans-Serif\" font-size=\"14.00\">value = [164, 90]</text>\n",
       "<text text-anchor=\"start\" x=\"1496.77\" y=\"-334.8\" font-family=\"Helvetica,sans-Serif\" font-size=\"14.00\">class = Non competitive</text>\n",
       "</g>\n",
       "<!-- 20&#45;&gt;26 -->\n",
       "<g id=\"edge26\" class=\"edge\">\n",
       "<title>20&#45;&gt;26</title>\n",
       "<path fill=\"none\" stroke=\"black\" d=\"M1450.76,-441.93C1466.58,-432.19 1483.72,-421.64 1499.96,-411.65\"/>\n",
       "<polygon fill=\"black\" stroke=\"black\" points=\"1502.19,-414.38 1508.88,-406.16 1498.52,-408.42 1502.19,-414.38\"/>\n",
       "</g>\n",
       "<!-- 22 -->\n",
       "<g id=\"node23\" class=\"node\">\n",
       "<title>22</title>\n",
       "<path fill=\"#ea985d\" stroke=\"black\" d=\"M1280.11,-285C1280.11,-285 1139.65,-285 1139.65,-285 1133.65,-285 1127.65,-279 1127.65,-273 1127.65,-273 1127.65,-233 1127.65,-233 1127.65,-227 1133.65,-221 1139.65,-221 1139.65,-221 1280.11,-221 1280.11,-221 1286.11,-221 1292.11,-227 1292.11,-233 1292.11,-233 1292.11,-273 1292.11,-273 1292.11,-279 1286.11,-285 1280.11,-285\"/>\n",
       "<text text-anchor=\"start\" x=\"1173.49\" y=\"-269.8\" font-family=\"Helvetica,sans-Serif\" font-size=\"14.00\">gini = 0.259</text>\n",
       "<text text-anchor=\"start\" x=\"1168.06\" y=\"-255.8\" font-family=\"Helvetica,sans-Serif\" font-size=\"14.00\">samples = 98</text>\n",
       "<text text-anchor=\"start\" x=\"1161.82\" y=\"-241.8\" font-family=\"Helvetica,sans-Serif\" font-size=\"14.00\">value = [83, 15]</text>\n",
       "<text text-anchor=\"start\" x=\"1135.77\" y=\"-227.8\" font-family=\"Helvetica,sans-Serif\" font-size=\"14.00\">class = Non competitive</text>\n",
       "</g>\n",
       "<!-- 21&#45;&gt;22 -->\n",
       "<g id=\"edge22\" class=\"edge\">\n",
       "<title>21&#45;&gt;22</title>\n",
       "<path fill=\"none\" stroke=\"black\" d=\"M1328.03,-327.93C1308.7,-315.83 1287.37,-302.48 1268.21,-290.5\"/>\n",
       "<polygon fill=\"black\" stroke=\"black\" points=\"1269.91,-287.43 1259.58,-285.09 1266.2,-293.37 1269.91,-287.43\"/>\n",
       "</g>\n",
       "<!-- 23 -->\n",
       "<g id=\"node24\" class=\"node\">\n",
       "<title>23</title>\n",
       "<path fill=\"#f0b890\" stroke=\"black\" d=\"M1462.11,-292C1462.11,-292 1321.65,-292 1321.65,-292 1315.65,-292 1309.65,-286 1309.65,-280 1309.65,-280 1309.65,-226 1309.65,-226 1309.65,-220 1315.65,-214 1321.65,-214 1321.65,-214 1462.11,-214 1462.11,-214 1468.11,-214 1474.11,-220 1474.11,-226 1474.11,-226 1474.11,-280 1474.11,-280 1474.11,-286 1468.11,-292 1462.11,-292\"/>\n",
       "<text text-anchor=\"start\" x=\"1325.78\" y=\"-276.8\" font-family=\"Helvetica,sans-Serif\" font-size=\"14.00\">sellerRating ≤ 4127.0</text>\n",
       "<text text-anchor=\"start\" x=\"1355.49\" y=\"-262.8\" font-family=\"Helvetica,sans-Serif\" font-size=\"14.00\">gini = 0.424</text>\n",
       "<text text-anchor=\"start\" x=\"1346.68\" y=\"-248.8\" font-family=\"Helvetica,sans-Serif\" font-size=\"14.00\">samples = 118</text>\n",
       "<text text-anchor=\"start\" x=\"1343.82\" y=\"-234.8\" font-family=\"Helvetica,sans-Serif\" font-size=\"14.00\">value = [82, 36]</text>\n",
       "<text text-anchor=\"start\" x=\"1317.77\" y=\"-220.8\" font-family=\"Helvetica,sans-Serif\" font-size=\"14.00\">class = Non competitive</text>\n",
       "</g>\n",
       "<!-- 21&#45;&gt;23 -->\n",
       "<g id=\"edge23\" class=\"edge\">\n",
       "<title>21&#45;&gt;23</title>\n",
       "<path fill=\"none\" stroke=\"black\" d=\"M1389.91,-327.77C1390.13,-319.57 1390.36,-310.8 1390.59,-302.28\"/>\n",
       "<polygon fill=\"black\" stroke=\"black\" points=\"1394.1,-302.15 1390.86,-292.06 1387.1,-301.96 1394.1,-302.15\"/>\n",
       "</g>\n",
       "<!-- 24 -->\n",
       "<g id=\"node25\" class=\"node\">\n",
       "<title>24</title>\n",
       "<path fill=\"#f3c4a3\" stroke=\"black\" d=\"M1318.11,-171C1318.11,-171 1177.65,-171 1177.65,-171 1171.65,-171 1165.65,-165 1165.65,-159 1165.65,-159 1165.65,-119 1165.65,-119 1165.65,-113 1171.65,-107 1177.65,-107 1177.65,-107 1318.11,-107 1318.11,-107 1324.11,-107 1330.11,-113 1330.11,-119 1330.11,-119 1330.11,-159 1330.11,-159 1330.11,-165 1324.11,-171 1318.11,-171\"/>\n",
       "<text text-anchor=\"start\" x=\"1211.49\" y=\"-155.8\" font-family=\"Helvetica,sans-Serif\" font-size=\"14.00\">gini = 0.454</text>\n",
       "<text text-anchor=\"start\" x=\"1206.06\" y=\"-141.8\" font-family=\"Helvetica,sans-Serif\" font-size=\"14.00\">samples = 66</text>\n",
       "<text text-anchor=\"start\" x=\"1199.82\" y=\"-127.8\" font-family=\"Helvetica,sans-Serif\" font-size=\"14.00\">value = [43, 23]</text>\n",
       "<text text-anchor=\"start\" x=\"1173.77\" y=\"-113.8\" font-family=\"Helvetica,sans-Serif\" font-size=\"14.00\">class = Non competitive</text>\n",
       "</g>\n",
       "<!-- 23&#45;&gt;24 -->\n",
       "<g id=\"edge24\" class=\"edge\">\n",
       "<title>23&#45;&gt;24</title>\n",
       "<path fill=\"none\" stroke=\"black\" d=\"M1342.73,-213.77C1327.61,-202.01 1310.98,-189.08 1295.93,-177.37\"/>\n",
       "<polygon fill=\"black\" stroke=\"black\" points=\"1297.8,-174.39 1287.75,-171.01 1293.5,-179.91 1297.8,-174.39\"/>\n",
       "</g>\n",
       "<!-- 25 -->\n",
       "<g id=\"node26\" class=\"node\">\n",
       "<title>25</title>\n",
       "<path fill=\"#eeab7b\" stroke=\"black\" d=\"M1500.11,-171C1500.11,-171 1359.65,-171 1359.65,-171 1353.65,-171 1347.65,-165 1347.65,-159 1347.65,-159 1347.65,-119 1347.65,-119 1347.65,-113 1353.65,-107 1359.65,-107 1359.65,-107 1500.11,-107 1500.11,-107 1506.11,-107 1512.11,-113 1512.11,-119 1512.11,-119 1512.11,-159 1512.11,-159 1512.11,-165 1506.11,-171 1500.11,-171\"/>\n",
       "<text text-anchor=\"start\" x=\"1393.49\" y=\"-155.8\" font-family=\"Helvetica,sans-Serif\" font-size=\"14.00\">gini = 0.375</text>\n",
       "<text text-anchor=\"start\" x=\"1388.06\" y=\"-141.8\" font-family=\"Helvetica,sans-Serif\" font-size=\"14.00\">samples = 52</text>\n",
       "<text text-anchor=\"start\" x=\"1381.82\" y=\"-127.8\" font-family=\"Helvetica,sans-Serif\" font-size=\"14.00\">value = [39, 13]</text>\n",
       "<text text-anchor=\"start\" x=\"1355.77\" y=\"-113.8\" font-family=\"Helvetica,sans-Serif\" font-size=\"14.00\">class = Non competitive</text>\n",
       "</g>\n",
       "<!-- 23&#45;&gt;25 -->\n",
       "<g id=\"edge25\" class=\"edge\">\n",
       "<title>23&#45;&gt;25</title>\n",
       "<path fill=\"none\" stroke=\"black\" d=\"M1404.86,-213.77C1408.48,-203.1 1412.42,-191.46 1416.09,-180.65\"/>\n",
       "<polygon fill=\"black\" stroke=\"black\" points=\"1419.46,-181.6 1419.36,-171.01 1412.84,-179.36 1419.46,-181.6\"/>\n",
       "</g>\n",
       "<!-- 27 -->\n",
       "<g id=\"node28\" class=\"node\">\n",
       "<title>27</title>\n",
       "<path fill=\"#baddf6\" stroke=\"black\" d=\"M1621.65,-285C1621.65,-285 1508.12,-285 1508.12,-285 1502.12,-285 1496.12,-279 1496.12,-273 1496.12,-273 1496.12,-233 1496.12,-233 1496.12,-227 1502.12,-221 1508.12,-221 1508.12,-221 1621.65,-221 1621.65,-221 1627.65,-221 1633.65,-227 1633.65,-233 1633.65,-233 1633.65,-273 1633.65,-273 1633.65,-279 1627.65,-285 1621.65,-285\"/>\n",
       "<text text-anchor=\"start\" x=\"1528.49\" y=\"-269.8\" font-family=\"Helvetica,sans-Serif\" font-size=\"14.00\">gini = 0.478</text>\n",
       "<text text-anchor=\"start\" x=\"1523.06\" y=\"-255.8\" font-family=\"Helvetica,sans-Serif\" font-size=\"14.00\">samples = 66</text>\n",
       "<text text-anchor=\"start\" x=\"1516.82\" y=\"-241.8\" font-family=\"Helvetica,sans-Serif\" font-size=\"14.00\">value = [26, 40]</text>\n",
       "<text text-anchor=\"start\" x=\"1504\" y=\"-227.8\" font-family=\"Helvetica,sans-Serif\" font-size=\"14.00\">class = Competitive</text>\n",
       "</g>\n",
       "<!-- 26&#45;&gt;27 -->\n",
       "<g id=\"edge27\" class=\"edge\">\n",
       "<title>26&#45;&gt;27</title>\n",
       "<path fill=\"none\" stroke=\"black\" d=\"M1568.84,-327.77C1568.28,-317.31 1567.67,-305.94 1567.1,-295.32\"/>\n",
       "<polygon fill=\"black\" stroke=\"black\" points=\"1570.58,-294.81 1566.55,-285.01 1563.59,-295.18 1570.58,-294.81\"/>\n",
       "</g>\n",
       "<!-- 28 -->\n",
       "<g id=\"node29\" class=\"node\">\n",
       "<title>28</title>\n",
       "<path fill=\"#eeaf81\" stroke=\"black\" d=\"M1804.11,-292C1804.11,-292 1663.65,-292 1663.65,-292 1657.65,-292 1651.65,-286 1651.65,-280 1651.65,-280 1651.65,-226 1651.65,-226 1651.65,-220 1657.65,-214 1663.65,-214 1663.65,-214 1804.11,-214 1804.11,-214 1810.11,-214 1816.11,-220 1816.11,-226 1816.11,-226 1816.11,-280 1816.11,-280 1816.11,-286 1810.11,-292 1804.11,-292\"/>\n",
       "<text text-anchor=\"start\" x=\"1667.78\" y=\"-276.8\" font-family=\"Helvetica,sans-Serif\" font-size=\"14.00\">sellerRating ≤ 1691.0</text>\n",
       "<text text-anchor=\"start\" x=\"1701.39\" y=\"-262.8\" font-family=\"Helvetica,sans-Serif\" font-size=\"14.00\">gini = 0.39</text>\n",
       "<text text-anchor=\"start\" x=\"1688.16\" y=\"-248.8\" font-family=\"Helvetica,sans-Serif\" font-size=\"14.00\">samples = 188</text>\n",
       "<text text-anchor=\"start\" x=\"1681.93\" y=\"-234.8\" font-family=\"Helvetica,sans-Serif\" font-size=\"14.00\">value = [138, 50]</text>\n",
       "<text text-anchor=\"start\" x=\"1659.77\" y=\"-220.8\" font-family=\"Helvetica,sans-Serif\" font-size=\"14.00\">class = Non competitive</text>\n",
       "</g>\n",
       "<!-- 26&#45;&gt;28 -->\n",
       "<g id=\"edge28\" class=\"edge\">\n",
       "<title>26&#45;&gt;28</title>\n",
       "<path fill=\"none\" stroke=\"black\" d=\"M1626.52,-327.77C1640.56,-318.13 1655.73,-307.7 1670.12,-297.81\"/>\n",
       "<polygon fill=\"black\" stroke=\"black\" points=\"1672.24,-300.61 1678.5,-292.06 1668.27,-294.84 1672.24,-300.61\"/>\n",
       "</g>\n",
       "<!-- 29 -->\n",
       "<g id=\"node30\" class=\"node\">\n",
       "<title>29</title>\n",
       "<path fill=\"#eb9c63\" stroke=\"black\" d=\"M1766.11,-171C1766.11,-171 1625.65,-171 1625.65,-171 1619.65,-171 1613.65,-165 1613.65,-159 1613.65,-159 1613.65,-119 1613.65,-119 1613.65,-113 1619.65,-107 1625.65,-107 1625.65,-107 1766.11,-107 1766.11,-107 1772.11,-107 1778.11,-113 1778.11,-119 1778.11,-119 1778.11,-159 1778.11,-159 1778.11,-165 1772.11,-171 1766.11,-171\"/>\n",
       "<text text-anchor=\"start\" x=\"1659.49\" y=\"-155.8\" font-family=\"Helvetica,sans-Serif\" font-size=\"14.00\">gini = 0.291</text>\n",
       "<text text-anchor=\"start\" x=\"1654.06\" y=\"-141.8\" font-family=\"Helvetica,sans-Serif\" font-size=\"14.00\">samples = 51</text>\n",
       "<text text-anchor=\"start\" x=\"1651.71\" y=\"-127.8\" font-family=\"Helvetica,sans-Serif\" font-size=\"14.00\">value = [42, 9]</text>\n",
       "<text text-anchor=\"start\" x=\"1621.77\" y=\"-113.8\" font-family=\"Helvetica,sans-Serif\" font-size=\"14.00\">class = Non competitive</text>\n",
       "</g>\n",
       "<!-- 28&#45;&gt;29 -->\n",
       "<g id=\"edge29\" class=\"edge\">\n",
       "<title>28&#45;&gt;29</title>\n",
       "<path fill=\"none\" stroke=\"black\" d=\"M1720.91,-213.77C1717.29,-203.1 1713.34,-191.46 1709.68,-180.65\"/>\n",
       "<polygon fill=\"black\" stroke=\"black\" points=\"1712.93,-179.36 1706.41,-171.01 1706.3,-181.6 1712.93,-179.36\"/>\n",
       "</g>\n",
       "<!-- 30 -->\n",
       "<g id=\"node31\" class=\"node\">\n",
       "<title>30</title>\n",
       "<path fill=\"#f0b78e\" stroke=\"black\" d=\"M1948.11,-178C1948.11,-178 1807.65,-178 1807.65,-178 1801.65,-178 1795.65,-172 1795.65,-166 1795.65,-166 1795.65,-112 1795.65,-112 1795.65,-106 1801.65,-100 1807.65,-100 1807.65,-100 1948.11,-100 1948.11,-100 1954.11,-100 1960.11,-106 1960.11,-112 1960.11,-112 1960.11,-166 1960.11,-166 1960.11,-172 1954.11,-178 1948.11,-178\"/>\n",
       "<text text-anchor=\"start\" x=\"1811.78\" y=\"-162.8\" font-family=\"Helvetica,sans-Serif\" font-size=\"14.00\">sellerRating ≤ 4001.5</text>\n",
       "<text text-anchor=\"start\" x=\"1841.49\" y=\"-148.8\" font-family=\"Helvetica,sans-Serif\" font-size=\"14.00\">gini = 0.419</text>\n",
       "<text text-anchor=\"start\" x=\"1832.16\" y=\"-134.8\" font-family=\"Helvetica,sans-Serif\" font-size=\"14.00\">samples = 137</text>\n",
       "<text text-anchor=\"start\" x=\"1829.82\" y=\"-120.8\" font-family=\"Helvetica,sans-Serif\" font-size=\"14.00\">value = [96, 41]</text>\n",
       "<text text-anchor=\"start\" x=\"1803.77\" y=\"-106.8\" font-family=\"Helvetica,sans-Serif\" font-size=\"14.00\">class = Non competitive</text>\n",
       "</g>\n",
       "<!-- 28&#45;&gt;30 -->\n",
       "<g id=\"edge30\" class=\"edge\">\n",
       "<title>28&#45;&gt;30</title>\n",
       "<path fill=\"none\" stroke=\"black\" d=\"M1783.04,-213.77C1795.2,-204.31 1808.34,-194.09 1820.84,-184.37\"/>\n",
       "<polygon fill=\"black\" stroke=\"black\" points=\"1823.21,-186.96 1828.95,-178.06 1818.91,-181.44 1823.21,-186.96\"/>\n",
       "</g>\n",
       "<!-- 31 -->\n",
       "<g id=\"node32\" class=\"node\">\n",
       "<title>31</title>\n",
       "<path fill=\"#f6d4bb\" stroke=\"black\" d=\"M1857.11,-64C1857.11,-64 1716.65,-64 1716.65,-64 1710.65,-64 1704.65,-58 1704.65,-52 1704.65,-52 1704.65,-12 1704.65,-12 1704.65,-6 1710.65,0 1716.65,0 1716.65,0 1857.11,0 1857.11,0 1863.11,0 1869.11,-6 1869.11,-12 1869.11,-12 1869.11,-52 1869.11,-52 1869.11,-58 1863.11,-64 1857.11,-64\"/>\n",
       "<text text-anchor=\"start\" x=\"1750.49\" y=\"-48.8\" font-family=\"Helvetica,sans-Serif\" font-size=\"14.00\">gini = 0.479</text>\n",
       "<text text-anchor=\"start\" x=\"1745.06\" y=\"-34.8\" font-family=\"Helvetica,sans-Serif\" font-size=\"14.00\">samples = 58</text>\n",
       "<text text-anchor=\"start\" x=\"1738.82\" y=\"-20.8\" font-family=\"Helvetica,sans-Serif\" font-size=\"14.00\">value = [35, 23]</text>\n",
       "<text text-anchor=\"start\" x=\"1712.77\" y=\"-6.8\" font-family=\"Helvetica,sans-Serif\" font-size=\"14.00\">class = Non competitive</text>\n",
       "</g>\n",
       "<!-- 30&#45;&gt;31 -->\n",
       "<g id=\"edge31\" class=\"edge\">\n",
       "<title>30&#45;&gt;31</title>\n",
       "<path fill=\"none\" stroke=\"black\" d=\"M1844.77,-99.8C1836.91,-90.73 1828.52,-81.04 1820.63,-71.94\"/>\n",
       "<polygon fill=\"black\" stroke=\"black\" points=\"1823.05,-69.38 1813.85,-64.12 1817.76,-73.97 1823.05,-69.38\"/>\n",
       "</g>\n",
       "<!-- 32 -->\n",
       "<g id=\"node33\" class=\"node\">\n",
       "<title>32</title>\n",
       "<path fill=\"#eda673\" stroke=\"black\" d=\"M2039.11,-64C2039.11,-64 1898.65,-64 1898.65,-64 1892.65,-64 1886.65,-58 1886.65,-52 1886.65,-52 1886.65,-12 1886.65,-12 1886.65,-6 1892.65,0 1898.65,0 1898.65,0 2039.11,0 2039.11,0 2045.11,0 2051.11,-6 2051.11,-12 2051.11,-12 2051.11,-52 2051.11,-52 2051.11,-58 2045.11,-64 2039.11,-64\"/>\n",
       "<text text-anchor=\"start\" x=\"1932.49\" y=\"-48.8\" font-family=\"Helvetica,sans-Serif\" font-size=\"14.00\">gini = 0.352</text>\n",
       "<text text-anchor=\"start\" x=\"1927.06\" y=\"-34.8\" font-family=\"Helvetica,sans-Serif\" font-size=\"14.00\">samples = 79</text>\n",
       "<text text-anchor=\"start\" x=\"1920.82\" y=\"-20.8\" font-family=\"Helvetica,sans-Serif\" font-size=\"14.00\">value = [61, 18]</text>\n",
       "<text text-anchor=\"start\" x=\"1894.77\" y=\"-6.8\" font-family=\"Helvetica,sans-Serif\" font-size=\"14.00\">class = Non competitive</text>\n",
       "</g>\n",
       "<!-- 30&#45;&gt;32 -->\n",
       "<g id=\"edge32\" class=\"edge\">\n",
       "<title>30&#45;&gt;32</title>\n",
       "<path fill=\"none\" stroke=\"black\" d=\"M1910.99,-99.8C1918.86,-90.73 1927.25,-81.04 1935.14,-71.94\"/>\n",
       "<polygon fill=\"black\" stroke=\"black\" points=\"1938.01,-73.97 1941.92,-64.12 1932.72,-69.38 1938.01,-73.97\"/>\n",
       "</g>\n",
       "</g>\n",
       "</svg>\n"
      ],
      "text/plain": [
       "<graphviz.sources.Source at 0x7f979cf84640>"
      ]
     },
     "execution_count": 45,
     "metadata": {},
     "output_type": "execute_result"
    }
   ],
   "source": [
    "dot_data = export_graphviz(predClassTree, \n",
    "                  feature_names=df[final_columns].drop(\"Competitive?\", axis = 1).columns.tolist(),  \n",
    "                  class_names=[\"Non competitive\", \"Competitive\"],  \n",
    "                  filled=True, rounded=True,  \n",
    "                  special_characters=True,\n",
    "                   out_file=None,\n",
    "                           )\n",
    "graph = graphviz.Source(dot_data)\n",
    "graph"
   ]
  },
  {
   "cell_type": "markdown",
   "id": "8ed0b5bc-c5cf-4556-84fe-318cc5687a59",
   "metadata": {},
   "source": [
    "# 8) Plot the resulting tree on a scatter plot: Use the two axes for the two best (quantitative) predictors. Each auction will appear as a point, with coordinates corresponding to its values on those two predictors. Use different colors or symbols to separate competitive and non-competitive auctions. Draw lines (you can sketch these by hand) at the values that create splits.  "
   ]
  },
  {
   "cell_type": "code",
   "execution_count": 46,
   "id": "ef80260b-ed1c-482b-b7ea-5ffa7e955415",
   "metadata": {},
   "outputs": [
    {
     "data": {
      "text/plain": [
       "<AxesSubplot:xlabel='Competitive?', ylabel='OpenPrice'>"
      ]
     },
     "execution_count": 46,
     "metadata": {},
     "output_type": "execute_result"
    },
    {
     "data": {
      "image/png": "[encoded data removed]",
      "text/plain": [
       "<Figure size 432x288 with 1 Axes>"
      ]
     },
     "metadata": {
      "needs_background": "light"
     },
     "output_type": "display_data"
    }
   ],
   "source": [
    "sns.boxplot(data=df, x='Competitive?', y='OpenPrice')"
   ]
  },
  {
   "cell_type": "code",
   "execution_count": 47,
   "id": "c0c5c73a-49e2-4126-adba-a9f1501d323e",
   "metadata": {},
   "outputs": [
    {
     "data": {
      "text/plain": [
       "<AxesSubplot:xlabel='Competitive?', ylabel='sellerRating'>"
      ]
     },
     "execution_count": 47,
     "metadata": {},
     "output_type": "execute_result"
    },
    {
     "data": {
      "image/png": "[encoded data removed]",
      "text/plain": [
       "<Figure size 432x288 with 1 Axes>"
      ]
     },
     "metadata": {
      "needs_background": "light"
     },
     "output_type": "display_data"
    }
   ],
   "source": [
    "sns.boxplot(data=df, x='Competitive?', y='sellerRating')"
   ]
  },
  {
   "cell_type": "code",
   "execution_count": 48,
   "id": "25c49609-6b8c-46b5-819c-4103756532f2",
   "metadata": {},
   "outputs": [
    {
     "data": {
      "text/plain": [
       "<AxesSubplot:xlabel='OpenPrice', ylabel='sellerRating'>"
      ]
     },
     "execution_count": 48,
     "metadata": {},
     "output_type": "execute_result"
    },
    {
     "data": {
      "image/png": "[encoded data removed]",
      "text/plain": [
       "<Figure size 432x288 with 1 Axes>"
      ]
     },
     "metadata": {
      "needs_background": "light"
     },
     "output_type": "display_data"
    }
   ],
   "source": [
    "sns.scatterplot(x = df[\"OpenPrice\"], y = df[\"sellerRating\"], hue = df[\"Competitive?\"])"
   ]
  },
  {
   "cell_type": "markdown",
   "id": "abb26d48-4625-4523-9ebf-1f106cc9d0b2",
   "metadata": {},
   "source": [
    "# 9) Does this splitting seem reasonable with respect to the meaning of the two predictors? Does it seem to do a good job of separating the two classes? "
   ]
  },
  {
   "cell_type": "markdown",
   "id": "6966587d-26ba-429b-9420-8a5cd142ace3",
   "metadata": {},
   "source": [
    "The splitting suggests that lower priced auctions from lower related sellers are more likely to be competitive. It sounds reasonable for the OpenPrice variable. Auctions with a lower opening price may be motivating people to bid as the initial bidding prices will be low. Also, as a result, there is still room to continue bidding and this can incentivate more bidders to compete. On the other hand, if the price is too high and there is less room to continue bidding, not many buyers may find the auction atractive. \n",
    "\n",
    "Regarding the seller rating, the interpretation is not at all clear as there is some ambiguity related to the cosntruction of the index. \n",
    "\n",
    "Also, from the graphical analysis, we can see that when using only these two features it will be difficult to generate pure nodes. "
   ]
  },
  {
   "cell_type": "markdown",
   "id": "2d965acc-cd57-4646-b4b8-0a2171212456",
   "metadata": {},
   "source": [
    "# 10) Examine the classification table for the tree. What can you say about the predictive performance of this model? "
   ]
  },
  {
   "cell_type": "code",
   "execution_count": 49,
   "id": "62767c6f-6386-4bbc-8679-48fbd0f3a108",
   "metadata": {},
   "outputs": [
    {
     "name": "stdout",
     "output_type": "stream",
     "text": [
      "Confusion Matrix (Accuracy 0.7393)\n",
      "\n",
      "       Prediction\n",
      "Actual   0   1\n",
      "     0 371 156\n",
      "     1 149 494\n"
     ]
    }
   ],
   "source": [
    "classificationSummary(y_train, predClassTree.predict(X_train))"
   ]
  },
  {
   "cell_type": "code",
   "execution_count": 50,
   "id": "d901f25f-d3cf-4c99-87cf-81203ecdc25e",
   "metadata": {},
   "outputs": [
    {
     "name": "stdout",
     "output_type": "stream",
     "text": [
      "Confusion Matrix (Accuracy 0.7157)\n",
      "\n",
      "       Prediction\n",
      "Actual   0   1\n",
      "     0 263 104\n",
      "     1 118 296\n"
     ]
    }
   ],
   "source": [
    "classificationSummary(y_test, predClassTree.predict(X_test))"
   ]
  },
  {
   "cell_type": "code",
   "execution_count": 51,
   "id": "aef476e5-f8a2-4e7a-8e75-6d1bd45d8b1e",
   "metadata": {},
   "outputs": [
    {
     "name": "stdout",
     "output_type": "stream",
     "text": [
      "Normalized confusion matrix\n",
      "[[0.7  0.3 ]\n",
      " [0.23 0.77]]\n"
     ]
    },
    {
     "data": {
      "image/png": "[encoded data removed]",
      "text/plain": [
       "<Figure size 432x288 with 2 Axes>"
      ]
     },
     "metadata": {
      "needs_background": "light"
     },
     "output_type": "display_data"
    }
   ],
   "source": [
    "# Compute confusion matrix\n",
    "cnf_matrix = confusion_matrix(y_train, predClassTree.predict(X_train))\n",
    "np.set_printoptions(precision=2)\n",
    "# Plot normalized confusion matrix\n",
    "plot_confusion_matrix_2(cnf_matrix, normalize=True)"
   ]
  },
  {
   "cell_type": "code",
   "execution_count": 52,
   "id": "04028263-c217-4e30-899b-451c294e0344",
   "metadata": {},
   "outputs": [
    {
     "name": "stdout",
     "output_type": "stream",
     "text": [
      "Normalized confusion matrix\n",
      "[[0.72 0.28]\n",
      " [0.29 0.71]]\n"
     ]
    },
    {
     "data": {
      "image/png": "[encoded data removed]",
      "text/plain": [
       "<Figure size 432x288 with 2 Axes>"
      ]
     },
     "metadata": {
      "needs_background": "light"
     },
     "output_type": "display_data"
    }
   ],
   "source": [
    "# Compute confusion matrix\n",
    "cnf_matrix = confusion_matrix(y_test, predClassTree.predict(X_test))\n",
    "np.set_printoptions(precision=2)\n",
    "# Plot normalized confusion matrix\n",
    "plot_confusion_matrix_2(cnf_matrix, normalize=True)"
   ]
  },
  {
   "cell_type": "markdown",
   "id": "b931fe0b-1add-454e-a283-ba2873614270",
   "metadata": {},
   "source": [
    "# 11) Based on this last tree, what can you conclude from these data about the chances of an auction obtaining at least two bids and its relationship to the auction settings set by the seller (duration, opening price, ending day, currency)?  "
   ]
  },
  {
   "cell_type": "markdown",
   "id": "249c518c-1e16-45fc-b330-9be72eb09bdd",
   "metadata": {},
   "source": [
    "Auctions with a low opening price, short durations and from lower rated sellers are more likely to be competitive. \n",
    "Not much to say about ending day and currency."
   ]
  },
  {
   "cell_type": "markdown",
   "id": "825e0c0b-2f65-4294-9e89-a3a1a0980bf3",
   "metadata": {},
   "source": [
    "# 12) What would you recommend for a seller as the strategy that will most likely lead to a competitive auction? "
   ]
  },
  {
   "cell_type": "markdown",
   "id": "e40565f6-94d8-43a2-afb9-0d80b185e1f0",
   "metadata": {},
   "source": [
    "Auctions with a low opening price, short durations and from lower rated sellers are more likely to be competitive. "
   ]
  }
 ],
 "metadata": {
  "kernelspec": {
   "display_name": "Python 3 (ipykernel)",
   "language": "python",
   "name": "python3"
  },
  "language_info": {
   "codemirror_mode": {
    "name": "ipython",
    "version": 3
   },
   "file_extension": ".py",
   "mimetype": "text/x-python",
   "name": "python",
   "nbconvert_exporter": "python",
   "pygments_lexer": "ipython3",
   "version": "3.9.12"
  }
 },
 "nbformat": 4,
 "nbformat_minor": 5
}
